{
 "cells": [
  {
   "cell_type": "code",
   "execution_count": 29,
   "metadata": {},
   "outputs": [],
   "source": [
    "%matplotlib inline\n",
    "import shutil, os, sys, glob\n",
    "import numpy as np\n",
    "from matplotlib import pyplot as plt\n",
    "import ipyvolume as ipv\n",
    "#\n",
    "sys.path.append('/home/fpoitevi/notebooks/cryo_home/slaclab/cryoEM-notebooks/src/')\n",
    "import cryoemio\n",
    "import imutils\n",
    "import dataviz\n",
    "import mrcutils"
   ]
  },
  {
   "cell_type": "markdown",
   "metadata": {},
   "source": [
    "# some useful paths and parameters"
   ]
  },
  {
   "cell_type": "code",
   "execution_count": 2,
   "metadata": {},
   "outputs": [],
   "source": [
    "input_dir = '/gpfs/slac/cryo/fs1/g/ML/cryoEM-notebooks/data/20181005-rib-TEM4/LocalRes/bin2_of_bin6mb_B_fscw'\n",
    "body_dir  = '/gpfs/slac/cryo/fs1/g/ML/cryoEM-notebooks/data/20181005-rib-TEM4/bodymaker/bin2_of_bin6mb_B_fscw'\n",
    "# files\n",
    "keyword='bodies_bin2_of_bin6_mbB_'\n",
    "#mrc2diffpy   = bin_dir+'/mrc2diff.py'\n",
    "#mrc2segpy    = bin_dir+'/mrc2seg.py'\n",
    "input_mrc    = input_dir+'/relion_locres_filtered.mrc'\n",
    "output_mrc   = body_dir+'/'+keyword+'diff.mrc'\n",
    "output_seg   = body_dir+'/'+keyword+'seg.mrc'\n",
    "output_mask  = body_dir+'/'+keyword\n",
    "# parameters\n",
    "std_lo = 1\n",
    "std_hi = 3\n",
    "sigma_lopass = 4\n",
    "presegger_sdLevel  = 3\n",
    "segger_nsteps   = 4\n",
    "segger_stepsize = 2\n",
    "segger_minregionsize = 100\n",
    "segger_mincontactsize = 5\n",
    "mask_blur = 2.0\n",
    "#"
   ]
  },
  {
   "cell_type": "markdown",
   "metadata": {},
   "source": [
    "# load map and retrieve standard deviation"
   ]
  },
  {
   "cell_type": "code",
   "execution_count": 3,
   "metadata": {},
   "outputs": [
    {
     "name": "stdout",
     "output_type": "stream",
     "text": [
      "0.024938045\n"
     ]
    }
   ],
   "source": [
    "data = mrcutils.mrc2data(input_mrc)\n",
    "input_std = np.std(data)\n",
    "print(input_std)"
   ]
  },
  {
   "cell_type": "markdown",
   "metadata": {},
   "source": [
    "# visualize effect of thresholding"
   ]
  },
  {
   "cell_type": "code",
   "execution_count": 5,
   "metadata": {},
   "outputs": [],
   "source": [
    "data_thresh = mrcutils.mrc_select(input_mrc, mode='above_value', value=1*input_std)"
   ]
  },
  {
   "cell_type": "code",
   "execution_count": 13,
   "metadata": {},
   "outputs": [
    {
     "data": {
      "application/vnd.jupyter.widget-view+json": {
       "model_id": "68361d483b944388a3c3deebf71ae77f",
       "version_major": 2,
       "version_minor": 0
      },
      "text/plain": [
       "VBox(children=(VBox(children=(HBox(children=(Label(value='levels:'), FloatSlider(value=0.02493804506957531, ma…"
      ]
     },
     "metadata": {},
     "output_type": "display_data"
    }
   ],
   "source": [
    "ipv.quickvolshow(data_thresh, level=[1*input_std, 3*input_std], opacity=0.03, level_width=1*input_std, data_min=np.min(data_thresh), data_max=np.max(data_thresh))"
   ]
  },
  {
   "cell_type": "markdown",
   "metadata": {},
   "source": [
    "# visualize effect of binarizing"
   ]
  },
  {
   "cell_type": "code",
   "execution_count": 16,
   "metadata": {},
   "outputs": [
    {
     "data": {
      "application/vnd.jupyter.widget-view+json": {
       "model_id": "7419789f9abf4af7a62decdb32e28c93",
       "version_major": 2,
       "version_minor": 0
      },
      "text/plain": [
       "VBox(children=(VBox(children=(HBox(children=(Label(value='levels:'), FloatSlider(value=0.0, max=1.0, step=0.00…"
      ]
     },
     "metadata": {},
     "output_type": "display_data"
    }
   ],
   "source": [
    "mask = mrcutils.data2mask(data_thresh, sigma_blur=0, threshold=0.1)\n",
    "ipv.quickvolshow(data_thresh, level=[0, 1], opacity=0.03)"
   ]
  },
  {
   "cell_type": "markdown",
   "metadata": {},
   "source": [
    "# define bodies: segment differential thresholding map\n",
    "\n",
    "The idea is to\n",
    "- blur mask_dry a lot\n",
    "- blur mask_fat a little\n",
    "- define the main body as the intersection of both\n",
    "- define the other bodies as what remains of mask_fat after removing the intersection\n",
    "- then segment them\n",
    "\n",
    "In other words:\n",
    "\n",
    "$B_0 = M_{fat} \\cap M_{dry}$\n",
    "\n",
    "$\\bigcup_{i>1}^{K} B_{i} = M_{fat} \\setminus B_0 $"
   ]
  },
  {
   "cell_type": "code",
   "execution_count": 17,
   "metadata": {},
   "outputs": [],
   "source": [
    "data_dry = mrcutils.mrc_select(input_mrc, mode='above_value', value=5*input_std)\n",
    "mask_dry = mrcutils.data2mask(data_dry, sigma_blur=15, threshold=0.01)\n",
    "data_fat = mrcutils.mrc_select(input_mrc, mode='above_value', value=1*input_std)\n",
    "mask_fat = mrcutils.data2mask(data_fat, sigma_blur=1, threshold=0.1)"
   ]
  },
  {
   "cell_type": "code",
   "execution_count": 18,
   "metadata": {},
   "outputs": [],
   "source": [
    "body0 = np.minimum(mask_dry,mask_fat)\n",
    "bodyK = mask_fat - body0"
   ]
  },
  {
   "cell_type": "code",
   "execution_count": 19,
   "metadata": {},
   "outputs": [
    {
     "data": {
      "application/vnd.jupyter.widget-view+json": {
       "model_id": "5a0f17292f61416199fb329fadbafa3a",
       "version_major": 2,
       "version_minor": 0
      },
      "text/plain": [
       "VBox(children=(VBox(children=(HBox(children=(Label(value='levels:'), FloatSlider(value=0.0, max=1.0, step=0.00…"
      ]
     },
     "metadata": {},
     "output_type": "display_data"
    }
   ],
   "source": [
    "ipv.quickvolshow(body0, level=[0, 1], opacity=0.03)"
   ]
  },
  {
   "cell_type": "code",
   "execution_count": 20,
   "metadata": {},
   "outputs": [
    {
     "data": {
      "application/vnd.jupyter.widget-view+json": {
       "model_id": "dc15da570e8d40ec8796651e4a62b6f5",
       "version_major": 2,
       "version_minor": 0
      },
      "text/plain": [
       "VBox(children=(VBox(children=(HBox(children=(Label(value='levels:'), FloatSlider(value=0.0, max=1.0, step=0.00…"
      ]
     },
     "metadata": {},
     "output_type": "display_data"
    }
   ],
   "source": [
    "ipv.quickvolshow(bodyK, level=[0, 1], opacity=0.03)"
   ]
  },
  {
   "cell_type": "code",
   "execution_count": 21,
   "metadata": {},
   "outputs": [],
   "source": [
    "mrcutils.data2mrc(output_mask+'body_0.mrc',body0,mrc_template=input_mrc)\n",
    "mrcutils.data2mrc(output_mask+'body_K.mrc',bodyK,mrc_template=input_mrc)"
   ]
  },
  {
   "cell_type": "code",
   "execution_count": 22,
   "metadata": {},
   "outputs": [],
   "source": [
    "import skimage.morphology as morphology\n",
    "from skimage.morphology import watershed\n",
    "from skimage.feature import peak_local_max\n",
    "from scipy import ndimage\n",
    "fp=60\n",
    "distance = ndimage.distance_transform_edt(bodyK)\n",
    "local_maxi = peak_local_max(distance, indices=False, footprint=np.ones((fp,fp,fp)), labels=bodyK)\n",
    "markers = morphology.label(local_maxi)\n",
    "labels_ws = watershed(-distance, markers, mask=bodyK)"
   ]
  },
  {
   "cell_type": "code",
   "execution_count": 27,
   "metadata": {},
   "outputs": [
    {
     "data": {
      "application/vnd.jupyter.widget-view+json": {
       "model_id": "540ef52d7ace4971bdeab5d505fa7151",
       "version_major": 2,
       "version_minor": 0
      },
      "text/plain": [
       "VBox(children=(VBox(children=(HBox(children=(Label(value='levels:'), FloatSlider(value=0.0, max=1.0, step=0.00…"
      ]
     },
     "metadata": {},
     "output_type": "display_data"
    }
   ],
   "source": [
    "ipv.quickvolshow(labels_ws, level=[0, float(np.max(labels_ws))], opacity=0.03)"
   ]
  },
  {
   "cell_type": "code",
   "execution_count": 25,
   "metadata": {},
   "outputs": [
    {
     "name": "stderr",
     "output_type": "stream",
     "text": [
      "/opt/rh/rh-python36/root/usr/lib64/python3.6/site-packages/numpy/core/numeric.py:538: UserWarning: Warning: converting a masked element to nan.\n",
      "  return array(a, dtype, copy=False, order=order)\n"
     ]
    },
    {
     "name": "stdout",
     "output_type": "stream",
     "text": [
      "/gpfs/slac/cryo/fs1/g/ML/cryoEM-notebooks/data/20181005-rib-TEM4/bodymaker/bin2_of_bin6mb_B_fscw/bodies_bin2_of_bin6_mbB_body_K_watershed1.mrc > volume = 925960.0\n",
      "/gpfs/slac/cryo/fs1/g/ML/cryoEM-notebooks/data/20181005-rib-TEM4/bodymaker/bin2_of_bin6mb_B_fscw/bodies_bin2_of_bin6_mbB_body_K_watershed2.mrc > volume = 728127.0\n",
      "/gpfs/slac/cryo/fs1/g/ML/cryoEM-notebooks/data/20181005-rib-TEM4/bodymaker/bin2_of_bin6mb_B_fscw/bodies_bin2_of_bin6_mbB_body_K_watershed3.mrc > volume = 383030.0\n",
      "/gpfs/slac/cryo/fs1/g/ML/cryoEM-notebooks/data/20181005-rib-TEM4/bodymaker/bin2_of_bin6mb_B_fscw/bodies_bin2_of_bin6_mbB_body_K_watershed4.mrc > volume = 221936.0\n",
      "/gpfs/slac/cryo/fs1/g/ML/cryoEM-notebooks/data/20181005-rib-TEM4/bodymaker/bin2_of_bin6mb_B_fscw/bodies_bin2_of_bin6_mbB_body_K_watershed5.mrc > volume = 206512.0\n",
      "/gpfs/slac/cryo/fs1/g/ML/cryoEM-notebooks/data/20181005-rib-TEM4/bodymaker/bin2_of_bin6mb_B_fscw/bodies_bin2_of_bin6_mbB_body_K_watershed6.mrc > volume = 175584.0\n",
      "/gpfs/slac/cryo/fs1/g/ML/cryoEM-notebooks/data/20181005-rib-TEM4/bodymaker/bin2_of_bin6mb_B_fscw/bodies_bin2_of_bin6_mbB_body_K_watershed7.mrc > volume = 175302.0\n",
      "/gpfs/slac/cryo/fs1/g/ML/cryoEM-notebooks/data/20181005-rib-TEM4/bodymaker/bin2_of_bin6mb_B_fscw/bodies_bin2_of_bin6_mbB_body_K_watershed8.mrc > volume = 47985.0\n",
      "/gpfs/slac/cryo/fs1/g/ML/cryoEM-notebooks/data/20181005-rib-TEM4/bodymaker/bin2_of_bin6mb_B_fscw/bodies_bin2_of_bin6_mbB_body_K_watershed9.mrc > volume = 38400.0\n",
      "/gpfs/slac/cryo/fs1/g/ML/cryoEM-notebooks/data/20181005-rib-TEM4/bodymaker/bin2_of_bin6mb_B_fscw/bodies_bin2_of_bin6_mbB_body_K_watershed10.mrc > volume = 30604.0\n",
      "/gpfs/slac/cryo/fs1/g/ML/cryoEM-notebooks/data/20181005-rib-TEM4/bodymaker/bin2_of_bin6mb_B_fscw/bodies_bin2_of_bin6_mbB_body_K_watershed11.mrc > volume = 28472.0\n",
      "/gpfs/slac/cryo/fs1/g/ML/cryoEM-notebooks/data/20181005-rib-TEM4/bodymaker/bin2_of_bin6mb_B_fscw/bodies_bin2_of_bin6_mbB_body_K_watershed12.mrc > volume = 21780.0\n",
      "/gpfs/slac/cryo/fs1/g/ML/cryoEM-notebooks/data/20181005-rib-TEM4/bodymaker/bin2_of_bin6mb_B_fscw/bodies_bin2_of_bin6_mbB_body_K_watershed13.mrc > volume = 15890.0\n",
      "/gpfs/slac/cryo/fs1/g/ML/cryoEM-notebooks/data/20181005-rib-TEM4/bodymaker/bin2_of_bin6mb_B_fscw/bodies_bin2_of_bin6_mbB_body_K_watershed14.mrc > volume = 12792.0\n",
      "/gpfs/slac/cryo/fs1/g/ML/cryoEM-notebooks/data/20181005-rib-TEM4/bodymaker/bin2_of_bin6mb_B_fscw/bodies_bin2_of_bin6_mbB_body_K_watershed15.mrc > volume = 11850.0\n",
      "/gpfs/slac/cryo/fs1/g/ML/cryoEM-notebooks/data/20181005-rib-TEM4/bodymaker/bin2_of_bin6mb_B_fscw/bodies_bin2_of_bin6_mbB_body_K_watershed16.mrc > volume = 9381.0\n",
      "/gpfs/slac/cryo/fs1/g/ML/cryoEM-notebooks/data/20181005-rib-TEM4/bodymaker/bin2_of_bin6mb_B_fscw/bodies_bin2_of_bin6_mbB_body_K_watershed17.mrc > volume = 5203.0\n"
     ]
    }
   ],
   "source": [
    "mrcutils.data2mrc(output_mask+'body_K_watershed_seg.mrc',labels_ws,mrc_template=input_mrc)\n",
    "# break down: one mask per segment\n",
    "mrcutils.seg2mask(output_mask+'body_K_watershed_seg.mrc', output_mask+'body_K_watershed', sigma_blur = mask_blur,sort='volume',verbose=True)"
   ]
  },
  {
   "cell_type": "markdown",
   "metadata": {},
   "source": [
    "At that point, a visual inspection (in Chimera) leads to following decision:\n",
    "- bodies 0+5+8+10+11+13+14+15+16 will be merged into body 0\n",
    "- body 1 is fine\n",
    "- bodies 2+3+4 will be merged into body 2\n",
    "- bodies 6+7 will be merged into body 3\n",
    "- body 9 will be renamed body 4\n",
    "- body 12 will be renamed body 5"
   ]
  },
  {
   "cell_type": "code",
   "execution_count": 34,
   "metadata": {},
   "outputs": [
    {
     "data": {
      "text/plain": [
       "'/gpfs/slac/cryo/fs1/g/ML/cryoEM-notebooks/data/20181005-rib-TEM4/bodymaker/bin2_of_bin6mb_B_fscw/bodies_bin2_of_bin6_mbB_body_5_final.mrc'"
      ]
     },
     "execution_count": 34,
     "metadata": {},
     "output_type": "execute_result"
    }
   ],
   "source": [
    "# final body 0 \n",
    "shutil.copyfile(output_mask+'body_0.mrc', 'tmp.mrc')\n",
    "for i in [5,8,10,11,13,14,15,16]:\n",
    "    mrcutils.mrc_algebra('tmp.mrc',output_mask+'body_K_watershed'+str(i)+'.mrc','tmp2.mrc')\n",
    "    os.remove('tmp.mrc')\n",
    "    os.rename('tmp2.mrc', 'tmp.mrc')\n",
    "mrcutils.mrc2mask('tmp.mrc', output_mask+'body_0_final.mrc', sigma_blur=0., threshold=0.1)\n",
    "os.remove('tmp.mrc')\n",
    "# final body 1\n",
    "shutil.copyfile(output_mask+'body_K_watershed1.mrc', output_mask+'body_1_final.mrc')\n",
    "# final body 2\n",
    "shutil.copyfile(output_mask+'body_K_watershed2.mrc', 'tmp.mrc')\n",
    "for i in [3,4]:\n",
    "    mrcutils.mrc_algebra('tmp.mrc',output_mask+'body_K_watershed'+str(i)+'.mrc','tmp2.mrc')\n",
    "    os.remove('tmp.mrc')\n",
    "    os.rename('tmp2.mrc', 'tmp.mrc')\n",
    "mrcutils.mrc2mask('tmp.mrc', output_mask+'body_2_final.mrc', sigma_blur=0., threshold=0.1)\n",
    "os.remove('tmp.mrc')\n",
    "# final body 3\n",
    "shutil.copyfile(output_mask+'body_K_watershed6.mrc', 'tmp.mrc')\n",
    "for i in [7]:\n",
    "    mrcutils.mrc_algebra('tmp.mrc',output_mask+'body_K_watershed'+str(i)+'.mrc','tmp2.mrc')\n",
    "    os.remove('tmp.mrc')\n",
    "    os.rename('tmp2.mrc', 'tmp.mrc')\n",
    "mrcutils.mrc2mask('tmp.mrc', output_mask+'body_3_final.mrc', sigma_blur=0., threshold=0.1)\n",
    "os.remove('tmp.mrc')\n",
    "# final body 4\n",
    "shutil.copyfile(output_mask+'body_K_watershed9.mrc', output_mask+'body_4_final.mrc')\n",
    "# final body 5\n",
    "shutil.copyfile(output_mask+'body_K_watershed12.mrc', output_mask+'body_5_final.mrc')"
   ]
  },
  {
   "cell_type": "code",
   "execution_count": null,
   "metadata": {},
   "outputs": [],
   "source": []
  },
  {
   "cell_type": "code",
   "execution_count": null,
   "metadata": {},
   "outputs": [],
   "source": []
  }
 ],
 "metadata": {
  "kernelspec": {
   "display_name": "Python 3",
   "language": "python",
   "name": "python3"
  },
  "language_info": {
   "codemirror_mode": {
    "name": "ipython",
    "version": 3
   },
   "file_extension": ".py",
   "mimetype": "text/x-python",
   "name": "python",
   "nbconvert_exporter": "python",
   "pygments_lexer": "ipython3",
   "version": "3.6.3"
  }
 },
 "nbformat": 4,
 "nbformat_minor": 2
}
