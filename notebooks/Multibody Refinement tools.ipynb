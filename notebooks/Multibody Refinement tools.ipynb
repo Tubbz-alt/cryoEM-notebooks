{
 "cells": [
  {
   "cell_type": "code",
   "execution_count": 35,
   "metadata": {},
   "outputs": [],
   "source": [
    "%matplotlib inline\n",
    "import shutil, os, sys, glob\n",
    "import numpy as np\n",
    "from matplotlib import pyplot as plt\n",
    "import ipyvolume as ipv\n",
    "#\n",
    "sys.path.append('/home/fpoitevi/notebooks/cryo_home/slaclab/cryoEM-notebooks/src/')\n",
    "import cryoemio\n",
    "import imutils\n",
    "import dataviz\n",
    "import mrcutils"
   ]
  },
  {
   "cell_type": "markdown",
   "metadata": {},
   "source": [
    "# some useful paths and parameters"
   ]
  },
  {
   "cell_type": "code",
   "execution_count": 50,
   "metadata": {},
   "outputs": [],
   "source": [
    "input_dir = '/gpfs/slac/cryo/fs1/g/ML/cryoEM-notebooks/data/20181005-rib-TEM4/LocalRes/bin2_of_bin6mb_A_fscw'\n",
    "body_dir  = '/gpfs/slac/cryo/fs1/u/fpoitevi/processing/20181005-rib-TEM4/bodymaker/bin2_of_bin6mb_A_fscw'\n",
    "# files\n",
    "keyword='bodies_bin2_of_bin6_mbA_'\n",
    "input_mrc    = input_dir+'/relion_locres_filtered.mrc'\n",
    "output_mask  = body_dir+'/'+keyword\n",
    "#"
   ]
  },
  {
   "cell_type": "markdown",
   "metadata": {},
   "source": [
    "# load map and retrieve standard deviation"
   ]
  },
  {
   "cell_type": "code",
   "execution_count": 51,
   "metadata": {},
   "outputs": [
    {
     "name": "stdout",
     "output_type": "stream",
     "text": [
      "0.03112948\n"
     ]
    }
   ],
   "source": [
    "data = mrcutils.mrc2data(input_mrc)\n",
    "input_std = np.std(data)\n",
    "print(input_std)"
   ]
  },
  {
   "cell_type": "markdown",
   "metadata": {},
   "source": [
    "# visualize effect of thresholding"
   ]
  },
  {
   "cell_type": "code",
   "execution_count": 52,
   "metadata": {},
   "outputs": [],
   "source": [
    "data_thresh = mrcutils.mrc_select(input_mrc, mode='above_value', value=1*input_std)"
   ]
  },
  {
   "cell_type": "code",
   "execution_count": 53,
   "metadata": {},
   "outputs": [
    {
     "data": {
      "application/vnd.jupyter.widget-view+json": {
       "model_id": "4c7bc2a823bb4a049d754c99535e2abf",
       "version_major": 2,
       "version_minor": 0
      },
      "text/plain": [
       "VBox(children=(VBox(children=(HBox(children=(Label(value='levels:'), FloatSlider(value=0.03112947940826416, ma…"
      ]
     },
     "metadata": {},
     "output_type": "display_data"
    }
   ],
   "source": [
    "ipv.quickvolshow(data_thresh, level=[1*input_std, 3*input_std], opacity=0.03, level_width=1*input_std, data_min=np.min(data_thresh), data_max=np.max(data_thresh))"
   ]
  },
  {
   "cell_type": "markdown",
   "metadata": {},
   "source": [
    "# visualize effect of binarizing"
   ]
  },
  {
   "cell_type": "code",
   "execution_count": 54,
   "metadata": {},
   "outputs": [
    {
     "data": {
      "application/vnd.jupyter.widget-view+json": {
       "model_id": "d99fa8556cec4a148ff5d7d33dd6d0c3",
       "version_major": 2,
       "version_minor": 0
      },
      "text/plain": [
       "VBox(children=(VBox(children=(HBox(children=(Label(value='levels:'), FloatSlider(value=0.0, max=1.0, step=0.00…"
      ]
     },
     "metadata": {},
     "output_type": "display_data"
    }
   ],
   "source": [
    "mask = mrcutils.data2mask(data_thresh, sigma_blur=0, threshold=0.1)\n",
    "ipv.quickvolshow(data_thresh, level=[0, 1], opacity=0.03)"
   ]
  },
  {
   "cell_type": "markdown",
   "metadata": {},
   "source": [
    "# define bodies: segment differential thresholding map\n",
    "\n",
    "The idea is to\n",
    "- blur mask_dry a lot\n",
    "- blur mask_fat a little\n",
    "- define the main body as the intersection of both\n",
    "- define the other bodies as what remains of mask_fat after removing the intersection\n",
    "- then segment them\n",
    "\n",
    "In other words:\n",
    "\n",
    "$B_0 = M_{fat} \\cap M_{dry}$\n",
    "\n",
    "$\\bigcup_{i>1}^{K} B_{i} = M_{fat} \\setminus B_0 $"
   ]
  },
  {
   "cell_type": "code",
   "execution_count": 55,
   "metadata": {},
   "outputs": [],
   "source": [
    "data_dry = mrcutils.mrc_select(input_mrc, mode='above_value', value=5*input_std)\n",
    "mask_dry = mrcutils.data2mask(data_dry, sigma_blur=15, threshold=0.01)\n",
    "data_fat = mrcutils.mrc_select(input_mrc, mode='above_value', value=1*input_std)\n",
    "mask_fat = mrcutils.data2mask(data_fat, sigma_blur=1, threshold=0.1)"
   ]
  },
  {
   "cell_type": "code",
   "execution_count": 56,
   "metadata": {},
   "outputs": [],
   "source": [
    "body0 = np.minimum(mask_dry,mask_fat)\n",
    "bodyK = mask_fat - body0"
   ]
  },
  {
   "cell_type": "code",
   "execution_count": 57,
   "metadata": {},
   "outputs": [
    {
     "data": {
      "application/vnd.jupyter.widget-view+json": {
       "model_id": "bf86792be0404e5d9b8e31dc20d4f725",
       "version_major": 2,
       "version_minor": 0
      },
      "text/plain": [
       "VBox(children=(VBox(children=(HBox(children=(Label(value='levels:'), FloatSlider(value=0.0, max=1.0, step=0.00…"
      ]
     },
     "metadata": {},
     "output_type": "display_data"
    }
   ],
   "source": [
    "ipv.quickvolshow(body0, level=[0, 1], opacity=0.03)"
   ]
  },
  {
   "cell_type": "code",
   "execution_count": 58,
   "metadata": {},
   "outputs": [
    {
     "data": {
      "application/vnd.jupyter.widget-view+json": {
       "model_id": "a4d72c3dfb0747b5bed4287869f3f245",
       "version_major": 2,
       "version_minor": 0
      },
      "text/plain": [
       "VBox(children=(VBox(children=(HBox(children=(Label(value='levels:'), FloatSlider(value=0.0, max=1.0, step=0.00…"
      ]
     },
     "metadata": {},
     "output_type": "display_data"
    }
   ],
   "source": [
    "ipv.quickvolshow(bodyK, level=[0, 1], opacity=0.03)"
   ]
  },
  {
   "cell_type": "code",
   "execution_count": 59,
   "metadata": {},
   "outputs": [],
   "source": [
    "mrcutils.data2mrc(output_mask+'body_0.mrc',body0,mrc_template=input_mrc)\n",
    "mrcutils.data2mrc(output_mask+'body_K.mrc',bodyK,mrc_template=input_mrc)"
   ]
  },
  {
   "cell_type": "code",
   "execution_count": 60,
   "metadata": {},
   "outputs": [],
   "source": [
    "import skimage.morphology as morphology\n",
    "from skimage.morphology import watershed\n",
    "from skimage.feature import peak_local_max\n",
    "from scipy import ndimage\n",
    "fp=60\n",
    "distance = ndimage.distance_transform_edt(bodyK)\n",
    "local_maxi = peak_local_max(distance, indices=False, footprint=np.ones((fp,fp,fp)), labels=bodyK)\n",
    "markers = morphology.label(local_maxi)\n",
    "labels_ws = watershed(-distance, markers, mask=bodyK)"
   ]
  },
  {
   "cell_type": "code",
   "execution_count": 61,
   "metadata": {},
   "outputs": [
    {
     "data": {
      "application/vnd.jupyter.widget-view+json": {
       "model_id": "a8cd966834414ff590e6b4497ec414be",
       "version_major": 2,
       "version_minor": 0
      },
      "text/plain": [
       "VBox(children=(VBox(children=(HBox(children=(Label(value='levels:'), FloatSlider(value=0.0, max=1.0, step=0.00…"
      ]
     },
     "metadata": {},
     "output_type": "display_data"
    }
   ],
   "source": [
    "ipv.quickvolshow(labels_ws, level=[0, float(np.max(labels_ws))], opacity=0.03)"
   ]
  },
  {
   "cell_type": "code",
   "execution_count": 62,
   "metadata": {},
   "outputs": [
    {
     "name": "stdout",
     "output_type": "stream",
     "text": [
      "/gpfs/slac/cryo/fs1/u/fpoitevi/processing/20181005-rib-TEM4/bodymaker/bin2_of_bin6mb_A_fscw/bodies_bin2_of_bin6_mbA_body_K_watershed1.mrc > volume = 890451.0\n",
      "/gpfs/slac/cryo/fs1/u/fpoitevi/processing/20181005-rib-TEM4/bodymaker/bin2_of_bin6mb_A_fscw/bodies_bin2_of_bin6_mbA_body_K_watershed2.mrc > volume = 839398.0\n",
      "/gpfs/slac/cryo/fs1/u/fpoitevi/processing/20181005-rib-TEM4/bodymaker/bin2_of_bin6mb_A_fscw/bodies_bin2_of_bin6_mbA_body_K_watershed3.mrc > volume = 823368.0\n",
      "/gpfs/slac/cryo/fs1/u/fpoitevi/processing/20181005-rib-TEM4/bodymaker/bin2_of_bin6mb_A_fscw/bodies_bin2_of_bin6_mbA_body_K_watershed4.mrc > volume = 742336.0\n",
      "/gpfs/slac/cryo/fs1/u/fpoitevi/processing/20181005-rib-TEM4/bodymaker/bin2_of_bin6mb_A_fscw/bodies_bin2_of_bin6_mbA_body_K_watershed5.mrc > volume = 323400.0\n",
      "/gpfs/slac/cryo/fs1/u/fpoitevi/processing/20181005-rib-TEM4/bodymaker/bin2_of_bin6mb_A_fscw/bodies_bin2_of_bin6_mbA_body_K_watershed6.mrc > volume = 152854.0\n",
      "/gpfs/slac/cryo/fs1/u/fpoitevi/processing/20181005-rib-TEM4/bodymaker/bin2_of_bin6mb_A_fscw/bodies_bin2_of_bin6_mbA_body_K_watershed7.mrc > volume = 98608.0\n",
      "/gpfs/slac/cryo/fs1/u/fpoitevi/processing/20181005-rib-TEM4/bodymaker/bin2_of_bin6mb_A_fscw/bodies_bin2_of_bin6_mbA_body_K_watershed8.mrc > volume = 65110.0\n",
      "/gpfs/slac/cryo/fs1/u/fpoitevi/processing/20181005-rib-TEM4/bodymaker/bin2_of_bin6mb_A_fscw/bodies_bin2_of_bin6_mbA_body_K_watershed9.mrc > volume = 32250.0\n",
      "/gpfs/slac/cryo/fs1/u/fpoitevi/processing/20181005-rib-TEM4/bodymaker/bin2_of_bin6mb_A_fscw/bodies_bin2_of_bin6_mbA_body_K_watershed10.mrc > volume = 28200.0\n",
      "/gpfs/slac/cryo/fs1/u/fpoitevi/processing/20181005-rib-TEM4/bodymaker/bin2_of_bin6mb_A_fscw/bodies_bin2_of_bin6_mbA_body_K_watershed11.mrc > volume = 25704.0\n",
      "/gpfs/slac/cryo/fs1/u/fpoitevi/processing/20181005-rib-TEM4/bodymaker/bin2_of_bin6mb_A_fscw/bodies_bin2_of_bin6_mbA_body_K_watershed12.mrc > volume = 12828.0\n",
      "/gpfs/slac/cryo/fs1/u/fpoitevi/processing/20181005-rib-TEM4/bodymaker/bin2_of_bin6mb_A_fscw/bodies_bin2_of_bin6_mbA_body_K_watershed13.mrc > volume = 12432.0\n",
      "/gpfs/slac/cryo/fs1/u/fpoitevi/processing/20181005-rib-TEM4/bodymaker/bin2_of_bin6mb_A_fscw/bodies_bin2_of_bin6_mbA_body_K_watershed14.mrc > volume = 9558.0\n",
      "/gpfs/slac/cryo/fs1/u/fpoitevi/processing/20181005-rib-TEM4/bodymaker/bin2_of_bin6mb_A_fscw/bodies_bin2_of_bin6_mbA_body_K_watershed15.mrc > volume = 8793.0\n",
      "/gpfs/slac/cryo/fs1/u/fpoitevi/processing/20181005-rib-TEM4/bodymaker/bin2_of_bin6mb_A_fscw/bodies_bin2_of_bin6_mbA_body_K_watershed16.mrc > volume = 8570.0\n",
      "/gpfs/slac/cryo/fs1/u/fpoitevi/processing/20181005-rib-TEM4/bodymaker/bin2_of_bin6mb_A_fscw/bodies_bin2_of_bin6_mbA_body_K_watershed17.mrc > volume = 5302.0\n"
     ]
    }
   ],
   "source": [
    "mrcutils.data2mrc(output_mask+'body_K_watershed_seg.mrc',labels_ws,mrc_template=input_mrc)\n",
    "# break down: one mask per segment\n",
    "mrcutils.seg2mask(output_mask+'body_K_watershed_seg.mrc', output_mask+'body_K_watershed', sigma_blur = mask_blur,sort='volume',verbose=True)"
   ]
  },
  {
   "cell_type": "markdown",
   "metadata": {},
   "source": [
    "At that point, a visual inspection (in Chimera) leads to following decision:\n",
    "- body 0: 0,8,10,12,13,14,15,16,17\n",
    "- body 1: 1,7\n",
    "- body 2: 2\n",
    "- body 3: 3,4,5,6,9\n",
    "- body 4: 11"
   ]
  },
  {
   "cell_type": "code",
   "execution_count": 63,
   "metadata": {},
   "outputs": [
    {
     "data": {
      "text/plain": [
       "'/gpfs/slac/cryo/fs1/u/fpoitevi/processing/20181005-rib-TEM4/bodymaker/bin2_of_bin6mb_A_fscw/bodies_bin2_of_bin6_mbA_body_4_final.mrc'"
      ]
     },
     "execution_count": 63,
     "metadata": {},
     "output_type": "execute_result"
    }
   ],
   "source": [
    "# final body 0 \n",
    "shutil.copyfile(output_mask+'body_0.mrc', 'tmp.mrc')\n",
    "for i in [8,10,12,13,14,15,16,17]:\n",
    "    mrcutils.mrc_algebra('tmp.mrc',output_mask+'body_K_watershed'+str(i)+'.mrc','tmp2.mrc')\n",
    "    os.remove('tmp.mrc')\n",
    "    os.rename('tmp2.mrc', 'tmp.mrc')\n",
    "mrcutils.mrc2mask('tmp.mrc', output_mask+'body_0_final.mrc', sigma_blur=0., threshold=0.1)\n",
    "os.remove('tmp.mrc')\n",
    "# final body 1\n",
    "shutil.copyfile(output_mask+'body_K_watershed1.mrc', 'tmp.mrc')\n",
    "for i in [7]:\n",
    "    mrcutils.mrc_algebra('tmp.mrc',output_mask+'body_K_watershed'+str(i)+'.mrc','tmp2.mrc')\n",
    "    os.remove('tmp.mrc')\n",
    "    os.rename('tmp2.mrc', 'tmp.mrc')\n",
    "mrcutils.mrc2mask('tmp.mrc', output_mask+'body_1_final.mrc', sigma_blur=0., threshold=0.1)\n",
    "os.remove('tmp.mrc')\n",
    "# final body 2\n",
    "shutil.copyfile(output_mask+'body_K_watershed2.mrc', output_mask+'body_2_final.mrc')\n",
    "# final body 3\n",
    "shutil.copyfile(output_mask+'body_K_watershed3.mrc', 'tmp.mrc')\n",
    "for i in [4,5,6,9]:\n",
    "    mrcutils.mrc_algebra('tmp.mrc',output_mask+'body_K_watershed'+str(i)+'.mrc','tmp2.mrc')\n",
    "    os.remove('tmp.mrc')\n",
    "    os.rename('tmp2.mrc', 'tmp.mrc')\n",
    "mrcutils.mrc2mask('tmp.mrc', output_mask+'body_3_final.mrc', sigma_blur=0., threshold=0.1)\n",
    "os.remove('tmp.mrc')\n",
    "# final body 4\n",
    "shutil.copyfile(output_mask+'body_K_watershed11.mrc', output_mask+'body_4_final.mrc')"
   ]
  },
  {
   "cell_type": "code",
   "execution_count": null,
   "metadata": {},
   "outputs": [],
   "source": []
  },
  {
   "cell_type": "code",
   "execution_count": null,
   "metadata": {},
   "outputs": [],
   "source": []
  }
 ],
 "metadata": {
  "kernelspec": {
   "display_name": "Python 3",
   "language": "python",
   "name": "python3"
  },
  "language_info": {
   "codemirror_mode": {
    "name": "ipython",
    "version": 3
   },
   "file_extension": ".py",
   "mimetype": "text/x-python",
   "name": "python",
   "nbconvert_exporter": "python",
   "pygments_lexer": "ipython3",
   "version": "3.6.3"
  }
 },
 "nbformat": 4,
 "nbformat_minor": 2
}
