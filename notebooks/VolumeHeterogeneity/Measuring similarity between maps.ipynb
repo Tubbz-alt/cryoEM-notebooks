{
 "cells": [
  {
   "cell_type": "markdown",
   "metadata": {},
   "source": [
    "### environment\n",
    "\n",
    "```bash\n",
    "source activate eman-env\n",
    "jupyter notebook # and select the eman-env python kernel\n",
    "```"
   ]
  },
  {
   "cell_type": "markdown",
   "metadata": {},
   "source": [
    "## Usage\n",
    "\n",
    "Given two maps, compute the FSC curve as:\n",
    "```\n",
    "e2proc3d.py 1.mrc fsc.txt --calcfsc=2.mrc\n",
    "```\n",
    "The output is a two-column space-separated file"
   ]
  },
  {
   "cell_type": "code",
   "execution_count": null,
   "metadata": {},
   "outputs": [],
   "source": []
  }
 ],
 "metadata": {
  "kernelspec": {
   "display_name": "Python (eman-env)",
   "language": "python",
   "name": "eman-env"
  },
  "language_info": {
   "codemirror_mode": {
    "name": "ipython",
    "version": 2
   },
   "file_extension": ".py",
   "mimetype": "text/x-python",
   "name": "python",
   "nbconvert_exporter": "python",
   "pygments_lexer": "ipython2",
   "version": "2.7.14"
  }
 },
 "nbformat": 4,
 "nbformat_minor": 2
}
