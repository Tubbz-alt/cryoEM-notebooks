{
 "cells": [
  {
   "cell_type": "markdown",
   "metadata": {},
   "source": [
    "# Automated Body Definition for RELION multibody refinement\n",
    "\n",
    "this notebook describes possible automated approaches to define bodies readily usable in RELION "
   ]
  },
  {
   "cell_type": "markdown",
   "metadata": {},
   "source": [
    "## A. Load useful python libraries\n",
    "We will package our tools in a library soon, in the meantime, make sure you have `our_library` point to the proper directory:"
   ]
  },
  {
   "cell_type": "code",
   "execution_count": 1,
   "metadata": {},
   "outputs": [],
   "source": [
    "our_library = '/home/fpoitevi/notebooks/cryo_home/slaclab/cryoEM-notebooks/src/'"
   ]
  },
  {
   "cell_type": "code",
   "execution_count": 2,
   "metadata": {},
   "outputs": [],
   "source": [
    "# just run this cell, no need to edit\n",
    "%matplotlib inline\n",
    "import shutil, os, sys, glob\n",
    "import numpy as np\n",
    "from matplotlib import pyplot as plt\n",
    "import ipyvolume as ipv\n",
    "sys.path.append(our_library)\n",
    "import cryoemio\n",
    "import imutils\n",
    "import dataviz\n",
    "import mrcutils\n",
    "import clusterutils"
   ]
  },
  {
   "cell_type": "markdown",
   "metadata": {},
   "source": [
    "## B. Define inputs and outputs"
   ]
  },
  {
   "cell_type": "markdown",
   "metadata": {},
   "source": [
    "It is convenient to store the path to our project directory into a variable"
   ]
  },
  {
   "cell_type": "code",
   "execution_count": 3,
   "metadata": {},
   "outputs": [],
   "source": [
    "root_directory = '/home/fpoitevi/notebooks/cryo_home/slaclab/cryoEM-notebooks/notebooks/Material/Heterogeneity/Multibody/'"
   ]
  },
  {
   "cell_type": "markdown",
   "metadata": {},
   "source": [
    "**INPUTS** - In our case, we store the input data in the root directory. The input map is the output from a local-resolution job in RELION."
   ]
  },
  {
   "cell_type": "code",
   "execution_count": 4,
   "metadata": {},
   "outputs": [],
   "source": [
    "data_dir  = root_directory\n",
    "input_map = data_dir+'/relion_locres_filtered.mrc'"
   ]
  },
  {
   "cell_type": "markdown",
   "metadata": {},
   "source": [
    "**OUTPUTS** - The output directory is at the same location, and we define a common `keyword` for all our output files"
   ]
  },
  {
   "cell_type": "code",
   "execution_count": 5,
   "metadata": {},
   "outputs": [],
   "source": [
    "body_dir = root_directory+'output/'\n",
    "keyword  = 'bodies_'\n",
    "output_mask  = body_dir+'/'+keyword # no need to edit this line"
   ]
  },
  {
   "cell_type": "markdown",
   "metadata": {},
   "source": [
    "## C. Load and visualize the input map"
   ]
  },
  {
   "cell_type": "markdown",
   "metadata": {},
   "source": [
    "We store in `data` the map stored in file `input_map`"
   ]
  },
  {
   "cell_type": "code",
   "execution_count": 6,
   "metadata": {},
   "outputs": [],
   "source": [
    "# just run this cell, no need to edit\n",
    "data = mrcutils.mrc2data(input_map)"
   ]
  },
  {
   "cell_type": "markdown",
   "metadata": {},
   "source": [
    "In the following, we will work on thresholded maps, that is we will set to 0 the value of the voxels that have a value below `std_level` the standard deviation over the whole map. So first we define `std_level`"
   ]
  },
  {
   "cell_type": "code",
   "execution_count": 7,
   "metadata": {},
   "outputs": [],
   "source": [
    "std_level = 1\n",
    "std_map = np.std(data) # no need to edit this line"
   ]
  },
  {
   "cell_type": "markdown",
   "metadata": {},
   "source": [
    "we now proceed to threshold the map and store the resulting map in `data_thresh` that we can visuzalize"
   ]
  },
  {
   "cell_type": "code",
   "execution_count": 8,
   "metadata": {},
   "outputs": [
    {
     "name": "stderr",
     "output_type": "stream",
     "text": [
      "/opt/rh/rh-python36/root/usr/lib/python3.6/site-packages/ipyvolume/serialize.py:81: RuntimeWarning: invalid value encountered in true_divide\n",
      "  gradient = gradient / np.sqrt(gradient[0]**2 + gradient[1]**2 + gradient[2]**2)\n"
     ]
    },
    {
     "data": {
      "application/vnd.jupyter.widget-view+json": {
       "model_id": "1211285c8fbb4947ba2285cf07055ee4",
       "version_major": 2,
       "version_minor": 0
      },
      "text/plain": [
       "VBox(children=(VBox(children=(HBox(children=(Label(value='levels:'), FloatSlider(value=0.11448731273412704, ma…"
      ]
     },
     "metadata": {},
     "output_type": "display_data"
    }
   ],
   "source": [
    "# just run this cell, no need to edit\n",
    "data_thresh = mrcutils.mrc_select(input_map, mode='above_value', value=std_level*std_map)\n",
    "ipv.quickvolshow(data_thresh, level=[std_level*std_map, 3*std_level*std_map], opacity=0.03, level_width=std_level*std_map, data_min=np.min(data_thresh), data_max=np.max(data_thresh))"
   ]
  },
  {
   "cell_type": "markdown",
   "metadata": {},
   "source": [
    "## D. Define the bodies\n",
    "\n",
    "The idea is to build a `mask_dry` mask that is a highly blurred binarized version of a highly thresholded map, and a `mask_fat` mask that is a softly blurred binarized version of a softly thresholded map. The main body is the intersection of the two, and the remaining bodies are segmented from what remains.\n",
    "\n",
    "$B_0 = M_{fat} \\cap M_{dry}$ and $\\bigcup_{i>1}^{K} B_{i} = M_{fat} \\setminus B_0 $"
   ]
  },
  {
   "cell_type": "code",
   "execution_count": 9,
   "metadata": {},
   "outputs": [],
   "source": [
    "# just run this cell, no need to edit\n",
    "body0, bodyK = mrcutils.cut_thresholded_map(input_map, low_threshold=1*std_map, high_threshold=6*std_map)\n",
    "mrcutils.data2mrc(output_mask+'body_0.mrc',body0,mrc_template=input_map)\n",
    "mrcutils.data2mrc(output_mask+'body_K.mrc',bodyK,mrc_template=input_map)"
   ]
  },
  {
   "cell_type": "markdown",
   "metadata": {},
   "source": [
    "At that stage, we have written out the mask of the main bodies and the union of the rest, that we can now segment out. \n",
    "We can control the rough size of the bodies by defining a typical length scale `length_scale` (in pixel units)"
   ]
  },
  {
   "cell_type": "code",
   "execution_count": 17,
   "metadata": {},
   "outputs": [],
   "source": [
    "length_scale = 10"
   ]
  },
  {
   "cell_type": "code",
   "execution_count": 18,
   "metadata": {},
   "outputs": [],
   "source": [
    "# just run this cell, no need to edit\n",
    "labelled_map = clusterutils.segment_map(bodyK, length_scale=length_scale)"
   ]
  },
  {
   "cell_type": "markdown",
   "metadata": {},
   "source": [
    "We can get a rough idea of the resulting body decomposition by sliding the `levels` slider below. If too many or not enough levels appear, change `length_scale` and re-run the cell above."
   ]
  },
  {
   "cell_type": "code",
   "execution_count": 19,
   "metadata": {},
   "outputs": [
    {
     "data": {
      "application/vnd.jupyter.widget-view+json": {
       "model_id": "d09e66f3f65643d38e1fb59562146129",
       "version_major": 2,
       "version_minor": 0
      },
      "text/plain": [
       "VBox(children=(VBox(children=(HBox(children=(Label(value='levels:'), FloatSlider(value=0.0, max=1.0, step=0.00…"
      ]
     },
     "metadata": {},
     "output_type": "display_data"
    }
   ],
   "source": [
    "ipv.quickvolshow(labelled_map, level=[0, float(np.max(labelled_map))], opacity=0.03)"
   ]
  },
  {
   "cell_type": "markdown",
   "metadata": {},
   "source": [
    "Once a reasonable segmentation has been achieved, we can write one map per body. They will be written in order of decreasing volume."
   ]
  },
  {
   "cell_type": "code",
   "execution_count": 20,
   "metadata": {},
   "outputs": [
    {
     "name": "stdout",
     "output_type": "stream",
     "text": [
      "/home/fpoitevi/notebooks/cryo_home/slaclab/cryoEM-notebooks/notebooks/Material/Heterogeneity/Multibody/output//bodies_body_K_watershed1.mrc > volume = 60090.0\n",
      "/home/fpoitevi/notebooks/cryo_home/slaclab/cryoEM-notebooks/notebooks/Material/Heterogeneity/Multibody/output//bodies_body_K_watershed2.mrc > volume = 54080.0\n",
      "/home/fpoitevi/notebooks/cryo_home/slaclab/cryoEM-notebooks/notebooks/Material/Heterogeneity/Multibody/output//bodies_body_K_watershed3.mrc > volume = 50832.0\n",
      "/home/fpoitevi/notebooks/cryo_home/slaclab/cryoEM-notebooks/notebooks/Material/Heterogeneity/Multibody/output//bodies_body_K_watershed4.mrc > volume = 39704.0\n",
      "/home/fpoitevi/notebooks/cryo_home/slaclab/cryoEM-notebooks/notebooks/Material/Heterogeneity/Multibody/output//bodies_body_K_watershed5.mrc > volume = 29656.0\n",
      "/home/fpoitevi/notebooks/cryo_home/slaclab/cryoEM-notebooks/notebooks/Material/Heterogeneity/Multibody/output//bodies_body_K_watershed6.mrc > volume = 21258.0\n",
      "/home/fpoitevi/notebooks/cryo_home/slaclab/cryoEM-notebooks/notebooks/Material/Heterogeneity/Multibody/output//bodies_body_K_watershed7.mrc > volume = 5994.0\n",
      "/home/fpoitevi/notebooks/cryo_home/slaclab/cryoEM-notebooks/notebooks/Material/Heterogeneity/Multibody/output//bodies_body_K_watershed8.mrc > volume = 5320.0\n",
      "/home/fpoitevi/notebooks/cryo_home/slaclab/cryoEM-notebooks/notebooks/Material/Heterogeneity/Multibody/output//bodies_body_K_watershed9.mrc > volume = 2921.0\n",
      "/home/fpoitevi/notebooks/cryo_home/slaclab/cryoEM-notebooks/notebooks/Material/Heterogeneity/Multibody/output//bodies_body_K_watershed10.mrc > volume = 2592.0\n",
      "/home/fpoitevi/notebooks/cryo_home/slaclab/cryoEM-notebooks/notebooks/Material/Heterogeneity/Multibody/output//bodies_body_K_watershed11.mrc > volume = 2432.0\n",
      "/home/fpoitevi/notebooks/cryo_home/slaclab/cryoEM-notebooks/notebooks/Material/Heterogeneity/Multibody/output//bodies_body_K_watershed12.mrc > volume = 1914.0\n",
      "/home/fpoitevi/notebooks/cryo_home/slaclab/cryoEM-notebooks/notebooks/Material/Heterogeneity/Multibody/output//bodies_body_K_watershed13.mrc > volume = 1743.0\n",
      "/home/fpoitevi/notebooks/cryo_home/slaclab/cryoEM-notebooks/notebooks/Material/Heterogeneity/Multibody/output//bodies_body_K_watershed14.mrc > volume = 1540.0\n",
      "/home/fpoitevi/notebooks/cryo_home/slaclab/cryoEM-notebooks/notebooks/Material/Heterogeneity/Multibody/output//bodies_body_K_watershed15.mrc > volume = 1468.0\n",
      "/home/fpoitevi/notebooks/cryo_home/slaclab/cryoEM-notebooks/notebooks/Material/Heterogeneity/Multibody/output//bodies_body_K_watershed16.mrc > volume = 1190.0\n",
      "/home/fpoitevi/notebooks/cryo_home/slaclab/cryoEM-notebooks/notebooks/Material/Heterogeneity/Multibody/output//bodies_body_K_watershed17.mrc > volume = 848.0\n",
      "/home/fpoitevi/notebooks/cryo_home/slaclab/cryoEM-notebooks/notebooks/Material/Heterogeneity/Multibody/output//bodies_body_K_watershed18.mrc > volume = 780.0\n",
      "/home/fpoitevi/notebooks/cryo_home/slaclab/cryoEM-notebooks/notebooks/Material/Heterogeneity/Multibody/output//bodies_body_K_watershed19.mrc > volume = 590.0\n",
      "/home/fpoitevi/notebooks/cryo_home/slaclab/cryoEM-notebooks/notebooks/Material/Heterogeneity/Multibody/output//bodies_body_K_watershed20.mrc > volume = 246.0\n",
      "/home/fpoitevi/notebooks/cryo_home/slaclab/cryoEM-notebooks/notebooks/Material/Heterogeneity/Multibody/output//bodies_body_K_watershed21.mrc > volume = 16.0\n",
      "/home/fpoitevi/notebooks/cryo_home/slaclab/cryoEM-notebooks/notebooks/Material/Heterogeneity/Multibody/output//bodies_body_K_watershed22.mrc > volume = 13.0\n",
      "/home/fpoitevi/notebooks/cryo_home/slaclab/cryoEM-notebooks/notebooks/Material/Heterogeneity/Multibody/output//bodies_body_K_watershed23.mrc > volume = 2.0\n"
     ]
    }
   ],
   "source": [
    "mrcutils.data2mrc(output_mask+'body_K_watershed_seg.mrc', labelled_map, mrc_template=input_map)\n",
    "mrcutils.seg2mask(output_mask+'body_K_watershed_seg.mrc', output_mask+'body_K_watershed', sigma_blur=1,sort='volume',verbose=True)"
   ]
  },
  {
   "cell_type": "markdown",
   "metadata": {},
   "source": [
    "At that point, a visual inspection (in Chimera) leads to following decision:\n",
    "- body 0: 0,7,8,9,10,11,12,13,14,15,16,17,18,19,20,21,22,23\n",
    "- body 1: 1\n",
    "- body 2: 2\n",
    "- body 3: 3\n",
    "- body 4: 4\n",
    "- body 5: 5\n",
    "- body 6: 6"
   ]
  },
  {
   "cell_type": "markdown",
   "metadata": {},
   "source": [
    "We merge the files now"
   ]
  },
  {
   "cell_type": "code",
   "execution_count": 40,
   "metadata": {},
   "outputs": [],
   "source": [
    "# final body 0 \n",
    "shutil.copyfile(output_mask+'body_0.mrc', 'tmp.mrc')\n",
    "for i in [7,8,9,10,11,12,13,14,15,16,17,18,19,20,21,22,23]:\n",
    "    mrcutils.mrc_algebra('tmp.mrc',output_mask+'body_K_watershed'+str(i)+'.mrc','tmp2.mrc')\n",
    "    os.remove('tmp.mrc')\n",
    "    os.rename('tmp2.mrc', 'tmp.mrc')\n",
    "mrcutils.mrc2mask('tmp.mrc', output_mask+'body_0_final.mrc', sigma_blur=0., threshold=0.1)\n",
    "os.remove('tmp.mrc')\n",
    "# final bodies 1 to 6\n",
    "for i in np.arange(1,7):\n",
    "    shutil.copyfile(output_mask+'body_K_watershed'+str(i)+'.mrc', output_mask+'body_'+str(i)+'_final.mrc')"
   ]
  },
  {
   "cell_type": "markdown",
   "metadata": {},
   "source": [
    "The files corresponding to the maps for the 6 bodies generated are listed below:"
   ]
  },
  {
   "cell_type": "code",
   "execution_count": 44,
   "metadata": {},
   "outputs": [
    {
     "data": {
      "text/plain": [
       "['/home/fpoitevi/notebooks/cryo_home/slaclab/cryoEM-notebooks/notebooks/Material/Heterogeneity/Multibody/output/bodies_body_2_final.mrc',\n",
       " '/home/fpoitevi/notebooks/cryo_home/slaclab/cryoEM-notebooks/notebooks/Material/Heterogeneity/Multibody/output/bodies_body_0_final.mrc',\n",
       " '/home/fpoitevi/notebooks/cryo_home/slaclab/cryoEM-notebooks/notebooks/Material/Heterogeneity/Multibody/output/bodies_body_4_final.mrc',\n",
       " '/home/fpoitevi/notebooks/cryo_home/slaclab/cryoEM-notebooks/notebooks/Material/Heterogeneity/Multibody/output/bodies_body_5_final.mrc',\n",
       " '/home/fpoitevi/notebooks/cryo_home/slaclab/cryoEM-notebooks/notebooks/Material/Heterogeneity/Multibody/output/bodies_body_1_final.mrc',\n",
       " '/home/fpoitevi/notebooks/cryo_home/slaclab/cryoEM-notebooks/notebooks/Material/Heterogeneity/Multibody/output/bodies_body_3_final.mrc',\n",
       " '/home/fpoitevi/notebooks/cryo_home/slaclab/cryoEM-notebooks/notebooks/Material/Heterogeneity/Multibody/output/bodies_body_6_final.mrc']"
      ]
     },
     "execution_count": 44,
     "metadata": {},
     "output_type": "execute_result"
    }
   ],
   "source": [
    "glob.glob(body_dir+'*final*')"
   ]
  },
  {
   "cell_type": "markdown",
   "metadata": {},
   "source": [
    "They are ready to be imported in RELION, and the only remaining step is manual editing of a `bodies.star` also input to RELION to run the multibody refinement job, see https://elifesciences.org/articles/36861"
   ]
  }
 ],
 "metadata": {
  "kernelspec": {
   "display_name": "Python 3",
   "language": "python",
   "name": "python3"
  },
  "language_info": {
   "codemirror_mode": {
    "name": "ipython",
    "version": 3
   },
   "file_extension": ".py",
   "mimetype": "text/x-python",
   "name": "python",
   "nbconvert_exporter": "python",
   "pygments_lexer": "ipython3",
   "version": "3.6.3"
  }
 },
 "nbformat": 4,
 "nbformat_minor": 4
}
