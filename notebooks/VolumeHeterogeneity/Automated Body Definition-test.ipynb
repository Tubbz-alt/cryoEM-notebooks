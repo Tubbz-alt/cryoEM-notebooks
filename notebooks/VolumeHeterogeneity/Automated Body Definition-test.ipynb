{
 "cells": [
  {
   "cell_type": "code",
   "execution_count": 28,
   "metadata": {},
   "outputs": [],
   "source": [
    "%matplotlib inline\n",
    "import shutil, os, sys, glob\n",
    "import numpy as np\n",
    "from matplotlib import pyplot as plt\n",
    "import ipyvolume as ipv\n",
    "#\n",
    "sys.path.append('/home/fpoitevi/notebooks/cryo_home/slaclab/cryoEM-notebooks/src/')\n",
    "import cryoemio\n",
    "import imutils\n",
    "import dataviz\n",
    "import mrcutils"
   ]
  },
  {
   "cell_type": "markdown",
   "metadata": {},
   "source": [
    "# some useful paths and parameters"
   ]
  },
  {
   "cell_type": "code",
   "execution_count": 29,
   "metadata": {},
   "outputs": [],
   "source": [
    "input_dir = '/gpfs/slac/cryo/fs1/u/fpoitevi/processing/20181005-rib-TEM4/LocalRes/bin6_postautopick_good'\n",
    "body_dir  = '/gpfs/slac/cryo/fs1/u/fpoitevi/processing/20181005-rib-TEM4/bodymaker/bin6_postautopick_good'\n",
    "# files\n",
    "keyword='bodies_bin6_postautopick_good_'\n",
    "input_mrc    = input_dir+'/relion_locres_filtered.mrc'\n",
    "output_mask  = body_dir+'/'+keyword\n",
    "#"
   ]
  },
  {
   "cell_type": "markdown",
   "metadata": {},
   "source": [
    "# load map and retrieve standard deviation"
   ]
  },
  {
   "cell_type": "code",
   "execution_count": 4,
   "metadata": {},
   "outputs": [
    {
     "name": "stdout",
     "output_type": "stream",
     "text": [
      "0.11448731\n"
     ]
    }
   ],
   "source": [
    "data = mrcutils.mrc2data(input_mrc)\n",
    "input_std = np.std(data)\n",
    "print(input_std)"
   ]
  },
  {
   "cell_type": "markdown",
   "metadata": {},
   "source": [
    "# visualize effect of thresholding"
   ]
  },
  {
   "cell_type": "code",
   "execution_count": 52,
   "metadata": {},
   "outputs": [],
   "source": [
    "data_thresh = mrcutils.mrc_select(input_mrc, mode='above_value', value=1*input_std)"
   ]
  },
  {
   "cell_type": "code",
   "execution_count": 53,
   "metadata": {},
   "outputs": [
    {
     "data": {
      "application/vnd.jupyter.widget-view+json": {
       "model_id": "4c7bc2a823bb4a049d754c99535e2abf",
       "version_major": 2,
       "version_minor": 0
      },
      "text/plain": [
       "VBox(children=(VBox(children=(HBox(children=(Label(value='levels:'), FloatSlider(value=0.03112947940826416, maâ¦"
      ]
     },
     "metadata": {},
     "output_type": "display_data"
    }
   ],
   "source": [
    "ipv.quickvolshow(data_thresh, level=[1*input_std, 3*input_std], opacity=0.03, level_width=1*input_std, data_min=np.min(data_thresh), data_max=np.max(data_thresh))"
   ]
  },
  {
   "cell_type": "markdown",
   "metadata": {},
   "source": [
    "# visualize effect of binarizing"
   ]
  },
  {
   "cell_type": "code",
   "execution_count": 54,
   "metadata": {},
   "outputs": [
    {
     "data": {
      "application/vnd.jupyter.widget-view+json": {
       "model_id": "d99fa8556cec4a148ff5d7d33dd6d0c3",
       "version_major": 2,
       "version_minor": 0
      },
      "text/plain": [
       "VBox(children=(VBox(children=(HBox(children=(Label(value='levels:'), FloatSlider(value=0.0, max=1.0, step=0.00â¦"
      ]
     },
     "metadata": {},
     "output_type": "display_data"
    }
   ],
   "source": [
    "mask = mrcutils.data2mask(data_thresh, sigma_blur=0, threshold=0.1)\n",
    "ipv.quickvolshow(data_thresh, level=[0, 1], opacity=0.03)"
   ]
  },
  {
   "cell_type": "markdown",
   "metadata": {},
   "source": [
    "# define bodies: segment differential thresholding map\n",
    "\n",
    "The idea is to\n",
    "- blur mask_dry a lot\n",
    "- blur mask_fat a little\n",
    "- define the main body as the intersection of both\n",
    "- define the other bodies as what remains of mask_fat after removing the intersection\n",
    "- then segment them\n",
    "\n",
    "In other words:\n",
    "\n",
    "$B_0 = M_{fat} \\cap M_{dry}$\n",
    "\n",
    "$\\bigcup_{i>1}^{K} B_{i} = M_{fat} \\setminus B_0 $"
   ]
  },
  {
   "cell_type": "code",
   "execution_count": 13,
   "metadata": {},
   "outputs": [],
   "source": [
    "data_dry = mrcutils.mrc_select(input_mrc, mode='above_value', value=6*input_std)\n",
    "mask_dry = mrcutils.data2mask(data_dry, sigma_blur=15, threshold=0.01)\n",
    "data_fat = mrcutils.mrc_select(input_mrc, mode='above_value', value=1*input_std)\n",
    "mask_fat = mrcutils.data2mask(data_fat, sigma_blur=1, threshold=0.1)"
   ]
  },
  {
   "cell_type": "code",
   "execution_count": 14,
   "metadata": {},
   "outputs": [],
   "source": [
    "body0 = np.minimum(mask_dry,mask_fat)\n",
    "bodyK = mask_fat - body0"
   ]
  },
  {
   "cell_type": "code",
   "execution_count": 15,
   "metadata": {},
   "outputs": [
    {
     "data": {
      "application/vnd.jupyter.widget-view+json": {
       "model_id": "028d32f112a64c638e46111c5a060292",
       "version_major": 2,
       "version_minor": 0
      },
      "text/plain": [
       "VBox(children=(VBox(children=(HBox(children=(Label(value='levels:'), FloatSlider(value=0.0, max=1.0, step=0.00…"
      ]
     },
     "metadata": {},
     "output_type": "display_data"
    }
   ],
   "source": [
    "ipv.quickvolshow(body0, level=[0, 1], opacity=0.03)"
   ]
  },
  {
   "cell_type": "code",
   "execution_count": 16,
   "metadata": {},
   "outputs": [
    {
     "data": {
      "application/vnd.jupyter.widget-view+json": {
       "model_id": "f6ef768c2f934967b3331d996886241a",
       "version_major": 2,
       "version_minor": 0
      },
      "text/plain": [
       "VBox(children=(VBox(children=(HBox(children=(Label(value='levels:'), FloatSlider(value=0.0, max=1.0, step=0.00…"
      ]
     },
     "metadata": {},
     "output_type": "display_data"
    }
   ],
   "source": [
    "ipv.quickvolshow(bodyK, level=[0, 1], opacity=0.03)"
   ]
  },
  {
   "cell_type": "code",
   "execution_count": 17,
   "metadata": {},
   "outputs": [],
   "source": [
    "mrcutils.data2mrc(output_mask+'body_0.mrc',body0,mrc_template=input_mrc)\n",
    "mrcutils.data2mrc(output_mask+'body_K.mrc',bodyK,mrc_template=input_mrc)"
   ]
  },
  {
   "cell_type": "code",
   "execution_count": 21,
   "metadata": {},
   "outputs": [],
   "source": [
    "import skimage.morphology as morphology\n",
    "from skimage.morphology import watershed\n",
    "from skimage.feature import peak_local_max\n",
    "from scipy import ndimage\n",
    "fp=10\n",
    "distance = ndimage.distance_transform_edt(bodyK)\n",
    "local_maxi = peak_local_max(distance, indices=False, footprint=np.ones((fp,fp,fp)), labels=bodyK)\n",
    "markers = morphology.label(local_maxi)\n",
    "labels_ws = watershed(-distance, markers, mask=bodyK)"
   ]
  },
  {
   "cell_type": "code",
   "execution_count": 22,
   "metadata": {},
   "outputs": [
    {
     "data": {
      "application/vnd.jupyter.widget-view+json": {
       "model_id": "feabbdad1e784baba7888141ecec8d78",
       "version_major": 2,
       "version_minor": 0
      },
      "text/plain": [
       "VBox(children=(VBox(children=(HBox(children=(Label(value='levels:'), FloatSlider(value=0.0, max=1.0, step=0.00…"
      ]
     },
     "metadata": {},
     "output_type": "display_data"
    }
   ],
   "source": [
    "ipv.quickvolshow(labels_ws, level=[0, float(np.max(labels_ws))], opacity=0.03)"
   ]
  },
  {
   "cell_type": "code",
   "execution_count": 24,
   "metadata": {},
   "outputs": [
    {
     "name": "stderr",
     "output_type": "stream",
     "text": [
      "/opt/rh/rh-python36/root/usr/lib64/python3.6/site-packages/numpy/core/numeric.py:538: UserWarning: Warning: converting a masked element to nan.\n",
      "  return array(a, dtype, copy=False, order=order)\n"
     ]
    },
    {
     "name": "stdout",
     "output_type": "stream",
     "text": [
      "/gpfs/slac/cryo/fs1/u/fpoitevi/processing/20181005-rib-TEM4/bodymaker/bin6_postautopick_good/bodies_bin6_postautopick_good_body_K_watershed1.mrc > volume = 60090.0\n",
      "/gpfs/slac/cryo/fs1/u/fpoitevi/processing/20181005-rib-TEM4/bodymaker/bin6_postautopick_good/bodies_bin6_postautopick_good_body_K_watershed2.mrc > volume = 54080.0\n",
      "/gpfs/slac/cryo/fs1/u/fpoitevi/processing/20181005-rib-TEM4/bodymaker/bin6_postautopick_good/bodies_bin6_postautopick_good_body_K_watershed3.mrc > volume = 50832.0\n",
      "/gpfs/slac/cryo/fs1/u/fpoitevi/processing/20181005-rib-TEM4/bodymaker/bin6_postautopick_good/bodies_bin6_postautopick_good_body_K_watershed4.mrc > volume = 39704.0\n",
      "/gpfs/slac/cryo/fs1/u/fpoitevi/processing/20181005-rib-TEM4/bodymaker/bin6_postautopick_good/bodies_bin6_postautopick_good_body_K_watershed5.mrc > volume = 29656.0\n",
      "/gpfs/slac/cryo/fs1/u/fpoitevi/processing/20181005-rib-TEM4/bodymaker/bin6_postautopick_good/bodies_bin6_postautopick_good_body_K_watershed6.mrc > volume = 21258.0\n",
      "/gpfs/slac/cryo/fs1/u/fpoitevi/processing/20181005-rib-TEM4/bodymaker/bin6_postautopick_good/bodies_bin6_postautopick_good_body_K_watershed7.mrc > volume = 5994.0\n",
      "/gpfs/slac/cryo/fs1/u/fpoitevi/processing/20181005-rib-TEM4/bodymaker/bin6_postautopick_good/bodies_bin6_postautopick_good_body_K_watershed8.mrc > volume = 5320.0\n",
      "/gpfs/slac/cryo/fs1/u/fpoitevi/processing/20181005-rib-TEM4/bodymaker/bin6_postautopick_good/bodies_bin6_postautopick_good_body_K_watershed9.mrc > volume = 2921.0\n",
      "/gpfs/slac/cryo/fs1/u/fpoitevi/processing/20181005-rib-TEM4/bodymaker/bin6_postautopick_good/bodies_bin6_postautopick_good_body_K_watershed10.mrc > volume = 2592.0\n",
      "/gpfs/slac/cryo/fs1/u/fpoitevi/processing/20181005-rib-TEM4/bodymaker/bin6_postautopick_good/bodies_bin6_postautopick_good_body_K_watershed11.mrc > volume = 2432.0\n",
      "/gpfs/slac/cryo/fs1/u/fpoitevi/processing/20181005-rib-TEM4/bodymaker/bin6_postautopick_good/bodies_bin6_postautopick_good_body_K_watershed12.mrc > volume = 1914.0\n",
      "/gpfs/slac/cryo/fs1/u/fpoitevi/processing/20181005-rib-TEM4/bodymaker/bin6_postautopick_good/bodies_bin6_postautopick_good_body_K_watershed13.mrc > volume = 1743.0\n",
      "/gpfs/slac/cryo/fs1/u/fpoitevi/processing/20181005-rib-TEM4/bodymaker/bin6_postautopick_good/bodies_bin6_postautopick_good_body_K_watershed14.mrc > volume = 1540.0\n",
      "/gpfs/slac/cryo/fs1/u/fpoitevi/processing/20181005-rib-TEM4/bodymaker/bin6_postautopick_good/bodies_bin6_postautopick_good_body_K_watershed15.mrc > volume = 1468.0\n",
      "/gpfs/slac/cryo/fs1/u/fpoitevi/processing/20181005-rib-TEM4/bodymaker/bin6_postautopick_good/bodies_bin6_postautopick_good_body_K_watershed16.mrc > volume = 1190.0\n",
      "/gpfs/slac/cryo/fs1/u/fpoitevi/processing/20181005-rib-TEM4/bodymaker/bin6_postautopick_good/bodies_bin6_postautopick_good_body_K_watershed17.mrc > volume = 848.0\n",
      "/gpfs/slac/cryo/fs1/u/fpoitevi/processing/20181005-rib-TEM4/bodymaker/bin6_postautopick_good/bodies_bin6_postautopick_good_body_K_watershed18.mrc > volume = 780.0\n",
      "/gpfs/slac/cryo/fs1/u/fpoitevi/processing/20181005-rib-TEM4/bodymaker/bin6_postautopick_good/bodies_bin6_postautopick_good_body_K_watershed19.mrc > volume = 590.0\n",
      "/gpfs/slac/cryo/fs1/u/fpoitevi/processing/20181005-rib-TEM4/bodymaker/bin6_postautopick_good/bodies_bin6_postautopick_good_body_K_watershed20.mrc > volume = 246.0\n",
      "/gpfs/slac/cryo/fs1/u/fpoitevi/processing/20181005-rib-TEM4/bodymaker/bin6_postautopick_good/bodies_bin6_postautopick_good_body_K_watershed21.mrc > volume = 16.0\n",
      "/gpfs/slac/cryo/fs1/u/fpoitevi/processing/20181005-rib-TEM4/bodymaker/bin6_postautopick_good/bodies_bin6_postautopick_good_body_K_watershed22.mrc > volume = 13.0\n",
      "/gpfs/slac/cryo/fs1/u/fpoitevi/processing/20181005-rib-TEM4/bodymaker/bin6_postautopick_good/bodies_bin6_postautopick_good_body_K_watershed23.mrc > volume = 2.0\n"
     ]
    }
   ],
   "source": [
    "mrcutils.data2mrc(output_mask+'body_K_watershed_seg.mrc',labels_ws,mrc_template=input_mrc)\n",
    "# break down: one mask per segment\n",
    "mrcutils.seg2mask(output_mask+'body_K_watershed_seg.mrc', output_mask+'body_K_watershed', sigma_blur=1,sort='volume',verbose=True)"
   ]
  },
  {
   "cell_type": "markdown",
   "metadata": {},
   "source": [
    "At that point, a visual inspection (in Chimera) leads to following decision:\n",
    "- body 0: 0,7,8,9,10,11,12,13,14,15,16,17,18,19,20,21,22,23\n",
    "- body 1: 1\n",
    "- body 2: 2\n",
    "- body 3: 3\n",
    "- body 4: 4\n",
    "- body 5: 5\n",
    "- body 6: 6"
   ]
  },
  {
   "cell_type": "code",
   "execution_count": 30,
   "metadata": {},
   "outputs": [
    {
     "ename": "OSError",
     "evalue": "[Errno 122] Disk quota exceeded",
     "output_type": "error",
     "traceback": [
      "\u001b[0;31m---------------------------------------------------------------------------\u001b[0m",
      "\u001b[0;31mOSError\u001b[0m                                   Traceback (most recent call last)",
      "\u001b[0;32m/opt/rh/rh-python36/root/usr/lib64/python3.6/shutil.py\u001b[0m in \u001b[0;36mcopyfile\u001b[0;34m(src, dst, follow_symlinks)\u001b[0m\n\u001b[1;32m    121\u001b[0m             \u001b[0;32mwith\u001b[0m \u001b[0mopen\u001b[0m\u001b[0;34m(\u001b[0m\u001b[0mdst\u001b[0m\u001b[0;34m,\u001b[0m \u001b[0;34m'wb'\u001b[0m\u001b[0;34m)\u001b[0m \u001b[0;32mas\u001b[0m \u001b[0mfdst\u001b[0m\u001b[0;34m:\u001b[0m\u001b[0;34m\u001b[0m\u001b[0m\n\u001b[0;32m--> 122\u001b[0;31m                 \u001b[0mcopyfileobj\u001b[0m\u001b[0;34m(\u001b[0m\u001b[0mfsrc\u001b[0m\u001b[0;34m,\u001b[0m \u001b[0mfdst\u001b[0m\u001b[0;34m)\u001b[0m\u001b[0;34m\u001b[0m\u001b[0m\n\u001b[0m\u001b[1;32m    123\u001b[0m     \u001b[0;32mreturn\u001b[0m \u001b[0mdst\u001b[0m\u001b[0;34m\u001b[0m\u001b[0m\n",
      "\u001b[0;32m/opt/rh/rh-python36/root/usr/lib64/python3.6/shutil.py\u001b[0m in \u001b[0;36mcopyfileobj\u001b[0;34m(fsrc, fdst, length)\u001b[0m\n\u001b[1;32m     81\u001b[0m             \u001b[0;32mbreak\u001b[0m\u001b[0;34m\u001b[0m\u001b[0m\n\u001b[0;32m---> 82\u001b[0;31m         \u001b[0mfdst\u001b[0m\u001b[0;34m.\u001b[0m\u001b[0mwrite\u001b[0m\u001b[0;34m(\u001b[0m\u001b[0mbuf\u001b[0m\u001b[0;34m)\u001b[0m\u001b[0;34m\u001b[0m\u001b[0m\n\u001b[0m\u001b[1;32m     83\u001b[0m \u001b[0;34m\u001b[0m\u001b[0m\n",
      "\u001b[0;31mOSError\u001b[0m: [Errno 122] Disk quota exceeded",
      "\nDuring handling of the above exception, another exception occurred:\n",
      "\u001b[0;31mOSError\u001b[0m                                   Traceback (most recent call last)",
      "\u001b[0;32m<ipython-input-30-74a14cea0284>\u001b[0m in \u001b[0;36m<module>\u001b[0;34m\u001b[0m\n\u001b[1;32m      1\u001b[0m \u001b[0;31m# final body 0\u001b[0m\u001b[0;34m\u001b[0m\u001b[0;34m\u001b[0m\u001b[0m\n\u001b[0;32m----> 2\u001b[0;31m \u001b[0mshutil\u001b[0m\u001b[0;34m.\u001b[0m\u001b[0mcopyfile\u001b[0m\u001b[0;34m(\u001b[0m\u001b[0moutput_mask\u001b[0m\u001b[0;34m+\u001b[0m\u001b[0;34m'body_0.mrc'\u001b[0m\u001b[0;34m,\u001b[0m \u001b[0;34m'tmp.mrc'\u001b[0m\u001b[0;34m)\u001b[0m\u001b[0;34m\u001b[0m\u001b[0m\n\u001b[0m\u001b[1;32m      3\u001b[0m \u001b[0;32mfor\u001b[0m \u001b[0mi\u001b[0m \u001b[0;32min\u001b[0m \u001b[0;34m[\u001b[0m\u001b[0;36m7\u001b[0m\u001b[0;34m,\u001b[0m\u001b[0;36m8\u001b[0m\u001b[0;34m,\u001b[0m\u001b[0;36m9\u001b[0m\u001b[0;34m,\u001b[0m\u001b[0;36m10\u001b[0m\u001b[0;34m,\u001b[0m\u001b[0;36m11\u001b[0m\u001b[0;34m,\u001b[0m\u001b[0;36m12\u001b[0m\u001b[0;34m,\u001b[0m\u001b[0;36m13\u001b[0m\u001b[0;34m,\u001b[0m\u001b[0;36m14\u001b[0m\u001b[0;34m,\u001b[0m\u001b[0;36m15\u001b[0m\u001b[0;34m,\u001b[0m\u001b[0;36m16\u001b[0m\u001b[0;34m,\u001b[0m\u001b[0;36m17\u001b[0m\u001b[0;34m,\u001b[0m\u001b[0;36m18\u001b[0m\u001b[0;34m,\u001b[0m\u001b[0;36m19\u001b[0m\u001b[0;34m,\u001b[0m\u001b[0;36m20\u001b[0m\u001b[0;34m,\u001b[0m\u001b[0;36m21\u001b[0m\u001b[0;34m,\u001b[0m\u001b[0;36m22\u001b[0m\u001b[0;34m,\u001b[0m\u001b[0;36m23\u001b[0m\u001b[0;34m]\u001b[0m\u001b[0;34m:\u001b[0m\u001b[0;34m\u001b[0m\u001b[0m\n\u001b[1;32m      4\u001b[0m     \u001b[0mmrcutils\u001b[0m\u001b[0;34m.\u001b[0m\u001b[0mmrc_algebra\u001b[0m\u001b[0;34m(\u001b[0m\u001b[0;34m'tmp.mrc'\u001b[0m\u001b[0;34m,\u001b[0m\u001b[0moutput_mask\u001b[0m\u001b[0;34m+\u001b[0m\u001b[0;34m'body_K_watershed'\u001b[0m\u001b[0;34m+\u001b[0m\u001b[0mstr\u001b[0m\u001b[0;34m(\u001b[0m\u001b[0mi\u001b[0m\u001b[0;34m)\u001b[0m\u001b[0;34m+\u001b[0m\u001b[0;34m'.mrc'\u001b[0m\u001b[0;34m,\u001b[0m\u001b[0;34m'tmp2.mrc'\u001b[0m\u001b[0;34m)\u001b[0m\u001b[0;34m\u001b[0m\u001b[0m\n\u001b[1;32m      5\u001b[0m     \u001b[0mos\u001b[0m\u001b[0;34m.\u001b[0m\u001b[0mremove\u001b[0m\u001b[0;34m(\u001b[0m\u001b[0;34m'tmp.mrc'\u001b[0m\u001b[0;34m)\u001b[0m\u001b[0;34m\u001b[0m\u001b[0m\n",
      "\u001b[0;32m/opt/rh/rh-python36/root/usr/lib64/python3.6/shutil.py\u001b[0m in \u001b[0;36mcopyfile\u001b[0;34m(src, dst, follow_symlinks)\u001b[0m\n\u001b[1;32m    120\u001b[0m         \u001b[0;32mwith\u001b[0m \u001b[0mopen\u001b[0m\u001b[0;34m(\u001b[0m\u001b[0msrc\u001b[0m\u001b[0;34m,\u001b[0m \u001b[0;34m'rb'\u001b[0m\u001b[0;34m)\u001b[0m \u001b[0;32mas\u001b[0m \u001b[0mfsrc\u001b[0m\u001b[0;34m:\u001b[0m\u001b[0;34m\u001b[0m\u001b[0m\n\u001b[1;32m    121\u001b[0m             \u001b[0;32mwith\u001b[0m \u001b[0mopen\u001b[0m\u001b[0;34m(\u001b[0m\u001b[0mdst\u001b[0m\u001b[0;34m,\u001b[0m \u001b[0;34m'wb'\u001b[0m\u001b[0;34m)\u001b[0m \u001b[0;32mas\u001b[0m \u001b[0mfdst\u001b[0m\u001b[0;34m:\u001b[0m\u001b[0;34m\u001b[0m\u001b[0m\n\u001b[0;32m--> 122\u001b[0;31m                 \u001b[0mcopyfileobj\u001b[0m\u001b[0;34m(\u001b[0m\u001b[0mfsrc\u001b[0m\u001b[0;34m,\u001b[0m \u001b[0mfdst\u001b[0m\u001b[0;34m)\u001b[0m\u001b[0;34m\u001b[0m\u001b[0m\n\u001b[0m\u001b[1;32m    123\u001b[0m     \u001b[0;32mreturn\u001b[0m \u001b[0mdst\u001b[0m\u001b[0;34m\u001b[0m\u001b[0m\n\u001b[1;32m    124\u001b[0m \u001b[0;34m\u001b[0m\u001b[0m\n",
      "\u001b[0;31mOSError\u001b[0m: [Errno 122] Disk quota exceeded"
     ]
    }
   ],
   "source": [
    "# final body 0 \n",
    "shutil.copyfile(output_mask+'body_0.mrc', 'tmp.mrc')\n",
    "for i in [7,8,9,10,11,12,13,14,15,16,17,18,19,20,21,22,23]:\n",
    "    mrcutils.mrc_algebra('tmp.mrc',output_mask+'body_K_watershed'+str(i)+'.mrc','tmp2.mrc')\n",
    "    os.remove('tmp.mrc')\n",
    "    os.rename('tmp2.mrc', 'tmp.mrc')\n",
    "mrcutils.mrc2mask('tmp.mrc', output_mask+'body_0_final.mrc', sigma_blur=0., threshold=0.1)\n",
    "os.remove('tmp.mrc')\n",
    "# final bodies 1 to 6\n",
    "for i in np.arange(1,7):\n",
    "    shutil.copyfile(output_mask+'body_K_watershed'+str(i)+'.mrc', output_mask+'body_'+str(i)+'_final.mrc')\n",
    "# final body 1\n",
    "#shutil.copyfile(output_mask+'body_K_watershed1.mrc', 'tmp.mrc')\n",
    "#for i in [7]:\n",
    "#    mrcutils.mrc_algebra('tmp.mrc',output_mask+'body_K_watershed'+str(i)+'.mrc','tmp2.mrc')\n",
    "#    os.remove('tmp.mrc')\n",
    "#    os.rename('tmp2.mrc', 'tmp.mrc')\n",
    "#mrcutils.mrc2mask('tmp.mrc', output_mask+'body_1_final.mrc', sigma_blur=0., threshold=0.1)\n",
    "#os.remove('tmp.mrc')\n",
    "# final body 2\n",
    "#shutil.copyfile(output_mask+'body_K_watershed2.mrc', output_mask+'body_2_final.mrc')\n",
    "# final body 3\n",
    "#shutil.copyfile(output_mask+'body_K_watershed3.mrc', 'tmp.mrc')\n",
    "#for i in [4,5,6,9]:\n",
    "#    mrcutils.mrc_algebra('tmp.mrc',output_mask+'body_K_watershed'+str(i)+'.mrc','tmp2.mrc')\n",
    "#    os.remove('tmp.mrc')\n",
    "#    os.rename('tmp2.mrc', 'tmp.mrc')\n",
    "#mrcutils.mrc2mask('tmp.mrc', output_mask+'body_3_final.mrc', sigma_blur=0., threshold=0.1)\n",
    "#os.remove('tmp.mrc')\n",
    "# final body 4\n",
    "#shutil.copyfile(output_mask+'body_K_watershed11.mrc', output_mask+'body_4_final.mrc')"
   ]
  },
  {
   "cell_type": "code",
   "execution_count": null,
   "metadata": {},
   "outputs": [],
   "source": []
  },
  {
   "cell_type": "code",
   "execution_count": null,
   "metadata": {},
   "outputs": [],
   "source": []
  }
 ],
 "metadata": {
  "kernelspec": {
   "display_name": "Python 3",
   "language": "python",
   "name": "python3"
  },
  "language_info": {
   "codemirror_mode": {
    "name": "ipython",
    "version": 3
   },
   "file_extension": ".py",
   "mimetype": "text/x-python",
   "name": "python",
   "nbconvert_exporter": "python",
   "pygments_lexer": "ipython3",
   "version": "3.6.3"
  }
 },
 "nbformat": 4,
 "nbformat_minor": 2
}
