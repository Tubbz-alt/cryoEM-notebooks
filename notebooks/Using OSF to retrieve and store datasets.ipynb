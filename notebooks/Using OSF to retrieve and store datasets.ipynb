{
 "cells": [
  {
   "cell_type": "markdown",
   "metadata": {},
   "source": [
    "# Setting up the local directory\n",
    "\n",
    "`$ echo \"export OSF_PASSWORD='your password'\" > ~/.osfrc`\n",
    "\n",
    "`$ source ~/.osf.rc`"
   ]
  },
  {
   "cell_type": "markdown",
   "metadata": {},
   "source": [
    "Go to the local directory you want to interface with the OSF project\n",
    "\n",
    "`$ osf init`\n",
    "> give your username\n",
    "\n",
    "> give the project id (e.g. 7g42j)"
   ]
  },
  {
   "cell_type": "markdown",
   "metadata": {},
   "source": [
    "# List OSF project content\n",
    "\n",
    "`$ osf ls > osf_ls.txt`\n",
    "\n",
    "`$ head osf_ls.txt`\n",
    "```osfstorage/randomrot_nodisorder/4v6x_randomrot_copy9_defocus3.0_yes_noise.h5\n",
    "osfstorage/randomrot_nodisorder/4v6x_randomrot_copy9_defocus2.5_yes_noise.h5\n",
    "osfstorage/randomrot_nodisorder/4v6x_randomrot_copy99_defocus3.0_yes_noise.h5\n",
    "osfstorage/randomrot_nodisorder/4v6x_randomrot_copy99_defocus2.5_yes_noise.h5\n",
    "...```"
   ]
  },
  {
   "cell_type": "code",
   "execution_count": null,
   "metadata": {},
   "outputs": [],
   "source": []
  }
 ],
 "metadata": {
  "kernelspec": {
   "display_name": "Python 3",
   "language": "python",
   "name": "python3"
  },
  "language_info": {
   "codemirror_mode": {
    "name": "ipython",
    "version": 3
   },
   "file_extension": ".py",
   "mimetype": "text/x-python",
   "name": "python",
   "nbconvert_exporter": "python",
   "pygments_lexer": "ipython3",
   "version": "3.6.3"
  }
 },
 "nbformat": 4,
 "nbformat_minor": 2
}
