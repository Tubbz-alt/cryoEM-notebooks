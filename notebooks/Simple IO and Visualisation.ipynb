{
 "cells": [
  {
   "cell_type": "markdown",
   "metadata": {},
   "source": [
    "load a structure from the pdb and display it; enable an interactive view of the data"
   ]
  },
  {
   "cell_type": "code",
   "execution_count": 1,
   "metadata": {},
   "outputs": [
    {
     "data": {
      "application/vnd.jupyter.widget-view+json": {
       "model_id": "98da22c63359433da07b76a532f6d44c",
       "version_major": 2,
       "version_minor": 0
      },
      "text/plain": [
       "NGLWidget()"
      ]
     },
     "metadata": {},
     "output_type": "display_data"
    }
   ],
   "source": [
    "import nglview as nv\n",
    "import pytraj as pt\n",
    "# for manipulation of molecular structures, we would also need:\n",
    "# mdtraj (http://mdtraj.org/1.9.3/)\n",
    "# msmbuilder (http://msmbuilder.org/3.8.0/)\n",
    "# pyemma (http://emma-project.org/latest/)\n",
    "# prody (http://prody.csb.pitt.edu/)\n",
    "\n",
    "traj = pt.load('./material/simple_data/3pqr.pdb')\n",
    "view = nv.show_pytraj(traj)\n",
    "view"
   ]
  },
  {
   "cell_type": "markdown",
   "metadata": {},
   "source": [
    "this will be useful, just have to work out how to fill it with data"
   ]
  },
  {
   "cell_type": "code",
   "execution_count": 2,
   "metadata": {},
   "outputs": [
    {
     "data": {
      "application/vnd.jupyter.widget-view+json": {
       "model_id": "3984ec4fb7ae4e23915fea91f6f39712",
       "version_major": 2,
       "version_minor": 0
      },
      "text/plain": [
       "VBox(children=(Figure(camera=PerspectiveCamera(fov=46.0, position=(0.0, 0.0, 2.0), quaternion=(0.0, 0.0, 0.0, …"
      ]
     },
     "metadata": {},
     "output_type": "display_data"
    }
   ],
   "source": [
    "import ipyvolume as ipv\n",
    "import numpy as np\n",
    "x, y, z = np.random.random((3, 10000))\n",
    "v = np.random.random((50,10000))\n",
    "ipv.quickscatter(x, y, z, size=v, marker=\"sphere\")"
   ]
  },
  {
   "cell_type": "code",
   "execution_count": 3,
   "metadata": {},
   "outputs": [
    {
     "name": "stdout",
     "output_type": "stream",
     "text": [
      "Downloading https://github.com/maartenbreddels/ipyvolume/raw/master/datasets/hdz2000.npy.bz2 to /home/fpoitevi/.ipyvolume/datasets/hdz2000.npy.bz2\n"
     ]
    },
    {
     "name": "stderr",
     "output_type": "stream",
     "text": [
      "/opt/rh/rh-python36/root/usr/lib/python3.6/site-packages/ipyvolume/serialize.py:81: RuntimeWarning: invalid value encountered in true_divide\n",
      "  gradient = gradient / np.sqrt(gradient[0]**2 + gradient[1]**2 + gradient[2]**2)\n"
     ]
    },
    {
     "data": {
      "application/vnd.jupyter.widget-view+json": {
       "model_id": "c34d74c0452540658a40e2ac0aa52025",
       "version_major": 2,
       "version_minor": 0
      },
      "text/plain": [
       "Volume(data=array([[[92, 87, 80, ..., 74, 77, 77],\n",
       "        [89, 85, 79, ..., 73, 75, 76],\n",
       "        [84, 82, 79,…"
      ]
     },
     "metadata": {},
     "output_type": "display_data"
    }
   ],
   "source": [
    "hdz = ipv.datasets.hdz2000.fetch()\n",
    "ipv.volshow( hdz.data, lighting=True, level=[ 0.4, 0.6, 0.9 ] )"
   ]
  },
  {
   "cell_type": "code",
   "execution_count": 18,
   "metadata": {},
   "outputs": [
    {
     "name": "stdout",
     "output_type": "stream",
     "text": [
      "Help on class Dataset in module ipyvolume.datasets:\n",
      "\n",
      "class Dataset(builtins.object)\n",
      " |  Methods defined here:\n",
      " |  \n",
      " |  __init__(self, name, density=True, numpy=False, raw=False, shape=None, dtype=None)\n",
      " |      Initialize self.  See help(type(self)) for accurate signature.\n",
      " |  \n",
      " |  download(self, force=False)\n",
      " |  \n",
      " |  download_command_curl(self)\n",
      " |  \n",
      " |  download_command_wget(self)\n",
      " |  \n",
      " |  download_urlretrieve(self)\n",
      " |  \n",
      " |  fetch(self)\n",
      " |  \n",
      " |  ----------------------------------------------------------------------\n",
      " |  Data descriptors defined here:\n",
      " |  \n",
      " |  __dict__\n",
      " |      dictionary for instance variables (if defined)\n",
      " |  \n",
      " |  __weakref__\n",
      " |      list of weak references to the object (if defined)\n",
      "\n"
     ]
    }
   ],
   "source": [
    "help(ipv.datasets.Dataset)"
   ]
  },
  {
   "cell_type": "code",
   "execution_count": null,
   "metadata": {},
   "outputs": [],
   "source": []
  }
 ],
 "metadata": {
  "kernelspec": {
   "display_name": "Python 3",
   "language": "python",
   "name": "python3"
  },
  "language_info": {
   "codemirror_mode": {
    "name": "ipython",
    "version": 3
   },
   "file_extension": ".py",
   "mimetype": "text/x-python",
   "name": "python",
   "nbconvert_exporter": "python",
   "pygments_lexer": "ipython3",
   "version": "3.6.3"
  }
 },
 "nbformat": 4,
 "nbformat_minor": 2
}
