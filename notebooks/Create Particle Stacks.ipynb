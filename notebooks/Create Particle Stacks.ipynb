{
 "cells": [
  {
   "cell_type": "markdown",
   "metadata": {},
   "source": [
    "# Notes on creating a generic particles reader/writer class\n",
    "\n",
    "there's soemthing funky going on with references "
   ]
  },
  {
   "cell_type": "code",
   "execution_count": 1,
   "metadata": {},
   "outputs": [],
   "source": [
    "DATADIR = '/gpfs/slac/cryo/fs1/g/ML/cryoEM-notebooks/data/20181005-rib-TEM4/Extract/extract_one_2dclass/Micrographs'"
   ]
  },
  {
   "cell_type": "code",
   "execution_count": 2,
   "metadata": {},
   "outputs": [],
   "source": [
    "import h5py\n",
    "import glob\n",
    "from os import path\n",
    "import numpy as np\n",
    "import mrcfile"
   ]
  },
  {
   "cell_type": "code",
   "execution_count": 3,
   "metadata": {},
   "outputs": [],
   "source": [
    "def parse_particle_star( filepath ):\n",
    "    with open(filepath, 'r') as f:\n",
    "        keys = []\n",
    "        for i in f.readlines():\n",
    "            if i.startswith('_rln'):\n",
    "                k = i.split()[0].replace('_rln','')\n",
    "                keys.append(k)\n",
    "            else:\n",
    "                data = i.split()\n",
    "                if len(data) == len(keys) and len(data) > 0:\n",
    "                    out = {}\n",
    "                    for n,k in enumerate(keys):\n",
    "                        out[k] = data[n]\n",
    "                        try:\n",
    "                            if k not in ('ClassNumber',):\n",
    "                                out[k] = float(data[n])\n",
    "                        except:\n",
    "                            pass\n",
    "#                     print(\"  %s found: %s\" % (i,out,))\n",
    "                    yield out\n",
    "\n",
    "def get_particle_image( mrcs ):\n",
    "    with mrcfile.open(mrcs, permissive=True) as particles:\n",
    "        # print( particles.data.shape )\n",
    "        # mrcfile returns just a 2 dimensional matrix if only single image\n",
    "        if len(particles.data.shape) == 2:\n",
    "            yield particles.data\n",
    "        else:\n",
    "            for p in particles.data:\n",
    "                yield p\n",
    "\n",
    "def get_images( file_pattern, star_pattern ):\n",
    "    for mrc in glob.glob( file_pattern ):\n",
    "#         print(\"File: %s\" % (mrc,))\n",
    "        star_file = mrc.replace( *star_pattern )\n",
    "        md = None\n",
    "        if path.exists( star_file ):\n",
    "            md = [ m for m in parse_particle_star( star_file ) ]\n",
    "#         print(\" meta: %s -> %s\" % (star_file,len(md)))\n",
    "        for i, p in enumerate( get_particle_image( mrc ) ):\n",
    "            yield p, md[i] if md else None\n",
    "                \n",
    "def create_particle_stack( output_file, file_pattern='./*.mrcs', star_pattern=('.mrcs', '_extract.star'), dsname='particles', parse_particle_star=True, first=None ):\n",
    "    with h5py.File(output_file, 'w') as hf:\n",
    "        i = 0\n",
    "        for p,meta in get_images( file_pattern, star_pattern ):\n",
    "#             print( \" got %s: %s (%s)\" % (i,p.shape,meta) )\n",
    "            if i == 0:\n",
    "                hf.create_dataset(dsname, data=p[np.newaxis,...], maxshape=(None,p.shape[0],p.shape[1]), chunks=True)\n",
    "            else:\n",
    "#                 print(\"P: %s\" % (p,))\n",
    "                hf[dsname].resize( (hf[dsname].shape[0]+1), axis=0 )\n",
    "                hf[dsname][-hf[dsname].shape[0]:] = p.copy()\n",
    "\n",
    "#             print(\"%s\" % (hf[dsname].shape,))\n",
    "            print( \".\", end='')\n",
    "            \n",
    "            if first and i >= first - 1:\n",
    "                break\n",
    "            i = i+1\n"
   ]
  },
  {
   "cell_type": "code",
   "execution_count": 4,
   "metadata": {},
   "outputs": [
    {
     "name": "stdout",
     "output_type": "stream",
     "text": [
      "....."
     ]
    }
   ],
   "source": [
    "create_particle_stack( '/tmp/particles.hdf', file_pattern=DATADIR+\"/*.mrcs\", first=5 )"
   ]
  },
  {
   "cell_type": "markdown",
   "metadata": {},
   "source": [
    "hmmm... all the images are the same... even though i'm using p.copy() above..."
   ]
  },
  {
   "cell_type": "code",
   "execution_count": 5,
   "metadata": {},
   "outputs": [
    {
     "name": "stdout",
     "output_type": "stream",
     "text": [
      "<HDF5 dataset \"particles\": shape (5, 540, 540), type \"<f4\">\n",
      "I 0: [[-1.6703042   0.04279047  1.1082757  ...  1.1201062  -1.0580032\n",
      "  -0.18329015]\n",
      " [-1.3252518  -0.5656686   0.50778794 ...  1.8512449  -0.5306258\n",
      "  -0.36595204]\n",
      " [-1.1735461  -0.89015764  0.26884112 ...  1.4333687  -0.44683903\n",
      "  -0.42583343]\n",
      " ...\n",
      " [-0.9653343   0.10381357  0.25659594 ... -0.23840512 -1.089901\n",
      "   0.7021539 ]\n",
      " [ 0.38384575  0.3199892  -0.08682799 ...  0.5943302  -0.0815199\n",
      "   0.96424836]\n",
      " [ 0.8728238   1.2109184   0.30578512 ...  0.2631717   1.7938929\n",
      "   2.07715   ]] \n",
      "I 1: [[-1.6703042   0.04279047  1.1082757  ...  1.1201062  -1.0580032\n",
      "  -0.18329015]\n",
      " [-1.3252518  -0.5656686   0.50778794 ...  1.8512449  -0.5306258\n",
      "  -0.36595204]\n",
      " [-1.1735461  -0.89015764  0.26884112 ...  1.4333687  -0.44683903\n",
      "  -0.42583343]\n",
      " ...\n",
      " [-0.9653343   0.10381357  0.25659594 ... -0.23840512 -1.089901\n",
      "   0.7021539 ]\n",
      " [ 0.38384575  0.3199892  -0.08682799 ...  0.5943302  -0.0815199\n",
      "   0.96424836]\n",
      " [ 0.8728238   1.2109184   0.30578512 ...  0.2631717   1.7938929\n",
      "   2.07715   ]] \n",
      "I 2: [[-1.6703042   0.04279047  1.1082757  ...  1.1201062  -1.0580032\n",
      "  -0.18329015]\n",
      " [-1.3252518  -0.5656686   0.50778794 ...  1.8512449  -0.5306258\n",
      "  -0.36595204]\n",
      " [-1.1735461  -0.89015764  0.26884112 ...  1.4333687  -0.44683903\n",
      "  -0.42583343]\n",
      " ...\n",
      " [-0.9653343   0.10381357  0.25659594 ... -0.23840512 -1.089901\n",
      "   0.7021539 ]\n",
      " [ 0.38384575  0.3199892  -0.08682799 ...  0.5943302  -0.0815199\n",
      "   0.96424836]\n",
      " [ 0.8728238   1.2109184   0.30578512 ...  0.2631717   1.7938929\n",
      "   2.07715   ]] \n",
      "I 3: [[-1.6703042   0.04279047  1.1082757  ...  1.1201062  -1.0580032\n",
      "  -0.18329015]\n",
      " [-1.3252518  -0.5656686   0.50778794 ...  1.8512449  -0.5306258\n",
      "  -0.36595204]\n",
      " [-1.1735461  -0.89015764  0.26884112 ...  1.4333687  -0.44683903\n",
      "  -0.42583343]\n",
      " ...\n",
      " [-0.9653343   0.10381357  0.25659594 ... -0.23840512 -1.089901\n",
      "   0.7021539 ]\n",
      " [ 0.38384575  0.3199892  -0.08682799 ...  0.5943302  -0.0815199\n",
      "   0.96424836]\n",
      " [ 0.8728238   1.2109184   0.30578512 ...  0.2631717   1.7938929\n",
      "   2.07715   ]] \n",
      "I 4: [[-1.6703042   0.04279047  1.1082757  ...  1.1201062  -1.0580032\n",
      "  -0.18329015]\n",
      " [-1.3252518  -0.5656686   0.50778794 ...  1.8512449  -0.5306258\n",
      "  -0.36595204]\n",
      " [-1.1735461  -0.89015764  0.26884112 ...  1.4333687  -0.44683903\n",
      "  -0.42583343]\n",
      " ...\n",
      " [-0.9653343   0.10381357  0.25659594 ... -0.23840512 -1.089901\n",
      "   0.7021539 ]\n",
      " [ 0.38384575  0.3199892  -0.08682799 ...  0.5943302  -0.0815199\n",
      "   0.96424836]\n",
      " [ 0.8728238   1.2109184   0.30578512 ...  0.2631717   1.7938929\n",
      "   2.07715   ]] \n"
     ]
    },
    {
     "data": {
      "text/plain": [
       "<Figure size 1200x1200 with 5 Axes>"
      ]
     },
     "metadata": {},
     "output_type": "display_data"
    }
   ],
   "source": [
    "from matplotlib import pyplot as plt\n",
    "with h5py.File( '/tmp/particles.hdf', 'r' ) as f:\n",
    "    print( f['particles'] )\n",
    "    fig = plt.figure(figsize=(12, 12))\n",
    "    for i in range( f['particles'].shape[0] ):\n",
    "        print( \"I %s: %s \" % (i,f['particles'][i]))\n",
    "        fig.add_subplot( 6, 6, i+1 )\n",
    "        plt.imshow( f['particles'][i], cmap='Greys' )\n",
    "    plt.show()"
   ]
  }
 ],
 "metadata": {
  "kernelspec": {
   "display_name": "Python 3",
   "language": "python",
   "name": "python3"
  },
  "language_info": {
   "codemirror_mode": {
    "name": "ipython",
    "version": 3
   },
   "file_extension": ".py",
   "mimetype": "text/x-python",
   "name": "python",
   "nbconvert_exporter": "python",
   "pygments_lexer": "ipython3",
   "version": "3.6.3"
  }
 },
 "nbformat": 4,
 "nbformat_minor": 2
}
