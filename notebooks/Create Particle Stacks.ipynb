{
 "cells": [
  {
   "cell_type": "markdown",
   "metadata": {},
   "source": [
    "# Notes on creating a generic particles reader/writer class\n",
    "\n",
    "there's soemthing funky going on with references "
   ]
  },
  {
   "cell_type": "code",
   "execution_count": 1,
   "metadata": {},
   "outputs": [],
   "source": [
    "DATADIR = '/gpfs/slac/cryo/fs1/g/ML/cryoEM-notebooks/data/20181005-rib-TEM4/Extract/extract_one_2dclass/Micrographs'"
   ]
  },
  {
   "cell_type": "code",
   "execution_count": 2,
   "metadata": {},
   "outputs": [],
   "source": [
    "import h5py\n",
    "import glob\n",
    "from os import path\n",
    "import numpy as np\n",
    "import mrcfile"
   ]
  },
  {
   "cell_type": "code",
   "execution_count": 146,
   "metadata": {},
   "outputs": [],
   "source": [
    "def parse_particle_star( filepath ):\n",
    "    with open(filepath, 'r') as f:\n",
    "        keys = []\n",
    "        for i in f.readlines():\n",
    "            if i.startswith('_rln'):\n",
    "                k = i.split()[0].replace('_rln','')\n",
    "                keys.append(k)\n",
    "            else:\n",
    "                data = i.split()\n",
    "                if len(data) == len(keys) and len(data) > 0:\n",
    "                    out = {}\n",
    "                    for n,k in enumerate(keys):\n",
    "                        out[k] = data[n]\n",
    "                        try:\n",
    "                            if k not in ('ClassNumber',):\n",
    "                                out[k] = float(data[n])\n",
    "                        except:\n",
    "                            pass\n",
    "#                     print(\"  %s found: %s\" % (i,out,))\n",
    "                    yield out\n",
    "\n",
    "def get_particle_image( mrcs ):\n",
    "    with mrcfile.open(mrcs, permissive=True) as particles:\n",
    "        # print( particles.data.shape )\n",
    "        # mrcfile returns just a 2 dimensional matrix if only single image\n",
    "        if len(particles.data.shape) == 2:\n",
    "            yield particles.data\n",
    "        else:\n",
    "            for p in particles.data:\n",
    "                yield p\n",
    "\n",
    "def get_images( file_pattern, star_pattern ):\n",
    "    for mrc in glob.glob( file_pattern ):\n",
    "#         print(\"File: %s\" % (mrc,))\n",
    "        star_file = mrc.replace( *star_pattern )\n",
    "        md = None\n",
    "        if path.exists( star_file ):\n",
    "            md = [ m for m in parse_particle_star( star_file ) ]\n",
    "#         print(\" meta: %s -> %s\" % (star_file,len(md)))\n",
    "        for i, p in enumerate( get_particle_image( mrc ) ):\n",
    "            yield p, md[i] if md else None\n",
    "\n",
    "            \n",
    "def add_metadata( hf, path, meta, key ):\n",
    "    klass = hf[path]\n",
    "    klass.resize( (klass.shape[0]+1), axis=0 )\n",
    "    klass[-klass.shape[0]:] = int(meta['ClassNumber'])\n",
    "            \n",
    "def create_particle_stack( output_file, file_pattern='./*.mrcs', star_pattern=('.mrcs', '_extract.star'), group_name='particles', image_name='images', parse_particle_star=True, first=None ):\n",
    "    with h5py.File(output_file, 'w') as hf:\n",
    "        string_dt = h5py.special_dtype(vlen=str)\n",
    "        i = 0\n",
    "        grp = hf.create_group(group_name)\n",
    "        for p,meta in get_images( file_pattern, star_pattern ):\n",
    "            print( \" got %s: %s (%s)\" % (i,p.shape,meta) )\n",
    "            if i == 0:\n",
    "                grp.create_dataset(image_name, data=p[np.newaxis,...], maxshape=(None,p.shape[0],p.shape[1]), chunks=True)\n",
    "                grp.create_dataset('class', data=np.asarray( [int(meta['ClassNumber']),] ),  maxshape=(None,), chunks=True, dtype='int8' )\n",
    "                grp.create_dataset('ctf_resolution', data=np.asarray( [meta['CtfMaxResolution'],] ),  maxshape=(None,), chunks=True )\n",
    "                grp.create_dataset('angle_psi', data=np.asarray( [meta['AnglePsi'],] ),  maxshape=(None,), chunks=True )\n",
    "\n",
    "                # not working?\n",
    "                grp.create_dataset('source_micrograph', data=np.array( [meta['MicrographName'],], dtype='S' ), maxshape=(None,), chunks=True, dtype=string_dt )\n",
    "\n",
    "                grp.create_dataset('source_coordinates', data=np.array( [ ( meta['CoordinateX'], meta['CoordinateY'] ) ] ), maxshape=(None,2), chunks=True )\n",
    "\n",
    "            else:\n",
    "#                 print(\"P: %s\" % (p,))\n",
    "                images = hf['%s/%s' % (group_name,image_name)]\n",
    "                images.resize( (images.shape[0]+1), axis=0 )\n",
    "                images[-images.shape[0]:] = p.copy()\n",
    "\n",
    "                add_metadata( hf, 'particles/class', meta, 'ClassNumber')\n",
    "                add_metadata( hf, 'particles/ctf_resolution', meta, 'CtfMaxResolution')\n",
    "                add_metadata( hf, 'particles/angle_psi', meta, 'AnglePsi')                \n",
    "\n",
    "                add_metadata( hf, 'particles/source_micrograph', meta, 'MicrographName')\n",
    "                coords = hf['%s/%s' % (group_name,'source_coordinates')]\n",
    "                coords.resize( (coords.shape[0]+1), axis=0 )\n",
    "                coords[-coords.shape[0]:] =  [ ( meta['CoordinateX'], meta['CoordinateY'] ) ] \n",
    "                \n",
    "                \n",
    "#             print(\"%s\" % (hf[image_name].shape,))\n",
    "            print( \".\", end='')\n",
    "            \n",
    "            if first and i >= first - 1:\n",
    "                break\n",
    "            i = i+1\n"
   ]
  },
  {
   "cell_type": "code",
   "execution_count": 147,
   "metadata": {},
   "outputs": [
    {
     "name": "stdout",
     "output_type": "stream",
     "text": [
      " got 0: (540, 540) ({'CoordinateX': 1089.63996, 'CoordinateY': 3186.057024, 'AutopickFigureOfMerit': 0.092939, 'ClassNumber': '93', 'AnglePsi': -174.12814, 'ImageName': '000001@Extract/job289/Micrographs/Hasan_01692_aligned_DW.mrcs', 'MicrographName': 'Micrographs/Hasan_01692_aligned_DW.mrc', 'Magnification': 10000.0, 'DetectorPixelSize': 0.683, 'CtfMaxResolution': 3.232297, 'CtfFigureOfMerit': 0.096946, 'Voltage': 300.0, 'DefocusU': 12123.828125, 'DefocusV': 11720.999023, 'DefocusAngle': -66.46259, 'SphericalAberration': 2.7, 'CtfBfactor': 0.0, 'CtfScalefactor': 1.0, 'PhaseShift': 0.0, 'AmplitudeContrast': 0.1, 'OriginX': 0.118616, 'OriginY': 0.126518, 'GroupNumber': 1603.0, 'AngleRot': 0.0, 'AngleTilt': 0.0, 'NormCorrection': 0.843922, 'LogLikeliContribution': 75155.385834, 'MaxValueProbDistribution': 1.0, 'NrOfSignificantSamples': 3.0})\n",
      ". got 1: (540, 540) ({'CoordinateX': 2839.085608, 'CoordinateY': 236.38285, 'AutopickFigureOfMerit': 0.092054, 'ClassNumber': '93', 'AnglePsi': -61.62814, 'ImageName': '000002@Extract/job289/Micrographs/Hasan_01692_aligned_DW.mrcs', 'MicrographName': 'Micrographs/Hasan_01692_aligned_DW.mrc', 'Magnification': 10000.0, 'DetectorPixelSize': 0.683, 'CtfMaxResolution': 3.232297, 'CtfFigureOfMerit': 0.096946, 'Voltage': 300.0, 'DefocusU': 12123.828125, 'DefocusV': 11720.999023, 'DefocusAngle': -66.46259, 'SphericalAberration': 2.7, 'CtfBfactor': 0.0, 'CtfScalefactor': 1.0, 'PhaseShift': 0.0, 'AmplitudeContrast': 0.1, 'OriginX': 0.14231, 'OriginY': 0.097544, 'GroupNumber': 1603.0, 'AngleRot': 0.0, 'AngleTilt': 0.0, 'NormCorrection': 0.835525, 'LogLikeliContribution': 75119.576858, 'MaxValueProbDistribution': 0.991871, 'NrOfSignificantSamples': 1.0})\n",
      ". got 2: (540, 540) ({'CoordinateX': 1897.999928, 'CoordinateY': 1627.891367, 'AutopickFigureOfMerit': 0.070457, 'ClassNumber': '93', 'AnglePsi': -129.12814, 'ImageName': '000003@Extract/job289/Micrographs/Hasan_01692_aligned_DW.mrcs', 'MicrographName': 'Micrographs/Hasan_01692_aligned_DW.mrc', 'Magnification': 10000.0, 'DetectorPixelSize': 0.683, 'CtfMaxResolution': 3.232297, 'CtfFigureOfMerit': 0.096946, 'Voltage': 300.0, 'DefocusU': 12123.828125, 'DefocusV': 11720.999023, 'DefocusAngle': -66.46259, 'SphericalAberration': 2.7, 'CtfBfactor': 0.0, 'CtfScalefactor': 1.0, 'PhaseShift': 0.0, 'AmplitudeContrast': 0.1, 'OriginX': 0.150212, 'OriginY': 0.137042, 'GroupNumber': 1603.0, 'AngleRot': 0.0, 'AngleTilt': 0.0, 'NormCorrection': 0.818857, 'LogLikeliContribution': 75183.593354, 'MaxValueProbDistribution': 1.0, 'NrOfSignificantSamples': 1.0})\n",
      ". got 3: (540, 540) ({'CoordinateX': 1224.125668, 'CoordinateY': 213.417136, 'AutopickFigureOfMerit': 0.074155, 'ClassNumber': '93', 'AnglePsi': 62.121858, 'ImageName': '000001@Extract/job289/Micrographs/Hasan_00276_aligned_DW.mrcs', 'MicrographName': 'Micrographs/Hasan_00276_aligned_DW.mrc', 'Magnification': 10000.0, 'DetectorPixelSize': 0.683, 'CtfMaxResolution': 3.053489, 'CtfFigureOfMerit': 0.104491, 'Voltage': 300.0, 'DefocusU': 7782.697754, 'DefocusV': 7460.263672, 'DefocusAngle': -42.84098, 'SphericalAberration': 2.7, 'CtfBfactor': 0.0, 'CtfScalefactor': 1.0, 'PhaseShift': 0.0, 'AmplitudeContrast': 0.1, 'OriginX': 0.144944, 'OriginY': 0.10808, 'GroupNumber': 215.0, 'AngleRot': 0.0, 'AngleTilt': 0.0, 'NormCorrection': 0.817225, 'LogLikeliContribution': 75261.250467, 'MaxValueProbDistribution': 0.999132, 'NrOfSignificantSamples': 1.0})\n",
      ". got 4: (540, 540) ({'CoordinateX': 571.148549, 'CoordinateY': 2503.182764, 'AutopickFigureOfMerit': 0.048443, 'ClassNumber': '93', 'AnglePsi': -134.75314, 'ImageName': '000002@Extract/job289/Micrographs/Hasan_00276_aligned_DW.mrcs', 'MicrographName': 'Micrographs/Hasan_00276_aligned_DW.mrc', 'Magnification': 10000.0, 'DetectorPixelSize': 0.683, 'CtfMaxResolution': 3.053489, 'CtfFigureOfMerit': 0.104491, 'Voltage': 300.0, 'DefocusU': 7782.697754, 'DefocusV': 7460.263672, 'DefocusAngle': -42.84098, 'SphericalAberration': 2.7, 'CtfBfactor': 0.0, 'CtfScalefactor': 1.0, 'PhaseShift': 0.0, 'AmplitudeContrast': 0.1, 'OriginX': 0.150212, 'OriginY': 0.129152, 'GroupNumber': 215.0, 'AngleRot': 0.0, 'AngleTilt': 0.0, 'NormCorrection': 0.819118, 'LogLikeliContribution': 75140.94188, 'MaxValueProbDistribution': 0.973601, 'NrOfSignificantSamples': 1.0})\n",
      "."
     ]
    }
   ],
   "source": [
    "create_particle_stack( '/tmp/particles.hdf', file_pattern=DATADIR+\"/*.mrcs\", first=5 )"
   ]
  },
  {
   "cell_type": "markdown",
   "metadata": {},
   "source": [
    "hmmm... all the images are the same... even though i'm using p.copy() above..."
   ]
  },
  {
   "cell_type": "code",
   "execution_count": 148,
   "metadata": {},
   "outputs": [
    {
     "name": "stdout",
     "output_type": "stream",
     "text": [
      "<HDF5 dataset \"images\": shape (5, 540, 540), type \"<f4\">\n",
      "Particle #0: class 93 from 93@[ 571.148549 2503.182764] \n",
      "[[-1.6703042   0.04279047  1.1082757  ...  1.1201062  -1.0580032\n",
      "  -0.18329015]\n",
      " [-1.3252518  -0.5656686   0.50778794 ...  1.8512449  -0.5306258\n",
      "  -0.36595204]\n",
      " [-1.1735461  -0.89015764  0.26884112 ...  1.4333687  -0.44683903\n",
      "  -0.42583343]\n",
      " ...\n",
      " [-0.9653343   0.10381357  0.25659594 ... -0.23840512 -1.089901\n",
      "   0.7021539 ]\n",
      " [ 0.38384575  0.3199892  -0.08682799 ...  0.5943302  -0.0815199\n",
      "   0.96424836]\n",
      " [ 0.8728238   1.2109184   0.30578512 ...  0.2631717   1.7938929\n",
      "   2.07715   ]] \n",
      "Particle #1: class 93 from 93@[ 571.148549 2503.182764] \n",
      "[[-1.6703042   0.04279047  1.1082757  ...  1.1201062  -1.0580032\n",
      "  -0.18329015]\n",
      " [-1.3252518  -0.5656686   0.50778794 ...  1.8512449  -0.5306258\n",
      "  -0.36595204]\n",
      " [-1.1735461  -0.89015764  0.26884112 ...  1.4333687  -0.44683903\n",
      "  -0.42583343]\n",
      " ...\n",
      " [-0.9653343   0.10381357  0.25659594 ... -0.23840512 -1.089901\n",
      "   0.7021539 ]\n",
      " [ 0.38384575  0.3199892  -0.08682799 ...  0.5943302  -0.0815199\n",
      "   0.96424836]\n",
      " [ 0.8728238   1.2109184   0.30578512 ...  0.2631717   1.7938929\n",
      "   2.07715   ]] \n",
      "Particle #2: class 93 from 93@[ 571.148549 2503.182764] \n",
      "[[-1.6703042   0.04279047  1.1082757  ...  1.1201062  -1.0580032\n",
      "  -0.18329015]\n",
      " [-1.3252518  -0.5656686   0.50778794 ...  1.8512449  -0.5306258\n",
      "  -0.36595204]\n",
      " [-1.1735461  -0.89015764  0.26884112 ...  1.4333687  -0.44683903\n",
      "  -0.42583343]\n",
      " ...\n",
      " [-0.9653343   0.10381357  0.25659594 ... -0.23840512 -1.089901\n",
      "   0.7021539 ]\n",
      " [ 0.38384575  0.3199892  -0.08682799 ...  0.5943302  -0.0815199\n",
      "   0.96424836]\n",
      " [ 0.8728238   1.2109184   0.30578512 ...  0.2631717   1.7938929\n",
      "   2.07715   ]] \n",
      "Particle #3: class 93 from 93@[ 571.148549 2503.182764] \n",
      "[[-1.6703042   0.04279047  1.1082757  ...  1.1201062  -1.0580032\n",
      "  -0.18329015]\n",
      " [-1.3252518  -0.5656686   0.50778794 ...  1.8512449  -0.5306258\n",
      "  -0.36595204]\n",
      " [-1.1735461  -0.89015764  0.26884112 ...  1.4333687  -0.44683903\n",
      "  -0.42583343]\n",
      " ...\n",
      " [-0.9653343   0.10381357  0.25659594 ... -0.23840512 -1.089901\n",
      "   0.7021539 ]\n",
      " [ 0.38384575  0.3199892  -0.08682799 ...  0.5943302  -0.0815199\n",
      "   0.96424836]\n",
      " [ 0.8728238   1.2109184   0.30578512 ...  0.2631717   1.7938929\n",
      "   2.07715   ]] \n",
      "Particle #4: class 93 from 93@[ 571.148549 2503.182764] \n",
      "[[-1.6703042   0.04279047  1.1082757  ...  1.1201062  -1.0580032\n",
      "  -0.18329015]\n",
      " [-1.3252518  -0.5656686   0.50778794 ...  1.8512449  -0.5306258\n",
      "  -0.36595204]\n",
      " [-1.1735461  -0.89015764  0.26884112 ...  1.4333687  -0.44683903\n",
      "  -0.42583343]\n",
      " ...\n",
      " [-0.9653343   0.10381357  0.25659594 ... -0.23840512 -1.089901\n",
      "   0.7021539 ]\n",
      " [ 0.38384575  0.3199892  -0.08682799 ...  0.5943302  -0.0815199\n",
      "   0.96424836]\n",
      " [ 0.8728238   1.2109184   0.30578512 ...  0.2631717   1.7938929\n",
      "   2.07715   ]] \n"
     ]
    },
    {
     "data": {
      "image/png": "[encoded data removed]",
      "text/plain": [
       "<Figure size 864x864 with 5 Axes>"
      ]
     },
     "metadata": {
      "needs_background": "light"
     },
     "output_type": "display_data"
    }
   ],
   "source": [
    "from matplotlib import pyplot as plt\n",
    "with h5py.File( '/tmp/particles.hdf', 'r' ) as f:\n",
    "    print( f['particles/images'] )\n",
    "    fig = plt.figure(figsize=(12, 12))\n",
    "    for i in range( f['particles/images'].shape[0] ):\n",
    "        print( \"Particle #%s: class %s from %s@%s \\n%s \" % (i, f['particles/class'][i], f['particles/source_micrograph'][i], f['particles/source_coordinates'][i], f['particles/images'][i]))\n",
    "        fig.add_subplot( 6, 6, i+1 )\n",
    "        plt.imshow( f['particles/images'][i], cmap='Greys' )\n",
    "    plt.show()"
   ]
  },
  {
   "cell_type": "code",
   "execution_count": null,
   "metadata": {},
   "outputs": [],
   "source": []
  }
 ],
 "metadata": {
  "kernelspec": {
   "display_name": "Python 3",
   "language": "python",
   "name": "python3"
  },
  "language_info": {
   "codemirror_mode": {
    "name": "ipython",
    "version": 3
   },
   "file_extension": ".py",
   "mimetype": "text/x-python",
   "name": "python",
   "nbconvert_exporter": "python",
   "pygments_lexer": "ipython3",
   "version": "3.6.3"
  }
 },
 "nbformat": 4,
 "nbformat_minor": 2
}
