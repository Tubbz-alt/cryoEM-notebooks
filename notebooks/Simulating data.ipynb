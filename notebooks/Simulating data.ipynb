{
 "cells": [
  {
   "cell_type": "code",
   "execution_count": 1,
   "metadata": {},
   "outputs": [
    {
     "ename": "ModuleNotFoundError",
     "evalue": "No module named 'mdtraj'",
     "output_type": "error",
     "traceback": [
      "\u001b[0;31m---------------------------------------------------------------------------\u001b[0m",
      "\u001b[0;31mModuleNotFoundError\u001b[0m                       Traceback (most recent call last)",
      "\u001b[0;32m<ipython-input-1-d848ae7c1fcc>\u001b[0m in \u001b[0;36m<module>\u001b[0;34m\u001b[0m\n\u001b[1;32m      6\u001b[0m \u001b[0mwd\u001b[0m \u001b[0;34m=\u001b[0m \u001b[0mos\u001b[0m\u001b[0;34m.\u001b[0m\u001b[0mgetcwd\u001b[0m\u001b[0;34m(\u001b[0m\u001b[0;34m)\u001b[0m     \u001b[0;31m# save current working directory\u001b[0m\u001b[0;34m\u001b[0m\u001b[0m\n\u001b[1;32m      7\u001b[0m \u001b[0mos\u001b[0m\u001b[0;34m.\u001b[0m\u001b[0mchdir\u001b[0m\u001b[0;34m(\u001b[0m\u001b[0;34m'../src'\u001b[0m\u001b[0;34m)\u001b[0m   \u001b[0;31m# change to directory containing our tools\u001b[0m\u001b[0;34m\u001b[0m\u001b[0m\n\u001b[0;32m----> 8\u001b[0;31m \u001b[0;32mimport\u001b[0m \u001b[0msimutils\u001b[0m\u001b[0;34m\u001b[0m\u001b[0m\n\u001b[0m\u001b[1;32m      9\u001b[0m \u001b[0;32mimport\u001b[0m \u001b[0memio\u001b[0m\u001b[0;34m\u001b[0m\u001b[0m\n\u001b[1;32m     10\u001b[0m \u001b[0mos\u001b[0m\u001b[0;34m.\u001b[0m\u001b[0mchdir\u001b[0m\u001b[0;34m(\u001b[0m\u001b[0mwd\u001b[0m\u001b[0;34m)\u001b[0m         \u001b[0;31m# change back to working directory\u001b[0m\u001b[0;34m\u001b[0m\u001b[0m\n",
      "\u001b[0;32m/gpfs/slac/cryo/fs1/u/fpoitevi/slaclab/cryoEM-notebooks/src/simutils.py\u001b[0m in \u001b[0;36m<module>\u001b[0;34m\u001b[0m\n\u001b[1;32m      3\u001b[0m \u001b[0;32mimport\u001b[0m \u001b[0msubprocess\u001b[0m\u001b[0;34m\u001b[0m\u001b[0m\n\u001b[1;32m      4\u001b[0m \u001b[0;32mimport\u001b[0m \u001b[0mnumpy\u001b[0m \u001b[0;32mas\u001b[0m \u001b[0mnp\u001b[0m\u001b[0;34m\u001b[0m\u001b[0m\n\u001b[0;32m----> 5\u001b[0;31m \u001b[0;32mimport\u001b[0m \u001b[0mmdtraj\u001b[0m \u001b[0;32mas\u001b[0m \u001b[0mmd\u001b[0m\u001b[0;34m\u001b[0m\u001b[0m\n\u001b[0m\u001b[1;32m      6\u001b[0m \u001b[0;32mfrom\u001b[0m \u001b[0mmatplotlib\u001b[0m \u001b[0;32mimport\u001b[0m \u001b[0mpyplot\u001b[0m \u001b[0;32mas\u001b[0m \u001b[0mplt\u001b[0m\u001b[0;34m\u001b[0m\u001b[0m\n\u001b[1;32m      7\u001b[0m \u001b[0;32mimport\u001b[0m \u001b[0mmath\u001b[0m\u001b[0;34m\u001b[0m\u001b[0m\n",
      "\u001b[0;31mModuleNotFoundError\u001b[0m: No module named 'mdtraj'"
     ]
    }
   ],
   "source": [
    "%matplotlib inline\n",
    "import os\n",
    "import numpy as np\n",
    "from matplotlib import pyplot as plt\n",
    "#\n",
    "wd = os.getcwd()     # save current working directory\n",
    "os.chdir('../src')   # change to directory containing our tools \n",
    "import simutils\n",
    "import emio\n",
    "os.chdir(wd)         # change back to working directory"
   ]
  },
  {
   "cell_type": "code",
   "execution_count": null,
   "metadata": {},
   "outputs": [],
   "source": [
    "simulator_bin='~/gdrive_perso/Toolkit/Microscope_Simulator/TEM-simulator_1.3/src/TEM-simulator'"
   ]
  },
  {
   "cell_type": "markdown",
   "metadata": {},
   "source": [
    "# Simulation setup"
   ]
  },
  {
   "cell_type": "markdown",
   "metadata": {},
   "source": [
    "## Setting parameters"
   ]
  },
  {
   "cell_type": "markdown",
   "metadata": {},
   "source": [
    "### molecular model"
   ]
  },
  {
   "cell_type": "code",
   "execution_count": 16,
   "metadata": {},
   "outputs": [],
   "source": [
    "pdbdir     = 'material/simple_data/' # relative path to directory containing candidate PDB fiels\n",
    "pdb        = '4v6x'                  # ID of PDB file found in pdbdir\n",
    "voxel_size      = 0.1                # [nm]\n",
    "particle_name   = 'toto'             # Name of the particle. Not very important.\n",
    "particle_mrcout = None               # volume map of sample is written."
   ]
  },
  {
   "cell_type": "markdown",
   "metadata": {},
   "source": [
    "### specimen grid parameters"
   ]
  },
  {
   "cell_type": "code",
   "execution_count": 17,
   "metadata": {},
   "outputs": [],
   "source": [
    "hole_diameter         = 1200 # [nm]\n",
    "hole_thickness_center = 100  # [nm]\n",
    "hole_thickness_edge   = 100  # [nm]"
   ]
  },
  {
   "cell_type": "markdown",
   "metadata": {},
   "source": [
    "### beam parameters"
   ]
  },
  {
   "cell_type": "code",
   "execution_count": 18,
   "metadata": {},
   "outputs": [],
   "source": [
    "voltage           = 300 # [kV]\n",
    "energy_spread     = 1.3 # [V]\n",
    "electron_dose     = 100 # [e/nm**2] dose per image\n",
    "electron_dose_std = 0   # standard deviation of dose per image"
   ]
  },
  {
   "cell_type": "markdown",
   "metadata": {},
   "source": [
    "### optics parameters"
   ]
  },
  {
   "cell_type": "code",
   "execution_count": 19,
   "metadata": {},
   "outputs": [],
   "source": [
    "magnification         = 81000 #\n",
    "spherical_aberration  = 2.7   # [mm]\n",
    "chromatic_aberration  = 2.7   # [mm]\n",
    "aperture_diameter     = 50    # [um] in back focal plane\n",
    "focal_length          = 3.5   # [mm]\n",
    "aperture_angle        = 0.1   # [mrad] of the condenser lens\n",
    "defocus               = 1.0   # [um]\n",
    "defocus_syst_error    = 0.0   #\n",
    "defocus_nonsyst_error = 0.0   #\n",
    "optics_defocusout     = None  # file to write defocus values"
   ]
  },
  {
   "cell_type": "markdown",
   "metadata": {},
   "source": [
    "### detector parameters"
   ]
  },
  {
   "cell_type": "code",
   "execution_count": 20,
   "metadata": {},
   "outputs": [],
   "source": [
    "detector_Nx           = 5760 # number of pixels along X axis\n",
    "detector_Ny           = 4092 # number of pixels along Y axis\n",
    "detector_pixel_size   = 5    # [um]\n",
    "detector_gain         = 32   # average number of counts per electron\n",
    "detector_Q_efficiency = 0.5  # detector quantum efficiency\n",
    "noise                 = 'no' # whether quantized electron waves result in noise\n",
    "MTF_params            = [0,0,1,0,0] # to be described. [0,0,1,0,0] is perfect detector."
   ]
  },
  {
   "cell_type": "markdown",
   "metadata": {},
   "source": [
    "### output"
   ]
  },
  {
   "cell_type": "code",
   "execution_count": 21,
   "metadata": {},
   "outputs": [],
   "source": [
    "mrcdir = '/Users/fpoitevi/gdrive/cryoEM/Projects/Simu-rib80s/synthetic_datasets/dataset1/'"
   ]
  },
  {
   "cell_type": "markdown",
   "metadata": {},
   "source": [
    "## Assemble a few input arrays"
   ]
  },
  {
   "cell_type": "code",
   "execution_count": 23,
   "metadata": {},
   "outputs": [
    {
     "ename": "NameError",
     "evalue": "name 'simutils' is not defined",
     "output_type": "error",
     "traceback": [
      "\u001b[0;31m---------------------------------------------------------------------------\u001b[0m",
      "\u001b[0;31mNameError\u001b[0m                                 Traceback (most recent call last)",
      "\u001b[0;32m<ipython-input-23-01b4163b4e29>\u001b[0m in \u001b[0;36m<module>\u001b[0;34m\u001b[0m\n\u001b[1;32m      7\u001b[0m                       \u001b[0mdetector_gain\u001b[0m\u001b[0;34m,\u001b[0m \u001b[0mnoise\u001b[0m\u001b[0;34m,\u001b[0m \u001b[0mdetector_Q_efficiency\u001b[0m\u001b[0;34m,\u001b[0m\u001b[0;34m\u001b[0m\u001b[0m\n\u001b[1;32m      8\u001b[0m                       MTF_params[0], MTF_params[1], MTF_params[2], MTF_params[3], MTF_params[4] ]\n\u001b[0;32m----> 9\u001b[0;31m xy_range, numpart = simutils.define_grid(sample_dimensions,\n\u001b[0m\u001b[1;32m     10\u001b[0m                                          \u001b[0mpdb_file\u001b[0m\u001b[0;34m=\u001b[0m\u001b[0mpdb_file\u001b[0m\u001b[0;34m,\u001b[0m\u001b[0;34m\u001b[0m\u001b[0m\n\u001b[1;32m     11\u001b[0m                                          Dmax=30)\n",
      "\u001b[0;31mNameError\u001b[0m: name 'simutils' is not defined"
     ]
    }
   ],
   "source": [
    "sample_dimensions = [ hole_diameter, hole_thickness_center, hole_thickness_edge ]\n",
    "beam_params       = [ voltage, energy_spread, electron_dose, electron_dose_std ]\n",
    "optics_params     = [ magnification, spherical_aberration, chromatic_aberration, \n",
    "                      aperture_diameter, focal_length, aperture_angle,\n",
    "                      defocus, defocus_syst_error, defocus_nonsyst_error, optics_defocusout ]\n",
    "detector_params   = [ detector_Nx, detector_Ny, detector_pixel_size, \n",
    "                      detector_gain, noise, detector_Q_efficiency,\n",
    "                      MTF_params[0], MTF_params[1], MTF_params[2], MTF_params[3], MTF_params[4] ]\n",
    "xy_range, numpart = simutils.define_grid(sample_dimensions,\n",
    "                                         pdb_file=pdb_file,\n",
    "                                         Dmax=30)"
   ]
  },
  {
   "cell_type": "markdown",
   "metadata": {},
   "source": [
    "# Simulate data"
   ]
  },
  {
   "cell_type": "markdown",
   "metadata": {},
   "source": [
    "## Prepare input file"
   ]
  },
  {
   "cell_type": "markdown",
   "metadata": {},
   "source": [
    "### 1. Define the filenames"
   ]
  },
  {
   "cell_type": "code",
   "execution_count": null,
   "metadata": {},
   "outputs": [],
   "source": [
    "pdb_file, mrc_file, crd_file, log_file, inp_file = emio.simio(pdbdir, \n",
    "                                                              pdb, \n",
    "                                                              pdb+'_copy'+str(copy),\n",
    "                                                              mrcdir, \n",
    "                                                              pdb+'_copy'+str(copy)+'_defoc'+str(defoc)+'_nowater')\n",
    "if particle_mrcout is not None:\n",
    "    particle_mrcout = mrc_file\n",
    "#"
   ]
  },
  {
   "cell_type": "markdown",
   "metadata": {},
   "source": [
    "### 2. Build specimen coordinate file (grid of particles)"
   ]
  },
  {
   "cell_type": "code",
   "execution_count": null,
   "metadata": {},
   "outputs": [],
   "source": [
    "simutils.write_crd_file(numpart, xrange = xy_range, yrange = xy_range, crd_file = crd_file)"
   ]
  },
  {
   "cell_type": "markdown",
   "metadata": {},
   "source": [
    "### 3. Build input dictionary"
   ]
  },
  {
   "cell_type": "code",
   "execution_count": null,
   "metadata": {},
   "outputs": [],
   "source": [
    "params_dictionary = simutils.fill_parameters_dictionary(mrc_file = mrc_file, \n",
    "                                                        pdb_file = pdb_file, \n",
    "                                                        particle_mrcout = particle_mrcout, \n",
    "                                                        crd_file = crd_file,\n",
    "                                                        sample_dimensions = sample_dimensions,\n",
    "                                                        beam_params = beam_params,\n",
    "                                                        optics_params = optics_params,\n",
    "                                                        detector_params = detector_params,\n",
    "                                                        log_file = log_file\n",
    "                                                        seed=-1234)\n",
    "#"
   ]
  },
  {
   "cell_type": "markdown",
   "metadata": {},
   "source": [
    "### 4. Format dictionary in input file"
   ]
  },
  {
   "cell_type": "code",
   "execution_count": null,
   "metadata": {},
   "outputs": [],
   "source": [
    "simutils.write_inp_file(inp_file = inp_file, dict_params = params_dictionary)"
   ]
  },
  {
   "cell_type": "markdown",
   "metadata": {},
   "source": [
    "## Run the simulation"
   ]
  },
  {
   "cell_type": "code",
   "execution_count": null,
   "metadata": {},
   "outputs": [],
   "source": [
    "os.system('{0} {1}'.format(simulator_bin, inp_file))"
   ]
  }
 ],
 "metadata": {
  "kernelspec": {
   "display_name": "Python 3",
   "language": "python",
   "name": "python3"
  },
  "language_info": {
   "codemirror_mode": {
    "name": "ipython",
    "version": 3
   },
   "file_extension": ".py",
   "mimetype": "text/x-python",
   "name": "python",
   "nbconvert_exporter": "python",
   "pygments_lexer": "ipython3",
   "version": "3.6.3"
  }
 },
 "nbformat": 4,
 "nbformat_minor": 2
}
