{
 "cells": [
  {
   "cell_type": "markdown",
   "metadata": {},
   "source": [
    "# Simulating Some Micrographs\n",
    "\n",
    "This notebook demonstrates how to use TEM-simulator to create synthetic cryoEM images that we can later use to demonstrate the entire reconstruction pipeline. It also provides a mean for us to determine differences between simulated and real data; and also the efficiency of the reconstruction process."
   ]
  },
  {
   "cell_type": "markdown",
   "metadata": {},
   "source": [
    "First we import some modules"
   ]
  },
  {
   "cell_type": "code",
   "execution_count": 1,
   "metadata": {},
   "outputs": [],
   "source": [
    "import os\n",
    "import sys\n",
    "\n",
    "# package up sometime?\n",
    "sys.path.append('../src/')\n",
    "import simutils\n",
    "import emio\n",
    "\n",
    "# and of course our favourite modules\n",
    "import numpy as np\n",
    "from matplotlib import pyplot as plt"
   ]
  },
  {
   "cell_type": "markdown",
   "metadata": {},
   "source": [
    "We cheat here, we don't really want to write a simulator in a python notebook, and instead we reference the binary of the simulator we shall use"
   ]
  },
  {
   "cell_type": "code",
   "execution_count": 2,
   "metadata": {},
   "outputs": [],
   "source": [
    "SIMULATOR_BIN='/gpfs/slac/cryo/fs1/g/ML/cryoEM-notebooks/data/Simulation/TEM-simulator'"
   ]
  },
  {
   "cell_type": "markdown",
   "metadata": {},
   "source": [
    "# Simulation setup"
   ]
  },
  {
   "cell_type": "markdown",
   "metadata": {},
   "source": [
    "## Setting parameters"
   ]
  },
  {
   "cell_type": "markdown",
   "metadata": {},
   "source": [
    "### molecular model\n",
    "\n",
    "Here we define the actual molecule that we want to simulate imaging. We specify the directory where we keep all the pdb files and the name of the pdb structure."
   ]
  },
  {
   "cell_type": "code",
   "execution_count": 3,
   "metadata": {},
   "outputs": [],
   "source": [
    "PDB_DIR    = 'material/simple_data/' # relative path to directory containing candidate PDB fiels\n",
    "PDB        = '4v6x'                  # ID of PDB file found in pdbdir"
   ]
  },
  {
   "cell_type": "code",
   "execution_count": 4,
   "metadata": {},
   "outputs": [],
   "source": [
    "voxel_size      = 0.1                # [nm]\n",
    "particle_name   = 'toto'             # Name of the particle. Not very important.\n",
    "particle_mrcout = None               # volume map of sample is written."
   ]
  },
  {
   "cell_type": "markdown",
   "metadata": {},
   "source": [
    "### specimen grid parameters"
   ]
  },
  {
   "cell_type": "code",
   "execution_count": 5,
   "metadata": {},
   "outputs": [],
   "source": [
    "hole_diameter         = 1200 # [nm]\n",
    "hole_thickness_center = 100  # [nm]\n",
    "hole_thickness_edge   = 100  # [nm]"
   ]
  },
  {
   "cell_type": "markdown",
   "metadata": {},
   "source": [
    "### beam parameters"
   ]
  },
  {
   "cell_type": "code",
   "execution_count": 6,
   "metadata": {},
   "outputs": [],
   "source": [
    "voltage           = 300 # [kV]\n",
    "energy_spread     = 1.3 # [V]\n",
    "electron_dose     = 100 # [e/nm**2] dose per image\n",
    "electron_dose_std = 0   # standard deviation of dose per image"
   ]
  },
  {
   "cell_type": "markdown",
   "metadata": {},
   "source": [
    "### optics parameters"
   ]
  },
  {
   "cell_type": "code",
   "execution_count": 7,
   "metadata": {},
   "outputs": [],
   "source": [
    "magnification         = 81000 #\n",
    "spherical_aberration  = 2.7   # [mm]\n",
    "chromatic_aberration  = 2.7   # [mm]\n",
    "aperture_diameter     = 50    # [um] in back focal plane\n",
    "focal_length          = 3.5   # [mm]\n",
    "aperture_angle        = 0.1   # [mrad] of the condenser lens\n",
    "defocus               = 1.0   # [um]\n",
    "defocus_syst_error    = 0.0   #\n",
    "defocus_nonsyst_error = 0.0   #\n",
    "optics_defocusout     = None  # file to write defocus values"
   ]
  },
  {
   "cell_type": "markdown",
   "metadata": {},
   "source": [
    "### detector parameters"
   ]
  },
  {
   "cell_type": "code",
   "execution_count": 8,
   "metadata": {},
   "outputs": [],
   "source": [
    "detector_Nx           = 5760 # number of pixels along X axis\n",
    "detector_Ny           = 4092 # number of pixels along Y axis\n",
    "detector_pixel_size   = 5    # [um]\n",
    "detector_gain         = 32   # average number of counts per electron\n",
    "detector_Q_efficiency = 0.5  # detector quantum efficiency\n",
    "noise                 = 'no' # whether quantized electron waves result in noise\n",
    "MTF_params            = [0,0,1,0,0] # to be described. [0,0,1,0,0] is perfect detector."
   ]
  },
  {
   "cell_type": "markdown",
   "metadata": {},
   "source": [
    "### output\n",
    "\n",
    "We put all the outputs into this directory"
   ]
  },
  {
   "cell_type": "code",
   "execution_count": 9,
   "metadata": {},
   "outputs": [],
   "source": [
    "OUTPUT_DIR = '/gpfs/slac/cryo/fs1/g/ML/cryoEM-notebooks/data/Simulation/synthetic_datasets/'\n",
    "if not os.path.exists(OUTPUT_DIR):\n",
    "    os.makedirs(OUTPUT_DIR)"
   ]
  },
  {
   "cell_type": "markdown",
   "metadata": {},
   "source": [
    "# Simulate data"
   ]
  },
  {
   "cell_type": "markdown",
   "metadata": {},
   "source": [
    "## Prepare input file"
   ]
  },
  {
   "cell_type": "markdown",
   "metadata": {},
   "source": [
    "### 1. Define the filenames and assemble some input arrays"
   ]
  },
  {
   "cell_type": "code",
   "execution_count": 12,
   "metadata": {},
   "outputs": [],
   "source": [
    "copy=1\n",
    "defoc=1\n",
    "pdb_file, mrc_file, crd_file, log_file, inp_file = emio.simio(PDB_DIR, \n",
    "                                                              PDB, \n",
    "                                                              PDB+'_copy'+str(copy),\n",
    "                                                              OUTPUT_DIR, \n",
    "                                                              PDB+'_copy'+str(copy)+'_defoc'+str(defoc)+'_nowater')\n",
    "if particle_mrcout is not None:\n",
    "    particle_mrcout = mrc_file"
   ]
  },
  {
   "cell_type": "code",
   "execution_count": 13,
   "metadata": {},
   "outputs": [
    {
     "name": "stdout",
     "output_type": "stream",
     "text": [
      "Maximum dimension of the molecule: 30 nm\n",
      "Grid of 356 molecules that cover the volume: -424 nm --> 424 nm (step size: 45 nm)\n"
     ]
    }
   ],
   "source": [
    "sample_dimensions = [ hole_diameter, hole_thickness_center, hole_thickness_edge ]\n",
    "beam_params       = [ voltage, energy_spread, electron_dose, electron_dose_std ]\n",
    "optics_params     = [ magnification, spherical_aberration, chromatic_aberration, \n",
    "                      aperture_diameter, focal_length, aperture_angle,\n",
    "                      defocus, defocus_syst_error, defocus_nonsyst_error, optics_defocusout ]\n",
    "detector_params   = [ detector_Nx, detector_Ny, detector_pixel_size, \n",
    "                      detector_gain, noise, detector_Q_efficiency,\n",
    "                      MTF_params[0], MTF_params[1], MTF_params[2], MTF_params[3], MTF_params[4] ]\n",
    "xy_range, numpart = simutils.define_grid(sample_dimensions,\n",
    "                                         pdb_file=pdb_file,\n",
    "                                         Dmax=30)"
   ]
  },
  {
   "cell_type": "markdown",
   "metadata": {},
   "source": [
    "### 2. Build specimen coordinate file (grid of particles)"
   ]
  },
  {
   "cell_type": "code",
   "execution_count": 14,
   "metadata": {},
   "outputs": [],
   "source": [
    "simutils.write_crd_file(numpart, xrange = xy_range, yrange = xy_range, crd_file = crd_file)"
   ]
  },
  {
   "cell_type": "markdown",
   "metadata": {},
   "source": [
    "### 3. Build input dictionary"
   ]
  },
  {
   "cell_type": "code",
   "execution_count": 17,
   "metadata": {},
   "outputs": [],
   "source": [
    "params_dictionary = simutils.fill_parameters_dictionary(mrc_file = mrc_file, \n",
    "                                                        pdb_file = pdb_file, \n",
    "                                                        particle_mrcout = particle_mrcout, \n",
    "                                                        crd_file = crd_file,\n",
    "                                                        sample_dimensions = sample_dimensions,\n",
    "                                                        beam_params = beam_params,\n",
    "                                                        optics_params = optics_params,\n",
    "                                                        detector_params = detector_params,\n",
    "                                                        log_file = log_file,\n",
    "                                                        seed=1234)\n",
    "#"
   ]
  },
  {
   "cell_type": "markdown",
   "metadata": {},
   "source": [
    "### 4. Format dictionary in input file"
   ]
  },
  {
   "cell_type": "code",
   "execution_count": 18,
   "metadata": {},
   "outputs": [],
   "source": [
    "simutils.write_inp_file(inp_file = inp_file, dict_params = params_dictionary)"
   ]
  },
  {
   "cell_type": "markdown",
   "metadata": {},
   "source": [
    "## Run the simulation"
   ]
  },
  {
   "cell_type": "code",
   "execution_count": 20,
   "metadata": {},
   "outputs": [
    {
     "data": {
      "text/plain": [
       "0"
      ]
     },
     "execution_count": 20,
     "metadata": {},
     "output_type": "execute_result"
    }
   ],
   "source": [
    "os.system('{0} {1}'.format(SIMULATOR_BIN, inp_file))"
   ]
  },
  {
   "cell_type": "markdown",
   "metadata": {},
   "source": [
    "# Display synthetic image"
   ]
  },
  {
   "cell_type": "code",
   "execution_count": 24,
   "metadata": {},
   "outputs": [
    {
     "name": "stdout",
     "output_type": "stream",
     "text": [
      "opening file /gpfs/slac/cryo/fs1/g/ML/cryoEM-notebooks/data/Simulation/synthetic_datasets/4v6x_copy1_defoc1_nowater.mrc...\n"
     ]
    },
    {
     "ename": "ValueError",
     "evalue": "Unrecognised machine stamp: 0x44 0x11 0x00 0x00",
     "output_type": "error",
     "traceback": [
      "\u001b[0;31m---------------------------------------------------------------------------\u001b[0m",
      "\u001b[0;31mValueError\u001b[0m                                Traceback (most recent call last)",
      "\u001b[0;32m<ipython-input-24-8cc83c4a7fd0>\u001b[0m in \u001b[0;36m<module>\u001b[0;34m\u001b[0m\n\u001b[1;32m      1\u001b[0m \u001b[0;32mimport\u001b[0m \u001b[0mmrcfile\u001b[0m\u001b[0;34m\u001b[0m\u001b[0m\n\u001b[1;32m      2\u001b[0m \u001b[0mprint\u001b[0m\u001b[0;34m(\u001b[0m\u001b[0;34m\"opening file %s...\"\u001b[0m \u001b[0;34m%\u001b[0m \u001b[0;34m(\u001b[0m\u001b[0mmrc_file\u001b[0m\u001b[0;34m,\u001b[0m\u001b[0;34m)\u001b[0m\u001b[0;34m)\u001b[0m\u001b[0;34m\u001b[0m\u001b[0m\n\u001b[0;32m----> 3\u001b[0;31m \u001b[0;32mwith\u001b[0m \u001b[0mmrcfile\u001b[0m\u001b[0;34m.\u001b[0m\u001b[0mopen\u001b[0m\u001b[0;34m(\u001b[0m\u001b[0mmrc_file\u001b[0m\u001b[0;34m)\u001b[0m \u001b[0;32mas\u001b[0m \u001b[0mmrc\u001b[0m\u001b[0;34m:\u001b[0m\u001b[0;34m\u001b[0m\u001b[0m\n\u001b[0m\u001b[1;32m      4\u001b[0m     \u001b[0mmicrograph\u001b[0m \u001b[0;34m=\u001b[0m \u001b[0mmrc\u001b[0m\u001b[0;34m.\u001b[0m\u001b[0mdata\u001b[0m\u001b[0;34m\u001b[0m\u001b[0m\n\u001b[1;32m      5\u001b[0m \u001b[0mmicrograph\u001b[0m\u001b[0;34m.\u001b[0m\u001b[0mshape\u001b[0m\u001b[0;34m\u001b[0m\u001b[0m\n",
      "\u001b[0;32m/opt/rh/rh-python36/root/usr/lib/python3.6/site-packages/mrcfile/load_functions.py\u001b[0m in \u001b[0;36mopen\u001b[0;34m(name, mode, permissive, header_only)\u001b[0m\n\u001b[1;32m    134\u001b[0m                 \u001b[0mNewMrc\u001b[0m \u001b[0;34m=\u001b[0m \u001b[0mBzip2MrcFile\u001b[0m\u001b[0;34m\u001b[0m\u001b[0m\n\u001b[1;32m    135\u001b[0m     return NewMrc(name, mode=mode, permissive=permissive,\n\u001b[0;32m--> 136\u001b[0;31m                   header_only=header_only)\n\u001b[0m\u001b[1;32m    137\u001b[0m \u001b[0;34m\u001b[0m\u001b[0m\n\u001b[1;32m    138\u001b[0m \u001b[0;34m\u001b[0m\u001b[0m\n",
      "\u001b[0;32m/opt/rh/rh-python36/root/usr/lib/python3.6/site-packages/mrcfile/mrcfile.py\u001b[0m in \u001b[0;36m__init__\u001b[0;34m(self, name, mode, overwrite, permissive, header_only, **kwargs)\u001b[0m\n\u001b[1;32m    112\u001b[0m                 \u001b[0mself\u001b[0m\u001b[0;34m.\u001b[0m\u001b[0m_create_default_attributes\u001b[0m\u001b[0;34m(\u001b[0m\u001b[0;34m)\u001b[0m\u001b[0;34m\u001b[0m\u001b[0m\n\u001b[1;32m    113\u001b[0m             \u001b[0;32melse\u001b[0m\u001b[0;34m:\u001b[0m\u001b[0;34m\u001b[0m\u001b[0m\n\u001b[0;32m--> 114\u001b[0;31m                 \u001b[0mself\u001b[0m\u001b[0;34m.\u001b[0m\u001b[0m_read\u001b[0m\u001b[0;34m(\u001b[0m\u001b[0mheader_only\u001b[0m\u001b[0;34m)\u001b[0m\u001b[0;34m\u001b[0m\u001b[0m\n\u001b[0m\u001b[1;32m    115\u001b[0m         \u001b[0;32mexcept\u001b[0m \u001b[0mException\u001b[0m\u001b[0;34m:\u001b[0m\u001b[0;34m\u001b[0m\u001b[0m\n\u001b[1;32m    116\u001b[0m             \u001b[0mself\u001b[0m\u001b[0;34m.\u001b[0m\u001b[0m_close_file\u001b[0m\u001b[0;34m(\u001b[0m\u001b[0;34m)\u001b[0m\u001b[0;34m\u001b[0m\u001b[0m\n",
      "\u001b[0;32m/opt/rh/rh-python36/root/usr/lib/python3.6/site-packages/mrcfile/mrcfile.py\u001b[0m in \u001b[0;36m_read\u001b[0;34m(self, header_only)\u001b[0m\n\u001b[1;32m    128\u001b[0m         \u001b[0;34m\"\"\"Override _read() to move back to start of file first.\"\"\"\u001b[0m\u001b[0;34m\u001b[0m\u001b[0m\n\u001b[1;32m    129\u001b[0m         \u001b[0mself\u001b[0m\u001b[0;34m.\u001b[0m\u001b[0m_iostream\u001b[0m\u001b[0;34m.\u001b[0m\u001b[0mseek\u001b[0m\u001b[0;34m(\u001b[0m\u001b[0;36m0\u001b[0m\u001b[0;34m)\u001b[0m\u001b[0;34m\u001b[0m\u001b[0m\n\u001b[0;32m--> 130\u001b[0;31m         \u001b[0msuper\u001b[0m\u001b[0;34m(\u001b[0m\u001b[0mMrcFile\u001b[0m\u001b[0;34m,\u001b[0m \u001b[0mself\u001b[0m\u001b[0;34m)\u001b[0m\u001b[0;34m.\u001b[0m\u001b[0m_read\u001b[0m\u001b[0;34m(\u001b[0m\u001b[0mheader_only\u001b[0m\u001b[0;34m)\u001b[0m\u001b[0;34m\u001b[0m\u001b[0m\n\u001b[0m\u001b[1;32m    131\u001b[0m \u001b[0;34m\u001b[0m\u001b[0m\n\u001b[1;32m    132\u001b[0m         \u001b[0;31m# Check if the file is the expected size.\u001b[0m\u001b[0;34m\u001b[0m\u001b[0;34m\u001b[0m\u001b[0m\n",
      "\u001b[0;32m/opt/rh/rh-python36/root/usr/lib/python3.6/site-packages/mrcfile/mrcinterpreter.py\u001b[0m in \u001b[0;36m_read\u001b[0;34m(self, header_only)\u001b[0m\n\u001b[1;32m    170\u001b[0m                  \u001b[0;32mas\u001b[0m \u001b[0ma\u001b[0m \u001b[0mvalid\u001b[0m \u001b[0mMRC\u001b[0m \u001b[0mfile\u001b[0m \u001b[0;32mand\u001b[0m\u001b[0;31m \u001b[0m\u001b[0;31m`\u001b[0m\u001b[0;31m`\u001b[0m\u001b[0mpermissive\u001b[0m\u001b[0;31m`\u001b[0m\u001b[0;31m`\u001b[0m \u001b[0;32mis\u001b[0m \u001b[0;34m:\u001b[0m\u001b[0mdata\u001b[0m\u001b[0;34m:\u001b[0m\u001b[0;31m`\u001b[0m\u001b[0;32mTrue\u001b[0m\u001b[0;31m`\u001b[0m\u001b[0;34m.\u001b[0m\u001b[0;34m\u001b[0m\u001b[0m\n\u001b[1;32m    171\u001b[0m         \"\"\"\n\u001b[0;32m--> 172\u001b[0;31m         \u001b[0mself\u001b[0m\u001b[0;34m.\u001b[0m\u001b[0m_read_header\u001b[0m\u001b[0;34m(\u001b[0m\u001b[0;34m)\u001b[0m\u001b[0;34m\u001b[0m\u001b[0m\n\u001b[0m\u001b[1;32m    173\u001b[0m         \u001b[0mself\u001b[0m\u001b[0;34m.\u001b[0m\u001b[0m_read_extended_header\u001b[0m\u001b[0;34m(\u001b[0m\u001b[0;34m)\u001b[0m\u001b[0;34m\u001b[0m\u001b[0m\n\u001b[1;32m    174\u001b[0m         \u001b[0;32mif\u001b[0m \u001b[0;32mnot\u001b[0m \u001b[0mheader_only\u001b[0m\u001b[0;34m:\u001b[0m\u001b[0;34m\u001b[0m\u001b[0m\n",
      "\u001b[0;32m/opt/rh/rh-python36/root/usr/lib/python3.6/site-packages/mrcfile/mrcinterpreter.py\u001b[0m in \u001b[0;36m_read_header\u001b[0;34m(self)\u001b[0m\n\u001b[1;32m    211\u001b[0m \u001b[0;34m\u001b[0m\u001b[0m\n\u001b[1;32m    212\u001b[0m         \u001b[0;32mtry\u001b[0m\u001b[0;34m:\u001b[0m\u001b[0;34m\u001b[0m\u001b[0m\n\u001b[0;32m--> 213\u001b[0;31m             \u001b[0mbyte_order\u001b[0m \u001b[0;34m=\u001b[0m \u001b[0mutils\u001b[0m\u001b[0;34m.\u001b[0m\u001b[0mbyte_order_from_machine_stamp\u001b[0m\u001b[0;34m(\u001b[0m\u001b[0mheader\u001b[0m\u001b[0;34m.\u001b[0m\u001b[0mmachst\u001b[0m\u001b[0;34m)\u001b[0m\u001b[0;34m\u001b[0m\u001b[0m\n\u001b[0m\u001b[1;32m    214\u001b[0m         \u001b[0;32mexcept\u001b[0m \u001b[0mValueError\u001b[0m \u001b[0;32mas\u001b[0m \u001b[0merr\u001b[0m\u001b[0;34m:\u001b[0m\u001b[0;34m\u001b[0m\u001b[0m\n\u001b[1;32m    215\u001b[0m             \u001b[0;32mif\u001b[0m \u001b[0mself\u001b[0m\u001b[0;34m.\u001b[0m\u001b[0m_permissive\u001b[0m\u001b[0;34m:\u001b[0m\u001b[0;34m\u001b[0m\u001b[0m\n",
      "\u001b[0;32m/opt/rh/rh-python36/root/usr/lib/python3.6/site-packages/mrcfile/utils.py\u001b[0m in \u001b[0;36mbyte_order_from_machine_stamp\u001b[0;34m(machst)\u001b[0m\n\u001b[1;32m    195\u001b[0m     \u001b[0;32melse\u001b[0m\u001b[0;34m:\u001b[0m\u001b[0;34m\u001b[0m\u001b[0m\n\u001b[1;32m    196\u001b[0m         \u001b[0mpretty_bytes\u001b[0m \u001b[0;34m=\u001b[0m \u001b[0mpretty_machine_stamp\u001b[0m\u001b[0;34m(\u001b[0m\u001b[0mmachst\u001b[0m\u001b[0;34m)\u001b[0m\u001b[0;34m\u001b[0m\u001b[0m\n\u001b[0;32m--> 197\u001b[0;31m         \u001b[0;32mraise\u001b[0m \u001b[0mValueError\u001b[0m\u001b[0;34m(\u001b[0m\u001b[0;34m\"Unrecognised machine stamp: \"\u001b[0m \u001b[0;34m+\u001b[0m \u001b[0mpretty_bytes\u001b[0m\u001b[0;34m)\u001b[0m\u001b[0;34m\u001b[0m\u001b[0m\n\u001b[0m\u001b[1;32m    198\u001b[0m \u001b[0;34m\u001b[0m\u001b[0m\n\u001b[1;32m    199\u001b[0m \u001b[0;34m\u001b[0m\u001b[0m\n",
      "\u001b[0;31mValueError\u001b[0m: Unrecognised machine stamp: 0x44 0x11 0x00 0x00"
     ]
    }
   ],
   "source": [
    "import mrcfile\n",
    "print(\"opening file %s...\" % (mrc_file,))\n",
    "with mrcfile.open(mrc_file) as mrc:\n",
    "    micrograph = mrc.data\n",
    "micrograph.shape"
   ]
  },
  {
   "cell_type": "code",
   "execution_count": null,
   "metadata": {},
   "outputs": [],
   "source": []
  }
 ],
 "metadata": {
  "kernelspec": {
   "display_name": "Python 3",
   "language": "python",
   "name": "python3"
  },
  "language_info": {
   "codemirror_mode": {
    "name": "ipython",
    "version": 3
   },
   "file_extension": ".py",
   "mimetype": "text/x-python",
   "name": "python",
   "nbconvert_exporter": "python",
   "pygments_lexer": "ipython3",
   "version": "3.6.3"
  }
 },
 "nbformat": 4,
 "nbformat_minor": 2
}
