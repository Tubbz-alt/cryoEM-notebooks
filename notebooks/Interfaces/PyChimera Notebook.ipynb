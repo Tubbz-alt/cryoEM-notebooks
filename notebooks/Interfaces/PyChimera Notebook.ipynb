{
 "cells": [
  {
   "cell_type": "markdown",
   "metadata": {},
   "source": [
    "# pyChimera\n",
    "\n",
    "*Warning*: did not get to run chimera from jupyter notebook, this is just to give an idea of how to script with python for chimera, using pychimera"
   ]
  },
  {
   "cell_type": "markdown",
   "metadata": {},
   "source": [
    "**Install**\n",
    "```bash\n",
    "conda create -n pychimera -c insilichem python=2.7 pychimera\n",
    "source activate pychimera\n",
    "conda install ipython jupyter notebook\n",
    "```\n",
    "\n",
    "*Nota*: in principle, should be possible to use nglview, but the following did not help:\n",
    "```\n",
    "conda install -c bioconda nglview\n",
    "jupyter-nbextension enable nglview --py --sys-prefix\n",
    "```\n",
    "\n",
    "**Open notebook**\n",
    "```bash\n",
    "pychimera notebook\n",
    "```"
   ]
  },
  {
   "cell_type": "code",
   "execution_count": 8,
   "metadata": {},
   "outputs": [],
   "source": [
    "# Run this cell to complete Chimera initialization\n",
    "from pychimera import enable_chimera, enable_chimera_inline, chimera_view\n",
    "enable_chimera()\n",
    "enable_chimera_inline()\n",
    "import chimera"
   ]
  },
  {
   "cell_type": "code",
   "execution_count": 9,
   "metadata": {},
   "outputs": [],
   "source": [
    "from chimera import runCommand as rc\n",
    "from chimera import replyobj"
   ]
  },
  {
   "cell_type": "code",
   "execution_count": 10,
   "metadata": {},
   "outputs": [],
   "source": [
    "import os, glob"
   ]
  },
  {
   "cell_type": "code",
   "execution_count": 11,
   "metadata": {},
   "outputs": [],
   "source": [
    "map_directory='/Users/fpoitevi/gdrive/cryoEM/Projects/20181005-rib-TEM4/processing/Class3D/job384/'\n",
    "map_list = glob.glob(map_directory+'*it050*.mrc')"
   ]
  },
  {
   "cell_type": "code",
   "execution_count": 12,
   "metadata": {},
   "outputs": [],
   "source": [
    "for map_file in map_list:\n",
    "    replyobj.status(\"Processing \" + map_file) # show what file we're working on\n",
    "    rc(\"open \" + map_file)\n",
    "rc(\"color gray\")\n",
    "rc(\"background solid white\")"
   ]
  },
  {
   "cell_type": "code",
   "execution_count": null,
   "metadata": {},
   "outputs": [],
   "source": []
  }
 ],
 "metadata": {
  "kernelspec": {
   "display_name": "Python 2",
   "language": "python",
   "name": "python2"
  },
  "language_info": {
   "codemirror_mode": {
    "name": "ipython",
    "version": 2
   },
   "file_extension": ".py",
   "mimetype": "text/x-python",
   "name": "python",
   "nbconvert_exporter": "python",
   "pygments_lexer": "ipython2",
   "version": "2.7.14"
  }
 },
 "nbformat": 4,
 "nbformat_minor": 2
}
