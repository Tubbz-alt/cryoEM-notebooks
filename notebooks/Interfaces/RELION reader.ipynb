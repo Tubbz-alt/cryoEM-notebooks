{
 "cells": [
  {
   "cell_type": "code",
   "execution_count": 1,
   "metadata": {},
   "outputs": [],
   "source": [
    "%matplotlib inline\n",
    "import os, sys, glob\n",
    "import numpy as np\n",
    "from matplotlib import pyplot as plt\n",
    "import mrcfile\n",
    "# package up sometime?\n",
    "sys.path.append('../../src/')\n",
    "import cryoemio"
   ]
  },
  {
   "cell_type": "markdown",
   "metadata": {},
   "source": [
    "# Setup"
   ]
  },
  {
   "cell_type": "code",
   "execution_count": 2,
   "metadata": {},
   "outputs": [],
   "source": [
    "project_directory = '/Users/fpoitevi/gdrive/cryoEM/Projects/20181005-rib-TEM4/processing/'\n",
    "starfile          = project_directory+'Extract/extract_one_2dclass/particles.star'"
   ]
  },
  {
   "cell_type": "markdown",
   "metadata": {},
   "source": [
    "# Read star files from RELION"
   ]
  },
  {
   "cell_type": "markdown",
   "metadata": {},
   "source": [
    "## load content of star file into python dictionary"
   ]
  },
  {
   "cell_type": "code",
   "execution_count": 12,
   "metadata": {},
   "outputs": [
    {
     "name": "stdout",
     "output_type": "stream",
     "text": [
      "Number of particles in this star file: 8278\n",
      "The entries in the returned dictionary are:\n",
      "data['metadata'].keys(): ['_rlncoordinatex', '_rlncoordinatey', '_rlnautopickfigureofmerit', '_rlnclassnumber', '_rlnanglepsi', '_rlnimagename', '_rlnmicrographname', '_rlnmagnification', '_rlndetectorpixelsize', '_rlnctfmaxresolution', '_rlnctffigureofmerit', '_rlnvoltage', '_rlndefocusu', '_rlndefocusv', '_rlndefocusangle', '_rlnsphericalaberration', '_rlnctfbfactor', '_rlnctfscalefactor', '_rlnphaseshift', '_rlnamplitudecontrast', '_rlnoriginx', '_rlnoriginy', '_rlngroupnumber', '_rlnanglerot', '_rlnangletilt', '_rlnnormcorrection', '_rlnloglikelicontribution', '_rlnmaxvalueprobdistribution', '_rlnnrofsignificantsamples']\n"
     ]
    }
   ],
   "source": [
    "star_content = cryoemio.star_reader(starfile)"
   ]
  },
  {
   "cell_type": "markdown",
   "metadata": {},
   "source": [
    "## plot two of its entries"
   ]
  },
  {
   "cell_type": "code",
   "execution_count": 13,
   "metadata": {},
   "outputs": [
    {
     "ename": "KeyboardInterrupt",
     "evalue": "",
     "output_type": "error",
     "traceback": [
      "\u001b[0;31m---------------------------------------------------------------------------\u001b[0m",
      "\u001b[0;31mKeyboardInterrupt\u001b[0m                         Traceback (most recent call last)",
      "\u001b[0;32m<ipython-input-13-9f9053b37bbf>\u001b[0m in \u001b[0;36m<module>\u001b[0;34m\u001b[0m\n\u001b[1;32m      4\u001b[0m \u001b[0mplt\u001b[0m\u001b[0;34m.\u001b[0m\u001b[0mxlabel\u001b[0m\u001b[0;34m(\u001b[0m\u001b[0;34m'Zu'\u001b[0m\u001b[0;34m)\u001b[0m\u001b[0;34m\u001b[0m\u001b[0;34m\u001b[0m\u001b[0m\n\u001b[1;32m      5\u001b[0m \u001b[0mplt\u001b[0m\u001b[0;34m.\u001b[0m\u001b[0mylabel\u001b[0m\u001b[0;34m(\u001b[0m\u001b[0;34m'Zv'\u001b[0m\u001b[0;34m)\u001b[0m\u001b[0;34m\u001b[0m\u001b[0;34m\u001b[0m\u001b[0m\n\u001b[0;32m----> 6\u001b[0;31m \u001b[0mplt\u001b[0m\u001b[0;34m.\u001b[0m\u001b[0mshow\u001b[0m\u001b[0;34m(\u001b[0m\u001b[0;34m)\u001b[0m\u001b[0;34m\u001b[0m\u001b[0;34m\u001b[0m\u001b[0m\n\u001b[0m",
      "\u001b[0;32m~/anaconda3/lib/python3.6/site-packages/matplotlib/pyplot.py\u001b[0m in \u001b[0;36mshow\u001b[0;34m(*args, **kw)\u001b[0m\n\u001b[1;32m    261\u001b[0m     \"\"\"\n\u001b[1;32m    262\u001b[0m     \u001b[0;32mglobal\u001b[0m \u001b[0m_show\u001b[0m\u001b[0;34m\u001b[0m\u001b[0;34m\u001b[0m\u001b[0m\n\u001b[0;32m--> 263\u001b[0;31m     \u001b[0;32mreturn\u001b[0m \u001b[0m_show\u001b[0m\u001b[0;34m(\u001b[0m\u001b[0;34m*\u001b[0m\u001b[0margs\u001b[0m\u001b[0;34m,\u001b[0m \u001b[0;34m**\u001b[0m\u001b[0mkw\u001b[0m\u001b[0;34m)\u001b[0m\u001b[0;34m\u001b[0m\u001b[0;34m\u001b[0m\u001b[0m\n\u001b[0m\u001b[1;32m    264\u001b[0m \u001b[0;34m\u001b[0m\u001b[0m\n\u001b[1;32m    265\u001b[0m \u001b[0;34m\u001b[0m\u001b[0m\n",
      "\u001b[0;32m~/anaconda3/lib/python3.6/site-packages/ipykernel/pylab/backend_inline.py\u001b[0m in \u001b[0;36mshow\u001b[0;34m(close, block)\u001b[0m\n\u001b[1;32m     37\u001b[0m             display(\n\u001b[1;32m     38\u001b[0m                 \u001b[0mfigure_manager\u001b[0m\u001b[0;34m.\u001b[0m\u001b[0mcanvas\u001b[0m\u001b[0;34m.\u001b[0m\u001b[0mfigure\u001b[0m\u001b[0;34m,\u001b[0m\u001b[0;34m\u001b[0m\u001b[0;34m\u001b[0m\u001b[0m\n\u001b[0;32m---> 39\u001b[0;31m                 \u001b[0mmetadata\u001b[0m\u001b[0;34m=\u001b[0m\u001b[0m_fetch_figure_metadata\u001b[0m\u001b[0;34m(\u001b[0m\u001b[0mfigure_manager\u001b[0m\u001b[0;34m.\u001b[0m\u001b[0mcanvas\u001b[0m\u001b[0;34m.\u001b[0m\u001b[0mfigure\u001b[0m\u001b[0;34m)\u001b[0m\u001b[0;34m\u001b[0m\u001b[0;34m\u001b[0m\u001b[0m\n\u001b[0m\u001b[1;32m     40\u001b[0m             )\n\u001b[1;32m     41\u001b[0m     \u001b[0;32mfinally\u001b[0m\u001b[0;34m:\u001b[0m\u001b[0;34m\u001b[0m\u001b[0;34m\u001b[0m\u001b[0m\n",
      "\u001b[0;32m~/anaconda3/lib/python3.6/site-packages/IPython/core/display.py\u001b[0m in \u001b[0;36mdisplay\u001b[0;34m(include, exclude, metadata, transient, display_id, *objs, **kwargs)\u001b[0m\n\u001b[1;32m    304\u001b[0m             \u001b[0mpublish_display_data\u001b[0m\u001b[0;34m(\u001b[0m\u001b[0mdata\u001b[0m\u001b[0;34m=\u001b[0m\u001b[0mobj\u001b[0m\u001b[0;34m,\u001b[0m \u001b[0mmetadata\u001b[0m\u001b[0;34m=\u001b[0m\u001b[0mmetadata\u001b[0m\u001b[0;34m,\u001b[0m \u001b[0;34m**\u001b[0m\u001b[0mkwargs\u001b[0m\u001b[0;34m)\u001b[0m\u001b[0;34m\u001b[0m\u001b[0;34m\u001b[0m\u001b[0m\n\u001b[1;32m    305\u001b[0m         \u001b[0;32melse\u001b[0m\u001b[0;34m:\u001b[0m\u001b[0;34m\u001b[0m\u001b[0;34m\u001b[0m\u001b[0m\n\u001b[0;32m--> 306\u001b[0;31m             \u001b[0mformat_dict\u001b[0m\u001b[0;34m,\u001b[0m \u001b[0mmd_dict\u001b[0m \u001b[0;34m=\u001b[0m \u001b[0mformat\u001b[0m\u001b[0;34m(\u001b[0m\u001b[0mobj\u001b[0m\u001b[0;34m,\u001b[0m \u001b[0minclude\u001b[0m\u001b[0;34m=\u001b[0m\u001b[0minclude\u001b[0m\u001b[0;34m,\u001b[0m \u001b[0mexclude\u001b[0m\u001b[0;34m=\u001b[0m\u001b[0mexclude\u001b[0m\u001b[0;34m)\u001b[0m\u001b[0;34m\u001b[0m\u001b[0;34m\u001b[0m\u001b[0m\n\u001b[0m\u001b[1;32m    307\u001b[0m             \u001b[0;32mif\u001b[0m \u001b[0;32mnot\u001b[0m \u001b[0mformat_dict\u001b[0m\u001b[0;34m:\u001b[0m\u001b[0;34m\u001b[0m\u001b[0;34m\u001b[0m\u001b[0m\n\u001b[1;32m    308\u001b[0m                 \u001b[0;31m# nothing to display (e.g. _ipython_display_ took over)\u001b[0m\u001b[0;34m\u001b[0m\u001b[0;34m\u001b[0m\u001b[0;34m\u001b[0m\u001b[0m\n",
      "\u001b[0;32m~/anaconda3/lib/python3.6/site-packages/IPython/core/formatters.py\u001b[0m in \u001b[0;36mformat\u001b[0;34m(self, obj, include, exclude)\u001b[0m\n\u001b[1;32m    178\u001b[0m             \u001b[0mmd\u001b[0m \u001b[0;34m=\u001b[0m \u001b[0;32mNone\u001b[0m\u001b[0;34m\u001b[0m\u001b[0;34m\u001b[0m\u001b[0m\n\u001b[1;32m    179\u001b[0m             \u001b[0;32mtry\u001b[0m\u001b[0;34m:\u001b[0m\u001b[0;34m\u001b[0m\u001b[0;34m\u001b[0m\u001b[0m\n\u001b[0;32m--> 180\u001b[0;31m                 \u001b[0mdata\u001b[0m \u001b[0;34m=\u001b[0m \u001b[0mformatter\u001b[0m\u001b[0;34m(\u001b[0m\u001b[0mobj\u001b[0m\u001b[0;34m)\u001b[0m\u001b[0;34m\u001b[0m\u001b[0;34m\u001b[0m\u001b[0m\n\u001b[0m\u001b[1;32m    181\u001b[0m             \u001b[0;32mexcept\u001b[0m\u001b[0;34m:\u001b[0m\u001b[0;34m\u001b[0m\u001b[0;34m\u001b[0m\u001b[0m\n\u001b[1;32m    182\u001b[0m                 \u001b[0;31m# FIXME: log the exception\u001b[0m\u001b[0;34m\u001b[0m\u001b[0;34m\u001b[0m\u001b[0;34m\u001b[0m\u001b[0m\n",
      "\u001b[0;32m</Users/fpoitevi/anaconda3/lib/python3.6/site-packages/decorator.py:decorator-gen-9>\u001b[0m in \u001b[0;36m__call__\u001b[0;34m(self, obj)\u001b[0m\n",
      "\u001b[0;32m~/anaconda3/lib/python3.6/site-packages/IPython/core/formatters.py\u001b[0m in \u001b[0;36mcatch_format_error\u001b[0;34m(method, self, *args, **kwargs)\u001b[0m\n\u001b[1;32m    222\u001b[0m     \u001b[0;34m\"\"\"show traceback on failed format call\"\"\"\u001b[0m\u001b[0;34m\u001b[0m\u001b[0;34m\u001b[0m\u001b[0m\n\u001b[1;32m    223\u001b[0m     \u001b[0;32mtry\u001b[0m\u001b[0;34m:\u001b[0m\u001b[0;34m\u001b[0m\u001b[0;34m\u001b[0m\u001b[0m\n\u001b[0;32m--> 224\u001b[0;31m         \u001b[0mr\u001b[0m \u001b[0;34m=\u001b[0m \u001b[0mmethod\u001b[0m\u001b[0;34m(\u001b[0m\u001b[0mself\u001b[0m\u001b[0;34m,\u001b[0m \u001b[0;34m*\u001b[0m\u001b[0margs\u001b[0m\u001b[0;34m,\u001b[0m \u001b[0;34m**\u001b[0m\u001b[0mkwargs\u001b[0m\u001b[0;34m)\u001b[0m\u001b[0;34m\u001b[0m\u001b[0;34m\u001b[0m\u001b[0m\n\u001b[0m\u001b[1;32m    225\u001b[0m     \u001b[0;32mexcept\u001b[0m \u001b[0mNotImplementedError\u001b[0m\u001b[0;34m:\u001b[0m\u001b[0;34m\u001b[0m\u001b[0;34m\u001b[0m\u001b[0m\n\u001b[1;32m    226\u001b[0m         \u001b[0;31m# don't warn on NotImplementedErrors\u001b[0m\u001b[0;34m\u001b[0m\u001b[0;34m\u001b[0m\u001b[0;34m\u001b[0m\u001b[0m\n",
      "\u001b[0;32m~/anaconda3/lib/python3.6/site-packages/IPython/core/formatters.py\u001b[0m in \u001b[0;36m__call__\u001b[0;34m(self, obj)\u001b[0m\n\u001b[1;32m    339\u001b[0m                 \u001b[0;32mpass\u001b[0m\u001b[0;34m\u001b[0m\u001b[0;34m\u001b[0m\u001b[0m\n\u001b[1;32m    340\u001b[0m             \u001b[0;32melse\u001b[0m\u001b[0;34m:\u001b[0m\u001b[0;34m\u001b[0m\u001b[0;34m\u001b[0m\u001b[0m\n\u001b[0;32m--> 341\u001b[0;31m                 \u001b[0;32mreturn\u001b[0m \u001b[0mprinter\u001b[0m\u001b[0;34m(\u001b[0m\u001b[0mobj\u001b[0m\u001b[0;34m)\u001b[0m\u001b[0;34m\u001b[0m\u001b[0;34m\u001b[0m\u001b[0m\n\u001b[0m\u001b[1;32m    342\u001b[0m             \u001b[0;31m# Finally look for special method names\u001b[0m\u001b[0;34m\u001b[0m\u001b[0;34m\u001b[0m\u001b[0;34m\u001b[0m\u001b[0m\n\u001b[1;32m    343\u001b[0m             \u001b[0mmethod\u001b[0m \u001b[0;34m=\u001b[0m \u001b[0mget_real_method\u001b[0m\u001b[0;34m(\u001b[0m\u001b[0mobj\u001b[0m\u001b[0;34m,\u001b[0m \u001b[0mself\u001b[0m\u001b[0;34m.\u001b[0m\u001b[0mprint_method\u001b[0m\u001b[0;34m)\u001b[0m\u001b[0;34m\u001b[0m\u001b[0;34m\u001b[0m\u001b[0m\n",
      "\u001b[0;32m~/anaconda3/lib/python3.6/site-packages/IPython/core/pylabtools.py\u001b[0m in \u001b[0;36m<lambda>\u001b[0;34m(fig)\u001b[0m\n\u001b[1;32m    242\u001b[0m \u001b[0;34m\u001b[0m\u001b[0m\n\u001b[1;32m    243\u001b[0m     \u001b[0;32mif\u001b[0m \u001b[0;34m'png'\u001b[0m \u001b[0;32min\u001b[0m \u001b[0mformats\u001b[0m\u001b[0;34m:\u001b[0m\u001b[0;34m\u001b[0m\u001b[0;34m\u001b[0m\u001b[0m\n\u001b[0;32m--> 244\u001b[0;31m         \u001b[0mpng_formatter\u001b[0m\u001b[0;34m.\u001b[0m\u001b[0mfor_type\u001b[0m\u001b[0;34m(\u001b[0m\u001b[0mFigure\u001b[0m\u001b[0;34m,\u001b[0m \u001b[0;32mlambda\u001b[0m \u001b[0mfig\u001b[0m\u001b[0;34m:\u001b[0m \u001b[0mprint_figure\u001b[0m\u001b[0;34m(\u001b[0m\u001b[0mfig\u001b[0m\u001b[0;34m,\u001b[0m \u001b[0;34m'png'\u001b[0m\u001b[0;34m,\u001b[0m \u001b[0;34m**\u001b[0m\u001b[0mkwargs\u001b[0m\u001b[0;34m)\u001b[0m\u001b[0;34m)\u001b[0m\u001b[0;34m\u001b[0m\u001b[0;34m\u001b[0m\u001b[0m\n\u001b[0m\u001b[1;32m    245\u001b[0m     \u001b[0;32mif\u001b[0m \u001b[0;34m'retina'\u001b[0m \u001b[0;32min\u001b[0m \u001b[0mformats\u001b[0m \u001b[0;32mor\u001b[0m \u001b[0;34m'png2x'\u001b[0m \u001b[0;32min\u001b[0m \u001b[0mformats\u001b[0m\u001b[0;34m:\u001b[0m\u001b[0;34m\u001b[0m\u001b[0;34m\u001b[0m\u001b[0m\n\u001b[1;32m    246\u001b[0m         \u001b[0mpng_formatter\u001b[0m\u001b[0;34m.\u001b[0m\u001b[0mfor_type\u001b[0m\u001b[0;34m(\u001b[0m\u001b[0mFigure\u001b[0m\u001b[0;34m,\u001b[0m \u001b[0;32mlambda\u001b[0m \u001b[0mfig\u001b[0m\u001b[0;34m:\u001b[0m \u001b[0mretina_figure\u001b[0m\u001b[0;34m(\u001b[0m\u001b[0mfig\u001b[0m\u001b[0;34m,\u001b[0m \u001b[0;34m**\u001b[0m\u001b[0mkwargs\u001b[0m\u001b[0;34m)\u001b[0m\u001b[0;34m)\u001b[0m\u001b[0;34m\u001b[0m\u001b[0;34m\u001b[0m\u001b[0m\n",
      "\u001b[0;32m~/anaconda3/lib/python3.6/site-packages/IPython/core/pylabtools.py\u001b[0m in \u001b[0;36mprint_figure\u001b[0;34m(fig, fmt, bbox_inches, **kwargs)\u001b[0m\n\u001b[1;32m    126\u001b[0m \u001b[0;34m\u001b[0m\u001b[0m\n\u001b[1;32m    127\u001b[0m     \u001b[0mbytes_io\u001b[0m \u001b[0;34m=\u001b[0m \u001b[0mBytesIO\u001b[0m\u001b[0;34m(\u001b[0m\u001b[0;34m)\u001b[0m\u001b[0;34m\u001b[0m\u001b[0;34m\u001b[0m\u001b[0m\n\u001b[0;32m--> 128\u001b[0;31m     \u001b[0mfig\u001b[0m\u001b[0;34m.\u001b[0m\u001b[0mcanvas\u001b[0m\u001b[0;34m.\u001b[0m\u001b[0mprint_figure\u001b[0m\u001b[0;34m(\u001b[0m\u001b[0mbytes_io\u001b[0m\u001b[0;34m,\u001b[0m \u001b[0;34m**\u001b[0m\u001b[0mkw\u001b[0m\u001b[0;34m)\u001b[0m\u001b[0;34m\u001b[0m\u001b[0;34m\u001b[0m\u001b[0m\n\u001b[0m\u001b[1;32m    129\u001b[0m     \u001b[0mdata\u001b[0m \u001b[0;34m=\u001b[0m \u001b[0mbytes_io\u001b[0m\u001b[0;34m.\u001b[0m\u001b[0mgetvalue\u001b[0m\u001b[0;34m(\u001b[0m\u001b[0;34m)\u001b[0m\u001b[0;34m\u001b[0m\u001b[0;34m\u001b[0m\u001b[0m\n\u001b[1;32m    130\u001b[0m     \u001b[0;32mif\u001b[0m \u001b[0mfmt\u001b[0m \u001b[0;34m==\u001b[0m \u001b[0;34m'svg'\u001b[0m\u001b[0;34m:\u001b[0m\u001b[0;34m\u001b[0m\u001b[0;34m\u001b[0m\u001b[0m\n",
      "\u001b[0;32m~/anaconda3/lib/python3.6/site-packages/matplotlib/backend_bases.py\u001b[0m in \u001b[0;36mprint_figure\u001b[0;34m(self, filename, dpi, facecolor, edgecolor, orientation, format, bbox_inches, **kwargs)\u001b[0m\n\u001b[1;32m   2058\u001b[0m                     \u001b[0mbbox_artists\u001b[0m \u001b[0;34m=\u001b[0m \u001b[0mkwargs\u001b[0m\u001b[0;34m.\u001b[0m\u001b[0mpop\u001b[0m\u001b[0;34m(\u001b[0m\u001b[0;34m\"bbox_extra_artists\"\u001b[0m\u001b[0;34m,\u001b[0m \u001b[0;32mNone\u001b[0m\u001b[0;34m)\u001b[0m\u001b[0;34m\u001b[0m\u001b[0;34m\u001b[0m\u001b[0m\n\u001b[1;32m   2059\u001b[0m                     bbox_inches = self.figure.get_tightbbox(renderer,\n\u001b[0;32m-> 2060\u001b[0;31m                             bbox_extra_artists=bbox_artists)\n\u001b[0m\u001b[1;32m   2061\u001b[0m                     \u001b[0mpad\u001b[0m \u001b[0;34m=\u001b[0m \u001b[0mkwargs\u001b[0m\u001b[0;34m.\u001b[0m\u001b[0mpop\u001b[0m\u001b[0;34m(\u001b[0m\u001b[0;34m\"pad_inches\"\u001b[0m\u001b[0;34m,\u001b[0m \u001b[0;32mNone\u001b[0m\u001b[0;34m)\u001b[0m\u001b[0;34m\u001b[0m\u001b[0;34m\u001b[0m\u001b[0m\n\u001b[1;32m   2062\u001b[0m                     \u001b[0;32mif\u001b[0m \u001b[0mpad\u001b[0m \u001b[0;32mis\u001b[0m \u001b[0;32mNone\u001b[0m\u001b[0;34m:\u001b[0m\u001b[0;34m\u001b[0m\u001b[0;34m\u001b[0m\u001b[0m\n",
      "\u001b[0;32m~/anaconda3/lib/python3.6/site-packages/matplotlib/figure.py\u001b[0m in \u001b[0;36mget_tightbbox\u001b[0;34m(self, renderer, bbox_extra_artists)\u001b[0m\n\u001b[1;32m   2364\u001b[0m \u001b[0;34m\u001b[0m\u001b[0m\n\u001b[1;32m   2365\u001b[0m         \u001b[0;32mfor\u001b[0m \u001b[0ma\u001b[0m \u001b[0;32min\u001b[0m \u001b[0martists\u001b[0m\u001b[0;34m:\u001b[0m\u001b[0;34m\u001b[0m\u001b[0;34m\u001b[0m\u001b[0m\n\u001b[0;32m-> 2366\u001b[0;31m             \u001b[0mbbox\u001b[0m \u001b[0;34m=\u001b[0m \u001b[0ma\u001b[0m\u001b[0;34m.\u001b[0m\u001b[0mget_tightbbox\u001b[0m\u001b[0;34m(\u001b[0m\u001b[0mrenderer\u001b[0m\u001b[0;34m)\u001b[0m\u001b[0;34m\u001b[0m\u001b[0;34m\u001b[0m\u001b[0m\n\u001b[0m\u001b[1;32m   2367\u001b[0m             \u001b[0;32mif\u001b[0m \u001b[0mbbox\u001b[0m \u001b[0;32mis\u001b[0m \u001b[0;32mnot\u001b[0m \u001b[0;32mNone\u001b[0m \u001b[0;32mand\u001b[0m \u001b[0;34m(\u001b[0m\u001b[0mbbox\u001b[0m\u001b[0;34m.\u001b[0m\u001b[0mwidth\u001b[0m \u001b[0;34m!=\u001b[0m \u001b[0;36m0\u001b[0m \u001b[0;32mor\u001b[0m \u001b[0mbbox\u001b[0m\u001b[0;34m.\u001b[0m\u001b[0mheight\u001b[0m \u001b[0;34m!=\u001b[0m \u001b[0;36m0\u001b[0m\u001b[0;34m)\u001b[0m\u001b[0;34m:\u001b[0m\u001b[0;34m\u001b[0m\u001b[0;34m\u001b[0m\u001b[0m\n\u001b[1;32m   2368\u001b[0m                 \u001b[0mbb\u001b[0m\u001b[0;34m.\u001b[0m\u001b[0mappend\u001b[0m\u001b[0;34m(\u001b[0m\u001b[0mbbox\u001b[0m\u001b[0;34m)\u001b[0m\u001b[0;34m\u001b[0m\u001b[0;34m\u001b[0m\u001b[0m\n",
      "\u001b[0;32m~/anaconda3/lib/python3.6/site-packages/matplotlib/axes/_base.py\u001b[0m in \u001b[0;36mget_tightbbox\u001b[0;34m(self, renderer, call_axes_locator, bbox_extra_artists)\u001b[0m\n\u001b[1;32m   4372\u001b[0m \u001b[0;34m\u001b[0m\u001b[0m\n\u001b[1;32m   4373\u001b[0m         \u001b[0;32mfor\u001b[0m \u001b[0ma\u001b[0m \u001b[0;32min\u001b[0m \u001b[0mbbox_artists\u001b[0m\u001b[0;34m:\u001b[0m\u001b[0;34m\u001b[0m\u001b[0;34m\u001b[0m\u001b[0m\n\u001b[0;32m-> 4374\u001b[0;31m             \u001b[0mbbox\u001b[0m \u001b[0;34m=\u001b[0m \u001b[0ma\u001b[0m\u001b[0;34m.\u001b[0m\u001b[0mget_tightbbox\u001b[0m\u001b[0;34m(\u001b[0m\u001b[0mrenderer\u001b[0m\u001b[0;34m)\u001b[0m\u001b[0;34m\u001b[0m\u001b[0;34m\u001b[0m\u001b[0m\n\u001b[0m\u001b[1;32m   4375\u001b[0m             if (bbox is not None\n\u001b[1;32m   4376\u001b[0m                     \u001b[0;32mand\u001b[0m \u001b[0;36m0\u001b[0m \u001b[0;34m<\u001b[0m \u001b[0mbbox\u001b[0m\u001b[0;34m.\u001b[0m\u001b[0mwidth\u001b[0m \u001b[0;34m<\u001b[0m \u001b[0mnp\u001b[0m\u001b[0;34m.\u001b[0m\u001b[0minf\u001b[0m\u001b[0;34m\u001b[0m\u001b[0;34m\u001b[0m\u001b[0m\n",
      "\u001b[0;32m~/anaconda3/lib/python3.6/site-packages/matplotlib/axis.py\u001b[0m in \u001b[0;36mget_tightbbox\u001b[0;34m(self, renderer)\u001b[0m\n\u001b[1;32m   1163\u001b[0m         \u001b[0mticks_to_draw\u001b[0m \u001b[0;34m=\u001b[0m \u001b[0mself\u001b[0m\u001b[0;34m.\u001b[0m\u001b[0m_update_ticks\u001b[0m\u001b[0;34m(\u001b[0m\u001b[0;34m)\u001b[0m\u001b[0;34m\u001b[0m\u001b[0;34m\u001b[0m\u001b[0m\n\u001b[1;32m   1164\u001b[0m \u001b[0;34m\u001b[0m\u001b[0m\n\u001b[0;32m-> 1165\u001b[0;31m         \u001b[0mself\u001b[0m\u001b[0;34m.\u001b[0m\u001b[0m_update_label_position\u001b[0m\u001b[0;34m(\u001b[0m\u001b[0mrenderer\u001b[0m\u001b[0;34m)\u001b[0m\u001b[0;34m\u001b[0m\u001b[0;34m\u001b[0m\u001b[0m\n\u001b[0m\u001b[1;32m   1166\u001b[0m \u001b[0;34m\u001b[0m\u001b[0m\n\u001b[1;32m   1167\u001b[0m         \u001b[0;31m# go back to just this axis's tick labels\u001b[0m\u001b[0;34m\u001b[0m\u001b[0;34m\u001b[0m\u001b[0;34m\u001b[0m\u001b[0m\n",
      "\u001b[0;32m~/anaconda3/lib/python3.6/site-packages/matplotlib/axis.py\u001b[0m in \u001b[0;36m_update_label_position\u001b[0;34m(self, renderer)\u001b[0m\n\u001b[1;32m   1985\u001b[0m         \u001b[0;31m# get bounding boxes for this axis and any siblings\u001b[0m\u001b[0;34m\u001b[0m\u001b[0;34m\u001b[0m\u001b[0;34m\u001b[0m\u001b[0m\n\u001b[1;32m   1986\u001b[0m         \u001b[0;31m# that have been set by `fig.align_xlabels()`\u001b[0m\u001b[0;34m\u001b[0m\u001b[0;34m\u001b[0m\u001b[0;34m\u001b[0m\u001b[0m\n\u001b[0;32m-> 1987\u001b[0;31m         \u001b[0mbboxes\u001b[0m\u001b[0;34m,\u001b[0m \u001b[0mbboxes2\u001b[0m \u001b[0;34m=\u001b[0m \u001b[0mself\u001b[0m\u001b[0;34m.\u001b[0m\u001b[0m_get_tick_boxes_siblings\u001b[0m\u001b[0;34m(\u001b[0m\u001b[0mrenderer\u001b[0m\u001b[0;34m=\u001b[0m\u001b[0mrenderer\u001b[0m\u001b[0;34m)\u001b[0m\u001b[0;34m\u001b[0m\u001b[0;34m\u001b[0m\u001b[0m\n\u001b[0m\u001b[1;32m   1988\u001b[0m \u001b[0;34m\u001b[0m\u001b[0m\n\u001b[1;32m   1989\u001b[0m         \u001b[0mx\u001b[0m\u001b[0;34m,\u001b[0m \u001b[0my\u001b[0m \u001b[0;34m=\u001b[0m \u001b[0mself\u001b[0m\u001b[0;34m.\u001b[0m\u001b[0mlabel\u001b[0m\u001b[0;34m.\u001b[0m\u001b[0mget_position\u001b[0m\u001b[0;34m(\u001b[0m\u001b[0;34m)\u001b[0m\u001b[0;34m\u001b[0m\u001b[0;34m\u001b[0m\u001b[0m\n",
      "\u001b[0;32m~/anaconda3/lib/python3.6/site-packages/matplotlib/axis.py\u001b[0m in \u001b[0;36m_get_tick_boxes_siblings\u001b[0;34m(self, renderer)\u001b[0m\n\u001b[1;32m   1969\u001b[0m         \u001b[0;31m# if we want to align labels from other axes:\u001b[0m\u001b[0;34m\u001b[0m\u001b[0;34m\u001b[0m\u001b[0;34m\u001b[0m\u001b[0m\n\u001b[1;32m   1970\u001b[0m         \u001b[0;32mfor\u001b[0m \u001b[0mnn\u001b[0m\u001b[0;34m,\u001b[0m \u001b[0maxx\u001b[0m \u001b[0;32min\u001b[0m \u001b[0menumerate\u001b[0m\u001b[0;34m(\u001b[0m\u001b[0mgrp\u001b[0m\u001b[0;34m.\u001b[0m\u001b[0mget_siblings\u001b[0m\u001b[0;34m(\u001b[0m\u001b[0mself\u001b[0m\u001b[0;34m.\u001b[0m\u001b[0maxes\u001b[0m\u001b[0;34m)\u001b[0m\u001b[0;34m)\u001b[0m\u001b[0;34m:\u001b[0m\u001b[0;34m\u001b[0m\u001b[0;34m\u001b[0m\u001b[0m\n\u001b[0;32m-> 1971\u001b[0;31m             \u001b[0mticks_to_draw\u001b[0m \u001b[0;34m=\u001b[0m \u001b[0maxx\u001b[0m\u001b[0;34m.\u001b[0m\u001b[0mxaxis\u001b[0m\u001b[0;34m.\u001b[0m\u001b[0m_update_ticks\u001b[0m\u001b[0;34m(\u001b[0m\u001b[0;34m)\u001b[0m\u001b[0;34m\u001b[0m\u001b[0;34m\u001b[0m\u001b[0m\n\u001b[0m\u001b[1;32m   1972\u001b[0m             \u001b[0mtlb\u001b[0m\u001b[0;34m,\u001b[0m \u001b[0mtlb2\u001b[0m \u001b[0;34m=\u001b[0m \u001b[0maxx\u001b[0m\u001b[0;34m.\u001b[0m\u001b[0mxaxis\u001b[0m\u001b[0;34m.\u001b[0m\u001b[0m_get_tick_bboxes\u001b[0m\u001b[0;34m(\u001b[0m\u001b[0mticks_to_draw\u001b[0m\u001b[0;34m,\u001b[0m \u001b[0mrenderer\u001b[0m\u001b[0;34m)\u001b[0m\u001b[0;34m\u001b[0m\u001b[0;34m\u001b[0m\u001b[0m\n\u001b[1;32m   1973\u001b[0m             \u001b[0mbboxes\u001b[0m\u001b[0;34m.\u001b[0m\u001b[0mextend\u001b[0m\u001b[0;34m(\u001b[0m\u001b[0mtlb\u001b[0m\u001b[0;34m)\u001b[0m\u001b[0;34m\u001b[0m\u001b[0;34m\u001b[0m\u001b[0m\n",
      "\u001b[0;32m~/anaconda3/lib/python3.6/site-packages/matplotlib/axis.py\u001b[0m in \u001b[0;36m_update_ticks\u001b[0;34m(self)\u001b[0m\n\u001b[1;32m   1079\u001b[0m         \"\"\"\n\u001b[1;32m   1080\u001b[0m         \u001b[0mmajor_locs\u001b[0m \u001b[0;34m=\u001b[0m \u001b[0mself\u001b[0m\u001b[0;34m.\u001b[0m\u001b[0mget_majorticklocs\u001b[0m\u001b[0;34m(\u001b[0m\u001b[0;34m)\u001b[0m\u001b[0;34m\u001b[0m\u001b[0;34m\u001b[0m\u001b[0m\n\u001b[0;32m-> 1081\u001b[0;31m         \u001b[0mmajor_labels\u001b[0m \u001b[0;34m=\u001b[0m \u001b[0mself\u001b[0m\u001b[0;34m.\u001b[0m\u001b[0mmajor\u001b[0m\u001b[0;34m.\u001b[0m\u001b[0mformatter\u001b[0m\u001b[0;34m.\u001b[0m\u001b[0mformat_ticks\u001b[0m\u001b[0;34m(\u001b[0m\u001b[0mmajor_locs\u001b[0m\u001b[0;34m)\u001b[0m\u001b[0;34m\u001b[0m\u001b[0;34m\u001b[0m\u001b[0m\n\u001b[0m\u001b[1;32m   1082\u001b[0m         \u001b[0mmajor_ticks\u001b[0m \u001b[0;34m=\u001b[0m \u001b[0mself\u001b[0m\u001b[0;34m.\u001b[0m\u001b[0mget_major_ticks\u001b[0m\u001b[0;34m(\u001b[0m\u001b[0mlen\u001b[0m\u001b[0;34m(\u001b[0m\u001b[0mmajor_locs\u001b[0m\u001b[0;34m)\u001b[0m\u001b[0;34m)\u001b[0m\u001b[0;34m\u001b[0m\u001b[0;34m\u001b[0m\u001b[0m\n\u001b[1;32m   1083\u001b[0m         \u001b[0mself\u001b[0m\u001b[0;34m.\u001b[0m\u001b[0mmajor\u001b[0m\u001b[0;34m.\u001b[0m\u001b[0mformatter\u001b[0m\u001b[0;34m.\u001b[0m\u001b[0mset_locs\u001b[0m\u001b[0;34m(\u001b[0m\u001b[0mmajor_locs\u001b[0m\u001b[0;34m)\u001b[0m\u001b[0;34m\u001b[0m\u001b[0;34m\u001b[0m\u001b[0m\n",
      "\u001b[0;32m~/anaconda3/lib/python3.6/site-packages/matplotlib/ticker.py\u001b[0m in \u001b[0;36mformat_ticks\u001b[0;34m(self, values)\u001b[0m\n\u001b[1;32m    257\u001b[0m         \u001b[0;34m\"\"\"Return the tick labels for all the ticks at once.\"\"\"\u001b[0m\u001b[0;34m\u001b[0m\u001b[0;34m\u001b[0m\u001b[0m\n\u001b[1;32m    258\u001b[0m         \u001b[0mself\u001b[0m\u001b[0;34m.\u001b[0m\u001b[0mset_locs\u001b[0m\u001b[0;34m(\u001b[0m\u001b[0mvalues\u001b[0m\u001b[0;34m)\u001b[0m\u001b[0;34m\u001b[0m\u001b[0;34m\u001b[0m\u001b[0m\n\u001b[0;32m--> 259\u001b[0;31m         \u001b[0;32mreturn\u001b[0m \u001b[0;34m[\u001b[0m\u001b[0mself\u001b[0m\u001b[0;34m(\u001b[0m\u001b[0mvalue\u001b[0m\u001b[0;34m,\u001b[0m \u001b[0mi\u001b[0m\u001b[0;34m)\u001b[0m \u001b[0;32mfor\u001b[0m \u001b[0mi\u001b[0m\u001b[0;34m,\u001b[0m \u001b[0mvalue\u001b[0m \u001b[0;32min\u001b[0m \u001b[0menumerate\u001b[0m\u001b[0;34m(\u001b[0m\u001b[0mvalues\u001b[0m\u001b[0;34m)\u001b[0m\u001b[0;34m]\u001b[0m\u001b[0;34m\u001b[0m\u001b[0;34m\u001b[0m\u001b[0m\n\u001b[0m\u001b[1;32m    260\u001b[0m \u001b[0;34m\u001b[0m\u001b[0m\n\u001b[1;32m    261\u001b[0m     \u001b[0;32mdef\u001b[0m \u001b[0mformat_data\u001b[0m\u001b[0;34m(\u001b[0m\u001b[0mself\u001b[0m\u001b[0;34m,\u001b[0m \u001b[0mvalue\u001b[0m\u001b[0;34m)\u001b[0m\u001b[0;34m:\u001b[0m\u001b[0;34m\u001b[0m\u001b[0;34m\u001b[0m\u001b[0m\n",
      "\u001b[0;32m~/anaconda3/lib/python3.6/site-packages/matplotlib/ticker.py\u001b[0m in \u001b[0;36m<listcomp>\u001b[0;34m(.0)\u001b[0m\n\u001b[1;32m    257\u001b[0m         \u001b[0;34m\"\"\"Return the tick labels for all the ticks at once.\"\"\"\u001b[0m\u001b[0;34m\u001b[0m\u001b[0;34m\u001b[0m\u001b[0m\n\u001b[1;32m    258\u001b[0m         \u001b[0mself\u001b[0m\u001b[0;34m.\u001b[0m\u001b[0mset_locs\u001b[0m\u001b[0;34m(\u001b[0m\u001b[0mvalues\u001b[0m\u001b[0;34m)\u001b[0m\u001b[0;34m\u001b[0m\u001b[0;34m\u001b[0m\u001b[0m\n\u001b[0;32m--> 259\u001b[0;31m         \u001b[0;32mreturn\u001b[0m \u001b[0;34m[\u001b[0m\u001b[0mself\u001b[0m\u001b[0;34m(\u001b[0m\u001b[0mvalue\u001b[0m\u001b[0;34m,\u001b[0m \u001b[0mi\u001b[0m\u001b[0;34m)\u001b[0m \u001b[0;32mfor\u001b[0m \u001b[0mi\u001b[0m\u001b[0;34m,\u001b[0m \u001b[0mvalue\u001b[0m \u001b[0;32min\u001b[0m \u001b[0menumerate\u001b[0m\u001b[0;34m(\u001b[0m\u001b[0mvalues\u001b[0m\u001b[0;34m)\u001b[0m\u001b[0;34m]\u001b[0m\u001b[0;34m\u001b[0m\u001b[0;34m\u001b[0m\u001b[0m\n\u001b[0m\u001b[1;32m    260\u001b[0m \u001b[0;34m\u001b[0m\u001b[0m\n\u001b[1;32m    261\u001b[0m     \u001b[0;32mdef\u001b[0m \u001b[0mformat_data\u001b[0m\u001b[0;34m(\u001b[0m\u001b[0mself\u001b[0m\u001b[0;34m,\u001b[0m \u001b[0mvalue\u001b[0m\u001b[0;34m)\u001b[0m\u001b[0;34m:\u001b[0m\u001b[0;34m\u001b[0m\u001b[0;34m\u001b[0m\u001b[0m\n",
      "\u001b[0;32m~/anaconda3/lib/python3.6/site-packages/matplotlib/category.py\u001b[0m in \u001b[0;36m__call__\u001b[0;34m(self, x, pos)\u001b[0m\n\u001b[1;32m    152\u001b[0m             \u001b[0;32mreturn\u001b[0m \u001b[0;34m\"\"\u001b[0m\u001b[0;34m\u001b[0m\u001b[0;34m\u001b[0m\u001b[0m\n\u001b[1;32m    153\u001b[0m         r_mapping = {v: StrCategoryFormatter._text(k)\n\u001b[0;32m--> 154\u001b[0;31m                      for k, v in self._units.items()}\n\u001b[0m\u001b[1;32m    155\u001b[0m         \u001b[0;32mreturn\u001b[0m \u001b[0mr_mapping\u001b[0m\u001b[0;34m.\u001b[0m\u001b[0mget\u001b[0m\u001b[0;34m(\u001b[0m\u001b[0mint\u001b[0m\u001b[0;34m(\u001b[0m\u001b[0mnp\u001b[0m\u001b[0;34m.\u001b[0m\u001b[0mround\u001b[0m\u001b[0;34m(\u001b[0m\u001b[0mx\u001b[0m\u001b[0;34m)\u001b[0m\u001b[0;34m)\u001b[0m\u001b[0;34m,\u001b[0m \u001b[0;34m''\u001b[0m\u001b[0;34m)\u001b[0m\u001b[0;34m\u001b[0m\u001b[0;34m\u001b[0m\u001b[0m\n\u001b[1;32m    156\u001b[0m \u001b[0;34m\u001b[0m\u001b[0m\n",
      "\u001b[0;32m~/anaconda3/lib/python3.6/site-packages/matplotlib/category.py\u001b[0m in \u001b[0;36m<dictcomp>\u001b[0;34m(.0)\u001b[0m\n\u001b[1;32m    152\u001b[0m             \u001b[0;32mreturn\u001b[0m \u001b[0;34m\"\"\u001b[0m\u001b[0;34m\u001b[0m\u001b[0;34m\u001b[0m\u001b[0m\n\u001b[1;32m    153\u001b[0m         r_mapping = {v: StrCategoryFormatter._text(k)\n\u001b[0;32m--> 154\u001b[0;31m                      for k, v in self._units.items()}\n\u001b[0m\u001b[1;32m    155\u001b[0m         \u001b[0;32mreturn\u001b[0m \u001b[0mr_mapping\u001b[0m\u001b[0;34m.\u001b[0m\u001b[0mget\u001b[0m\u001b[0;34m(\u001b[0m\u001b[0mint\u001b[0m\u001b[0;34m(\u001b[0m\u001b[0mnp\u001b[0m\u001b[0;34m.\u001b[0m\u001b[0mround\u001b[0m\u001b[0;34m(\u001b[0m\u001b[0mx\u001b[0m\u001b[0;34m)\u001b[0m\u001b[0;34m)\u001b[0m\u001b[0;34m,\u001b[0m \u001b[0;34m''\u001b[0m\u001b[0;34m)\u001b[0m\u001b[0;34m\u001b[0m\u001b[0;34m\u001b[0m\u001b[0m\n\u001b[1;32m    156\u001b[0m \u001b[0;34m\u001b[0m\u001b[0m\n",
      "\u001b[0;32m~/anaconda3/lib/python3.6/site-packages/matplotlib/category.py\u001b[0m in \u001b[0;36m_text\u001b[0;34m(value)\u001b[0m\n\u001b[1;32m    159\u001b[0m         \"\"\"Converts text values into utf-8 or ascii strings.\n\u001b[1;32m    160\u001b[0m         \"\"\"\n\u001b[0;32m--> 161\u001b[0;31m         \u001b[0;32mif\u001b[0m \u001b[0misinstance\u001b[0m\u001b[0;34m(\u001b[0m\u001b[0mvalue\u001b[0m\u001b[0;34m,\u001b[0m \u001b[0mbytes\u001b[0m\u001b[0;34m)\u001b[0m\u001b[0;34m:\u001b[0m\u001b[0;34m\u001b[0m\u001b[0;34m\u001b[0m\u001b[0m\n\u001b[0m\u001b[1;32m    162\u001b[0m             \u001b[0mvalue\u001b[0m \u001b[0;34m=\u001b[0m \u001b[0mvalue\u001b[0m\u001b[0;34m.\u001b[0m\u001b[0mdecode\u001b[0m\u001b[0;34m(\u001b[0m\u001b[0mencoding\u001b[0m\u001b[0;34m=\u001b[0m\u001b[0;34m'utf-8'\u001b[0m\u001b[0;34m)\u001b[0m\u001b[0;34m\u001b[0m\u001b[0;34m\u001b[0m\u001b[0m\n\u001b[1;32m    163\u001b[0m         \u001b[0;32melif\u001b[0m \u001b[0;32mnot\u001b[0m \u001b[0misinstance\u001b[0m\u001b[0;34m(\u001b[0m\u001b[0mvalue\u001b[0m\u001b[0;34m,\u001b[0m \u001b[0mstr\u001b[0m\u001b[0;34m)\u001b[0m\u001b[0;34m:\u001b[0m\u001b[0;34m\u001b[0m\u001b[0;34m\u001b[0m\u001b[0m\n",
      "\u001b[0;31mKeyboardInterrupt\u001b[0m: "
     ]
    }
   ],
   "source": [
    "fig = plt.figure()\n",
    "plt.hexbin(star_content['metadata']['_rlndefocusu'],star_content['metadata']['_rlndefocusv'], mincnt=1)\n",
    "plt.title('defocus')\n",
    "plt.xlabel('Zu')\n",
    "plt.ylabel('Zv')\n",
    "plt.show()"
   ]
  },
  {
   "cell_type": "markdown",
   "metadata": {},
   "source": [
    "# Store star file with corresponding particles in hdf5 file"
   ]
  },
  {
   "cell_type": "code",
   "execution_count": 3,
   "metadata": {},
   "outputs": [],
   "source": [
    "mrcs_directory    = project_directory+'/Extract/extract_one_2dclass/Micrographs/'\n",
    "hdf5file = project_directory+'/Extract/one2dclass.h5'"
   ]
  },
  {
   "cell_type": "code",
   "execution_count": 5,
   "metadata": {
    "scrolled": false
   },
   "outputs": [
    {
     "name": "stdout",
     "output_type": "stream",
     "text": [
      "> Reading star file...\n",
      "Number of particles in this star file: 8278\n",
      "The entries in the returned dictionary are:\n",
      "data['metadata'].keys(): ['_rlncoordinatex', '_rlncoordinatey', '_rlnautopickfigureofmerit', '_rlnclassnumber', '_rlnanglepsi', '_rlnimagename', '_rlnmicrographname', '_rlnmagnification', '_rlndetectorpixelsize', '_rlnctfmaxresolution', '_rlnctffigureofmerit', '_rlnvoltage', '_rlndefocusu', '_rlndefocusv', '_rlndefocusangle', '_rlnsphericalaberration', '_rlnctfbfactor', '_rlnctfscalefactor', '_rlnphaseshift', '_rlnamplitudecontrast', '_rlnoriginx', '_rlnoriginy', '_rlngroupnumber', '_rlnanglerot', '_rlnangletilt', '_rlnnormcorrection', '_rlnloglikelicontribution', '_rlnmaxvalueprobdistribution', '_rlnnrofsignificantsamples']\n",
      "> Writin metadata to h5 file...\n",
      ">>> _rlncoordinatex\n",
      ">>> _rlncoordinatey\n",
      ">>> _rlnautopickfigureofmerit\n",
      ">>> _rlnclassnumber\n",
      ">>> _rlnanglepsi\n",
      ">>> _rlnimagename\n",
      ">>> _rlnmicrographname\n",
      ">>> _rlnmagnification\n",
      ">>> _rlndetectorpixelsize\n",
      ">>> _rlnctfmaxresolution\n",
      ">>> _rlnctffigureofmerit\n",
      ">>> _rlnvoltage\n",
      ">>> _rlndefocusu\n",
      ">>> _rlndefocusv\n",
      ">>> _rlndefocusangle\n",
      ">>> _rlnsphericalaberration\n",
      ">>> _rlnctfbfactor\n",
      ">>> _rlnctfscalefactor\n",
      ">>> _rlnphaseshift\n",
      ">>> _rlnamplitudecontrast\n",
      ">>> _rlnoriginx\n",
      ">>> _rlnoriginy\n",
      ">>> _rlngroupnumber\n",
      ">>> _rlnanglerot\n",
      ">>> _rlnangletilt\n",
      ">>> _rlnnormcorrection\n",
      ">>> _rlnloglikelicontribution\n",
      ">>> _rlnmaxvalueprobdistribution\n",
      ">>> _rlnnrofsignificantsamples\n",
      "> Writing 8278 particle images to h5 file...\n"
     ]
    },
    {
     "name": "stdout",
     "output_type": "stream",
     "text": [
      "[0/8278]  [10/8278]  [20/8278]  [30/8278]  [40/8278]  [50/8278]  [60/8278]  [70/8278]  [80/8278]  [90/8278]  [100/8278]  [110/8278]  [120/8278]  [130/8278]  [140/8278]  [150/8278]  [160/8278]  [170/8278]  [180/8278]  [190/8278]  [200/8278]  [210/8278]  [220/8278]  [230/8278]  [240/8278]  [250/8278]  [260/8278]  [270/8278]  [280/8278]  [290/8278]  [300/8278]  [310/8278]  [320/8278]  [330/8278]  [340/8278]  [350/8278]  [360/8278]  [370/8278]  [380/8278]  [390/8278]  [400/8278]  [410/8278]  [420/8278]  [430/8278]  [440/8278]  [450/8278]  [460/8278]  [470/8278]  [480/8278]  [490/8278]  [500/8278]  [510/8278]  [520/8278]  [530/8278]  [540/8278]  [550/8278]  [560/8278]  [570/8278]  [580/8278]  [590/8278]  [600/8278]  [610/8278]  [620/8278]  [630/8278]  [640/8278]  [650/8278]  [660/8278]  [670/8278]  [680/8278]  [690/8278]  [700/8278]  [710/8278]  [720/8278]  [730/8278]  [740/8278]  [750/8278]  [760/8278]  [770/8278]  [780/8278]  [790/8278]  [800/8278]  [810/8278]  [820/8278]  [830/8278]  [840/8278]  [850/8278]  [860/8278]  [870/8278]  [880/8278]  [890/8278]  [900/8278]  [910/8278]  [920/8278]  [930/8278]  [940/8278]  [950/8278]  [960/8278]  [970/8278]  [980/8278]  [990/8278]  [1000/8278]  [1010/8278]  [1020/8278]  [1030/8278]  [1040/8278]  [1050/8278]  [1060/8278]  [1070/8278]  [1080/8278]  [1090/8278]  [1100/8278]  [1110/8278]  [1120/8278]  [1130/8278]  [1140/8278]  [1150/8278]  [1160/8278]  [1170/8278]  [1180/8278]  [1190/8278]  [1200/8278]  [1210/8278]  [1220/8278]  [1230/8278]  [1240/8278]  [1250/8278]  [1260/8278]  [1270/8278]  [1280/8278]  [1290/8278]  [1300/8278]  [1310/8278]  [1320/8278]  [1330/8278]  [1340/8278]  [1350/8278]  [1360/8278]  [1370/8278]  [1380/8278]  [1390/8278]  [1400/8278]  [1410/8278]  [1420/8278]  [1430/8278]  [1440/8278]  [1450/8278]  [1460/8278]  [1470/8278]  [1480/8278]  [1490/8278]  [1500/8278]  [1510/8278]  [1520/8278]  [1530/8278]  [1540/8278]  [1550/8278]  [1560/8278]  [1570/8278]  [1580/8278]  [1590/8278]  [1600/8278]  [1610/8278]  [1620/8278]  [1630/8278]  [1640/8278]  [1650/8278]  [1660/8278]  [1670/8278]  [1680/8278]  [1690/8278]  [1700/8278]  [1710/8278]  [1720/8278]  [1730/8278]  [1740/8278]  [1750/8278]  [1760/8278]  [1770/8278]  [1780/8278]  [1790/8278]  [1800/8278]  [1810/8278]  [1820/8278]  [1830/8278]  [1840/8278]  [1850/8278]  [1860/8278]  [1870/8278]  [1880/8278]  [1890/8278]  [1900/8278]  [1910/8278]  [1920/8278]  [1930/8278]  [1940/8278]  [1950/8278]  [1960/8278]  [1970/8278]  [1980/8278]  [1990/8278]  [2000/8278]  [2010/8278]  [2020/8278]  [2030/8278]  [2040/8278]  [2050/8278]  [2060/8278]  [2070/8278]  [2080/8278]  [2090/8278]  [2100/8278]  [2110/8278]  [2120/8278]  [2130/8278]  [2140/8278]  [2150/8278]  [2160/8278]  [2170/8278]  [2180/8278]  [2190/8278]  [2200/8278]  [2210/8278]  [2220/8278]  [2230/8278]  [2240/8278]  [2250/8278]  [2260/8278]  [2270/8278]  [2280/8278]  [2290/8278]  [2300/8278]  [2310/8278]  [2320/8278]  [2330/8278]  [2340/8278]  [2350/8278]  [2360/8278]  [2370/8278]  [2380/8278]  [2390/8278]  [2400/8278]  [2410/8278]  [2420/8278]  [2430/8278]  [2440/8278]  [2450/8278]  [2460/8278]  [2470/8278]  [2480/8278]  [2490/8278]  [2500/8278]  [2510/8278]  [2520/8278]  [2530/8278]  [2540/8278]  [2550/8278]  [2560/8278]  [2570/8278]  [2580/8278]  [2590/8278]  [2600/8278]  [2610/8278]  [2620/8278]  [2630/8278]  [2640/8278]  [2650/8278]  [2660/8278]  [2670/8278]  [2680/8278]  [2690/8278]  [2700/8278]  [2710/8278]  [2720/8278]  [2730/8278]  [2740/8278]  [2750/8278]  [2760/8278]  [2770/8278]  [2780/8278]  [2790/8278]  [2800/8278]  [2810/8278]  [2820/8278]  [2830/8278]  [2840/8278]  [2850/8278]  [2860/8278]  [2870/8278]  [2880/8278]  [2890/8278]  [2900/8278]  [2910/8278]  [2920/8278]  [2930/8278]  [2940/8278]  [2950/8278]  [2960/8278]  [2970/8278]  [2980/8278]  [2990/8278]  [3000/8278]  [3010/8278]  [3020/8278]  [3030/8278]  [3040/8278]  [3050/8278]  [3060/8278]  [3070/8278]  [3080/8278]  [3090/8278]  [3100/8278]  [3110/8278]  [3120/8278]  [3130/8278]  [3140/8278]  [3150/8278]  [3160/8278]  [3170/8278]  [3180/8278]  [3190/8278]  [3200/8278]  [3210/8278]  [3220/8278]  [3230/8278]  [3240/8278]  [3250/8278]  [3260/8278]  [3270/8278]  [3280/8278]  [3290/8278]  [3300/8278]  [3310/8278]  [3320/8278]  [3330/8278]  [3340/8278]  [3350/8278]  [3360/8278]  [3370/8278]  [3380/8278]  [3390/8278]  [3400/8278]  [3410/8278]  [3420/8278]  [3430/8278]  [3440/8278]  [3450/8278]  [3460/8278]  [3470/8278]  [3480/8278]  [3490/8278]  [3500/8278]  [3510/8278]  [3520/8278]  [3530/8278]  [3540/8278]  [3550/8278]  [3560/8278]  [3570/8278]  [3580/8278]  [3590/8278]  [3600/8278]  [3610/8278]  [3620/8278]  [3630/8278]  [3640/8278]  [3650/8278]  [3660/8278]  [3670/8278]  [3680/8278]  [3690/8278]  [3700/8278]  [3710/8278]  [3720/8278]  [3730/8278]  [3740/8278]  [3750/8278]  [3760/8278]  [3770/8278]  [3780/8278]  [3790/8278]  [3800/8278]  [3810/8278]  [3820/8278]  [3830/8278]  [3840/8278]  [3850/8278]  [3860/8278]  [3870/8278]  [3880/8278]  [3890/8278]  [3900/8278]  [3910/8278]  [3920/8278]  [3930/8278]  [3940/8278]  [3950/8278]  [3960/8278]  [3970/8278]  [3980/8278]  [3990/8278]  [4000/8278]  [4010/8278]  [4020/8278]  [4030/8278]  [4040/8278]  [4050/8278]  [4060/8278]  [4070/8278]  [4080/8278]  [4090/8278]  [4100/8278]  [4110/8278]  [4120/8278]  [4130/8278]  [4140/8278]  [4150/8278]  [4160/8278]  [4170/8278]  [4180/8278]  [4190/8278]  [4200/8278]  [4210/8278]  [4220/8278]  [4230/8278]  [4240/8278]  [4250/8278]  [4260/8278]  [4270/8278]  [4280/8278]  [4290/8278]  [4300/8278]  [4310/8278]  [4320/8278]  [4330/8278]  [4340/8278]  [4350/8278]  [4360/8278]  [4370/8278]  [4380/8278]  [4390/8278]  [4400/8278]  [4410/8278]  [4420/8278]  [4430/8278]  [4440/8278]  [4450/8278]  [4460/8278]  [4470/8278]  [4480/8278]  [4490/8278]  [4500/8278]  [4510/8278]  [4520/8278]  [4530/8278]  [4540/8278]  [4550/8278]  [4560/8278]  [4570/8278]  [4580/8278]  [4590/8278]  [4600/8278]  [4610/8278]  [4620/8278]  [4630/8278]  [4640/8278]  [4650/8278]  [4660/8278]  [4670/8278]  [4680/8278]  [4690/8278]  [4700/8278]  [4710/8278]  [4720/8278]  [4730/8278]  [4740/8278]  [4750/8278]  [4760/8278]  [4770/8278]  [4780/8278]  [4790/8278]  [4800/8278]  [4810/8278]  [4820/8278]  [4830/8278]  [4840/8278]  [4850/8278]  [4860/8278]  [4870/8278]  [4880/8278]  [4890/8278]  [4900/8278]  [4910/8278]  [4920/8278]  [4930/8278]  [4940/8278]  [4950/8278]  [4960/8278]  [4970/8278]  [4980/8278]  [4990/8278]  [5000/8278]  [5010/8278]  [5020/8278]  [5030/8278]  [5040/8278]  [5050/8278]  [5060/8278]  [5070/8278]  [5080/8278]  [5090/8278]  [5100/8278]  [5110/8278]  [5120/8278]  [5130/8278]  [5140/8278]  [5150/8278]  [5160/8278]  [5170/8278]  [5180/8278]  [5190/8278]  [5200/8278]  [5210/8278]  [5220/8278]  [5230/8278]  [5240/8278]  [5250/8278]  [5260/8278]  [5270/8278]  [5280/8278]  [5290/8278]  [5300/8278]  [5310/8278]  [5320/8278]  [5330/8278]  [5340/8278]  [5350/8278]  [5360/8278]  [5370/8278]  [5380/8278]  [5390/8278]  [5400/8278]  [5410/8278]  [5420/8278]  [5430/8278]  [5440/8278]  [5450/8278]  [5460/8278]  [5470/8278]  [5480/8278]  [5490/8278]  [5500/8278]  [5510/8278]  [5520/8278]  [5530/8278]  [5540/8278]  [5550/8278]  [5560/8278]  [5570/8278]  [5580/8278]  [5590/8278]  [5600/8278]  [5610/8278]  [5620/8278]  [5630/8278]  [5640/8278]  [5650/8278]  [5660/8278]  [5670/8278]  [5680/8278]  [5690/8278]  [5700/8278]  [5710/8278]  [5720/8278]  [5730/8278]  [5740/8278]  [5750/8278]  [5760/8278]  [5770/8278]  [5780/8278]  [5790/8278]  [5800/8278]  [5810/8278]  [5820/8278]  [5830/8278]  [5840/8278]  [5850/8278]  [5860/8278]  [5870/8278]  [5880/8278]  [5890/8278]  [5900/8278]  [5910/8278]  [5920/8278]  [5930/8278]  [5940/8278]  [5950/8278]  [5960/8278]  [5970/8278]  [5980/8278]  [5990/8278]  [6000/8278]  [6010/8278]  [6020/8278]  [6030/8278]  [6040/8278]  [6050/8278]  [6060/8278]  [6070/8278]  [6080/8278]  [6090/8278]  [6100/8278]  [6110/8278]  [6120/8278]  [6130/8278]  [6140/8278]  [6150/8278]  [6160/8278]  [6170/8278]  [6180/8278]  [6190/8278]  [6200/8278]  [6210/8278]  [6220/8278]  [6230/8278]  [6240/8278]  [6250/8278]  [6260/8278]  [6270/8278]  [6280/8278]  [6290/8278]  [6300/8278]  [6310/8278]  [6320/8278]  [6330/8278]  [6340/8278]  [6350/8278]  [6360/8278]  [6370/8278]  [6380/8278]  "
     ]
    },
    {
     "name": "stdout",
     "output_type": "stream",
     "text": [
      "[6390/8278]  [6400/8278]  [6410/8278]  [6420/8278]  [6430/8278]  [6440/8278]  [6450/8278]  [6460/8278]  [6470/8278]  [6480/8278]  [6490/8278]  [6500/8278]  [6510/8278]  [6520/8278]  [6530/8278]  [6540/8278]  [6550/8278]  [6560/8278]  [6570/8278]  [6580/8278]  [6590/8278]  [6600/8278]  [6610/8278]  [6620/8278]  [6630/8278]  [6640/8278]  [6650/8278]  [6660/8278]  [6670/8278]  [6680/8278]  [6690/8278]  [6700/8278]  [6710/8278]  [6720/8278]  [6730/8278]  [6740/8278]  [6750/8278]  [6760/8278]  [6770/8278]  [6780/8278]  [6790/8278]  [6800/8278]  [6810/8278]  [6820/8278]  [6830/8278]  [6840/8278]  [6850/8278]  [6860/8278]  [6870/8278]  [6880/8278]  [6890/8278]  [6900/8278]  [6910/8278]  [6920/8278]  [6930/8278]  [6940/8278]  [6950/8278]  [6960/8278]  [6970/8278]  [6980/8278]  [6990/8278]  [7000/8278]  [7010/8278]  [7020/8278]  [7030/8278]  [7040/8278]  [7050/8278]  [7060/8278]  [7070/8278]  [7080/8278]  [7090/8278]  [7100/8278]  [7110/8278]  [7120/8278]  [7130/8278]  [7140/8278]  [7150/8278]  [7160/8278]  [7170/8278]  [7180/8278]  [7190/8278]  [7200/8278]  [7210/8278]  [7220/8278]  [7230/8278]  [7240/8278]  [7250/8278]  [7260/8278]  [7270/8278]  [7280/8278]  [7290/8278]  [7300/8278]  [7310/8278]  [7320/8278]  [7330/8278]  [7340/8278]  [7350/8278]  [7360/8278]  [7370/8278]  [7380/8278]  [7390/8278]  [7400/8278]  [7410/8278]  [7420/8278]  [7430/8278]  [7440/8278]  [7450/8278]  [7460/8278]  [7470/8278]  [7480/8278]  [7490/8278]  [7500/8278]  [7510/8278]  [7520/8278]  [7530/8278]  [7540/8278]  [7550/8278]  [7560/8278]  [7570/8278]  [7580/8278]  [7590/8278]  [7600/8278]  [7610/8278]  [7620/8278]  [7630/8278]  [7640/8278]  [7650/8278]  [7660/8278]  [7670/8278]  [7680/8278]  [7690/8278]  [7700/8278]  [7710/8278]  [7720/8278]  [7730/8278]  [7740/8278]  [7750/8278]  [7760/8278]  [7770/8278]  [7780/8278]  [7790/8278]  [7800/8278]  [7810/8278]  [7820/8278]  [7830/8278]  [7840/8278]  [7850/8278]  [7860/8278]  [7870/8278]  [7880/8278]  [7890/8278]  [7900/8278]  [7910/8278]  [7920/8278]  [7930/8278]  [7940/8278]  [7950/8278]  [7960/8278]  [7970/8278]  [7980/8278]  [7990/8278]  [8000/8278]  [8010/8278]  [8020/8278]  [8030/8278]  [8040/8278]  [8050/8278]  [8060/8278]  [8070/8278]  [8080/8278]  [8090/8278]  [8100/8278]  [8110/8278]  [8120/8278]  [8130/8278]  [8140/8278]  [8150/8278]  [8160/8278]  [8170/8278]  [8180/8278]  [8190/8278]  [8200/8278]  [8210/8278]  [8220/8278]  [8230/8278]  [8240/8278]  [8250/8278]  [8260/8278]  [8270/8278]  \n",
      "> Done! Output at /Users/fpoitevi/gdrive/cryoEM/Projects/20181005-rib-TEM4/processing//Extract/one2dclass.h5\n"
     ]
    }
   ],
   "source": [
    "cryoemio.star2hdf5_serial(starfile, hdf5file, mrcs_directory)"
   ]
  },
  {
   "cell_type": "code",
   "execution_count": 6,
   "metadata": {},
   "outputs": [],
   "source": [
    "import h5py\n",
    "data = h5py.File(hdf5file, 'r') "
   ]
  },
  {
   "cell_type": "code",
   "execution_count": 7,
   "metadata": {},
   "outputs": [],
   "source": [
    "data.keys()\n",
    "particles = data['particles']"
   ]
  },
  {
   "cell_type": "code",
   "execution_count": null,
   "metadata": {},
   "outputs": [],
   "source": [
    "plt.imshow(np.mean(particles, axis=0))"
   ]
  },
  {
   "cell_type": "code",
   "execution_count": null,
   "metadata": {},
   "outputs": [],
   "source": []
  }
 ],
 "metadata": {
  "kernelspec": {
   "display_name": "Python 3",
   "language": "python",
   "name": "python3"
  },
  "language_info": {
   "codemirror_mode": {
    "name": "ipython",
    "version": 3
   },
   "file_extension": ".py",
   "mimetype": "text/x-python",
   "name": "python",
   "nbconvert_exporter": "python",
   "pygments_lexer": "ipython3",
   "version": "3.6.7"
  }
 },
 "nbformat": 4,
 "nbformat_minor": 2
}
